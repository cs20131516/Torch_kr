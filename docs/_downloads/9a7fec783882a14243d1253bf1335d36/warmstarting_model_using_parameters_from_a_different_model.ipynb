{
  "cells": [
    {
      "cell_type": "code",
      "execution_count": null,
      "metadata": {
        "collapsed": false
      },
      "outputs": [],
      "source": [
        "%matplotlib inline"
      ]
    },
    {
      "cell_type": "markdown",
      "metadata": {},
      "source": [
        "\nPyTorch\uc5d0\uc11c \ub2e4\ub978 \ubaa8\ub378\uc758 \ub9e4\uac1c\ubcc0\uc218\ub97c \uc0ac\uc6a9\ud558\uc5ec \ube60\ub974\uac8c \ubaa8\ub378 \uc2dc\uc791\ud558\uae30(warmstart)\n===========================================================================\n\ubaa8\ub378\uc744 \ubd80\ubd84\uc801\uc73c\ub85c \ubd88\ub7ec\uc624\uac70\ub098, \ud639\uc740 \ubd80\ubd84\uc801\uc778 \ubaa8\ub378\uc744 \ubd88\ub7ec\uc624\ub294 \uac83\uc740\n\ud559\uc2b5 \uc804\uc774(Transfer learning)\ub098 \ubcf5\uc7a1\ud55c \ubaa8\ub378\uc744 \uc0c8\ub85c \ud559\uc2b5\ud560 \ub54c \uc790\uc8fc \uc811\ud558\ub294\n\uc2dc\ub098\ub9ac\uc624\uc785\ub2c8\ub2e4. \ud559\uc2b5\ub41c \ub9e4\uac1c\ubcc0\uc218\ub97c \ud65c\uc6a9\ud558\uba74 \ud559\uc2b5 \uacfc\uc815\uc744 \ube60\ub974\uac8c\n\uc2dc\uc791(warmstart)\ud560 \uc218 \uc788\uc73c\uba70, \uadf8\ub7ec\uba74 \ubaa8\ub378\uc744 \ucc98\uc74c\ubd80\ud130 \ud6c8\ub828\uc2dc\ud0ac \ub54c\ubcf4\ub2e4 \ud6e8\uc52c\n\uc77c\ucc0d \uc218\ub834\ud558\ub9ac\ub77c \uae30\ub300\ud560 \uc218 \uc788\uc2b5\ub2c8\ub2e4. \uc774\ub294 \ud65c\uc6a9\ud560 \uc218 \uc788\ub294 \ub9e4\uac1c\ubcc0\uc218\uac00 \uc5bc\ub9c8 \uc548\n\ub420 \ub54c\uc5d0\ub3c4 \ub9c8\ucc2c\uac00\uc9c0\uc785\ub2c8\ub2e4.\n\n\ub3c4\uc785\n----\n\uc77c\ubd80 \ud0a4\uac00 \ub204\ub77d\ub41c \ubd80\ubd84\uc801\uc778 ``state_dict`` \ub97c \ubd88\ub7ec\uc62c \ub54c\ub4e0, \uc544\ub2c8\uba74 \uacb0\uacfc\ub97c\n\uc800\uc7a5\ud560 \ubaa8\ub378\ubcf4\ub2e4 \ud0a4\uac00 \ub9ce\uc740 ``state_dict`` \ub97c \ubd88\ub7ec\uc62c \ub54c\ub4e0,\n``load_state_dict()`` \ud568\uc218\uc758 \uc778\uc790\uc778 strict \ub97c False \ub85c \ub450\uba74 \ub9e4\uce58\ub418\uc9c0\n\uc54a\ub294 \ud0a4\ub97c \ubb34\uc2dc\ud558\uac8c\ub054 \ud560 \uc218 \uc788\uc2b5\ub2c8\ub2e4. \uc774 \ub808\uc2dc\ud53c\uc5d0\uc11c\ub294 \ub2e4\ub978 \ubaa8\ub378\uc758\n\ub9e4\uac1c\ubcc0\uc218\ub97c \uc0ac\uc6a9\ud558\uc5ec \ubaa8\ub378\uc744 \ube60\ub974\uac8c \uc2dc\uc791\ud558\ub294 \uc2e4\ud5d8\uc744 \uc9c4\ud589\ud574 \ubcf4\ub824 \ud569\ub2c8\ub2e4.\n\n\uc124\uc815\n----\n\uc2dc\uc791\uc5d0 \uc55e\uc11c\uc11c, ``torch`` \uac00 \uc900\ube44\ub418\uc5b4 \uc788\uc9c0 \uc54a\ub2e4\uba74 \uc124\uce58\ud574\uc57c \ud569\ub2c8\ub2e4.\n\n::\n\n   pip install torch\n   \n"
      ]
    },
    {
      "cell_type": "markdown",
      "metadata": {},
      "source": [
        "\ub2e8\uacc4\n----\n\n1. \ub370\uc774\ud130\ub97c \ubd88\ub7ec\uc624\ub294\ub370 \ud544\uc694\ud55c \ubaa8\ub4e0 \ub77c\uc774\ube0c\ub7ec\ub9ac\ub97c import \ud569\ub2c8\ub2e4\n2. \uc2e0\uacbd\ub9dd A\uc640 B\ub97c \uc815\uc758\ud558\uace0 \ucd08\uae30\ud654\ud569\ub2c8\ub2e4\n3. \ubaa8\ub378 A\ub97c \uc800\uc7a5\ud569\ub2c8\ub2e4\n4. \ubaa8\ub378 B\ub85c \ubaa8\ub378\uc744 \ubd88\ub7ec\uc635\ub2c8\ub2e4\n\n1. \ub370\uc774\ud130\ub97c \ubd88\ub7ec\uc62c \ub54c \ud544\uc694\ud55c \ub77c\uc774\ube0c\ub7ec\ub9ac import \ud558\uae30\n~~~~~~~~~~~~~~~~~~~~~~~~~~~~~~~~~~~~~~~~~~~~~~~~~~~~~~~~~~\n\n\uc774 \ub808\uc2dc\ud53c\uc5d0\uc11c\ub294 ``torch`` \uc640, \uadf8 \ud558\uc704 \ud328\ud0a4\uc9c0\uc778 ``torch.nn`` \ubc0f\n``torch.optim`` \uc744 \uc0ac\uc6a9\ud558\uaca0\uc2b5\ub2c8\ub2e4.\n\n\n"
      ]
    },
    {
      "cell_type": "code",
      "execution_count": null,
      "metadata": {
        "collapsed": false
      },
      "outputs": [],
      "source": [
        "import torch\nimport torch.nn as nn\nimport torch.optim as optim"
      ]
    },
    {
      "cell_type": "markdown",
      "metadata": {},
      "source": [
        "2. \uc2e0\uacbd\ub9dd A\uc640 B \uc815\uc758\ud558\uace0 \ucd08\uae30\ud654\ud558\uae30\n~~~~~~~~~~~~~~~~~~~~~~~~~~~~~~~~~~~\n\n\ud558\ub098\uc758 \uc608\ub85c\uc368 \uc774\ubbf8\uc9c0\ub97c \ud559\uc2b5\ud558\ub294 \uc2e0\uacbd\ub9dd\uc744 \ub9cc\ub4e4\uc5b4 \ubcf4\ub824 \ud569\ub2c8\ub2e4. \uc774\uc5d0 \ub300\ud574\n\uc880 \ub354 \uc54c\uc544\ubcf4\uace0 \uc2f6\ub2e4\uba74 \uc2e0\uacbd\ub9dd \uc815\uc758\ud558\uae30\uc5d0 \ub300\ud55c \ub808\uc2dc\ud53c\ub97c \ucc38\uace0\ud558\uc2dc\uae30\n\ubc14\ub78d\ub2c8\ub2e4. \uc5ec\uae30\uc11c\ub294 \uc2e0\uacbd\ub9dd\uc744 \ub450 \uac1c \ub9cc\ub4e4\ub824\uace0 \ud558\uba70, \uc2e0\uacbd\ub9dd A\uc758\ub9e4\uac1c\ubcc0\uc218\ub97c\n\uc2e0\uacbd\ub9dd B\ub85c \ubd88\ub7ec\uc624\ub824 \ud569\ub2c8\ub2e4.\n\n\n"
      ]
    },
    {
      "cell_type": "code",
      "execution_count": null,
      "metadata": {
        "collapsed": false
      },
      "outputs": [],
      "source": [
        "class NetA(nn.Module):\n    def __init__(self):\n        super(NetA, self).__init__()\n        self.conv1 = nn.Conv2d(3, 6, 5)\n        self.pool = nn.MaxPool2d(2, 2)\n        self.conv2 = nn.Conv2d(6, 16, 5)\n        self.fc1 = nn.Linear(16 * 5 * 5, 120)\n        self.fc2 = nn.Linear(120, 84)\n        self.fc3 = nn.Linear(84, 10)\n\n    def forward(self, x):\n        x = self.pool(F.relu(self.conv1(x)))\n        x = self.pool(F.relu(self.conv2(x)))\n        x = x.view(-1, 16 * 5 * 5)\n        x = F.relu(self.fc1(x))\n        x = F.relu(self.fc2(x))\n        x = self.fc3(x)\n        return x\n\nnetA = NetA()\n\nclass NetB(nn.Module):\n    def __init__(self):\n        super(NetB, self).__init__()\n        self.conv1 = nn.Conv2d(3, 6, 5)\n        self.pool = nn.MaxPool2d(2, 2)\n        self.conv2 = nn.Conv2d(6, 16, 5)\n        self.fc1 = nn.Linear(16 * 5 * 5, 120)\n        self.fc2 = nn.Linear(120, 84)\n        self.fc3 = nn.Linear(84, 10)\n\n    def forward(self, x):\n        x = self.pool(F.relu(self.conv1(x)))\n        x = self.pool(F.relu(self.conv2(x)))\n        x = x.view(-1, 16 * 5 * 5)\n        x = F.relu(self.fc1(x))\n        x = F.relu(self.fc2(x))\n        x = self.fc3(x)\n        return x\n\nnetB = NetB()"
      ]
    },
    {
      "cell_type": "markdown",
      "metadata": {},
      "source": [
        "3. \ubaa8\ub378 A \uc800\uc7a5\ud558\uae30\n~~~~~~~~~~~~~~~~~~\n\n\n"
      ]
    },
    {
      "cell_type": "code",
      "execution_count": null,
      "metadata": {
        "collapsed": false
      },
      "outputs": [],
      "source": [
        "# \ubaa8\ub378\uc744 \uc800\uc7a5\ud560 \uacbd\ub85c\ub97c \uc9c0\uc815\ud574 \uc90d\ub2c8\ub2e4\nPATH = \"model.pt\"\n\ntorch.save(netA.state_dict(), PATH)"
      ]
    },
    {
      "cell_type": "markdown",
      "metadata": {},
      "source": [
        "4. \ubaa8\ub378 B\ub85c \ubd88\ub7ec\uc624\uae30\n~~~~~~~~~~~~~~~~~~~~\n\n\ud55c \ub808\uc774\uc5b4\uc758 \ub9e4\uac1c\ubcc0\uc218\ub97c \ub2e4\ub978 \ub808\uc774\uc5b4\ub85c \ubd88\ub7ec\uc624\ub824 \ud558\ub294\ub370 \uc77c\ubd80 \ud0a4\uac00 \ub9e4\uce58\ub418\uc9c0\n\uc54a\ub294 \uc0c1\ud669\uc774\ub77c\uace0 \ud574 \ubd05\uc2dc\ub2e4. \uadf8\ub7f4 \ub54c\ub294 \ubd88\ub7ec\uc624\ub824 \ud558\ub294 state_dict \uc758\n\ub9e4\uac1c\ubcc0\uc218 \ud0a4\uc758 \uc774\ub984\uc744 \ubc14\uafd4\uc11c, \ubd88\ub7ec\uc628 \ubaa8\ub378\uc744 \uc800\uc7a5\ud558\ub824\ub294 \ubaa8\ub378\uc758 \ud0a4\uc640\n\ub9e4\uce58\ub418\ub3c4\ub85d \ud574 \uc8fc\uba74 \ub429\ub2c8\ub2e4.\n\n\n"
      ]
    },
    {
      "cell_type": "code",
      "execution_count": null,
      "metadata": {
        "collapsed": false
      },
      "outputs": [],
      "source": [
        "netB.load_state_dict(torch.load(PATH), strict=False)"
      ]
    },
    {
      "cell_type": "markdown",
      "metadata": {},
      "source": [
        "\ubaa8\ub4e0 \ud0a4\uac00 \uc131\uacf5\uc801\uc73c\ub85c \ub9e4\uce58\ub418\uc5c8\uc74c\uc744 \ud655\uc778\ud560 \uc218 \uc788\uc744 \uac83\uc785\ub2c8\ub2e4!\n\n\ucd95\ud558\ud569\ub2c8\ub2e4! \uc5ec\ub7ec\ubd84\uc740 PyTorch\uc5d0\uc11c \ub2e4\ub978 \ubaa8\ub378\uc758 \ub9e4\uac1c\ubcc0\uc218\ub97c \uc0ac\uc6a9\ud558\uc5ec\n\ubaa8\ub378\uc744 \ube60\ub974\uac8c \uc2dc\uc791\ud558\ub294 \ubc29\ubc95\uc5d0 \ub300\ud574 \uc0b4\ud3b4\ubcf4\uc558\uc2b5\ub2c8\ub2e4.\n\n\uc880 \ub354 \uc54c\uc544\ubcf4\uae30\n--------------\n\n\uacc4\uc18d \uacf5\ubd80\ud574 \ub098\uac00\uba74\uc11c \ub2e4\uc74c \ub450 \ub808\uc2dc\ud53c\ub97c \uc0b4\ud3b4\ubcf4\uae30\ub97c \uad8c\ud569\ub2c8\ub2e4.\n\n- `PyTorch\uc5d0\uc11c \uc5ec\ub7ec \ubaa8\ub378\uc744 \ud558\ub098\uc758 \ud30c\uc77c\uc5d0 \uc800\uc7a5\ud558\uae30 & \ubd88\ub7ec\uc624\uae30 <https://tutorials.pytorch.kr/recipes/recipes/saving_multiple_models_in_one_file.html>`__\n- `PyTorch\uc5d0\uc11c \ub2e4\uc591\ud55c \uc7a5\uce58 \uac04 \ubaa8\ub378\uc744 \uc800\uc7a5\ud558\uace0 \ubd88\ub7ec\uc624\uae30 <https://tutorials.pytorch.kr/recipes/recipes/save_load_across_devices.html>`__\n\n"
      ]
    }
  ],
  "metadata": {
    "kernelspec": {
      "display_name": "Python 3",
      "language": "python",
      "name": "python3"
    },
    "language_info": {
      "codemirror_mode": {
        "name": "ipython",
        "version": 3
      },
      "file_extension": ".py",
      "mimetype": "text/x-python",
      "name": "python",
      "nbconvert_exporter": "python",
      "pygments_lexer": "ipython3",
      "version": "3.9.13"
    }
  },
  "nbformat": 4,
  "nbformat_minor": 0
}