{
  "cells": [
    {
      "cell_type": "code",
      "execution_count": null,
      "metadata": {
        "collapsed": false
      },
      "outputs": [],
      "source": [
        "%matplotlib inline"
      ]
    },
    {
      "cell_type": "markdown",
      "metadata": {},
      "source": [
        "\n**Introduction** ||\n`Tensors <tensors_deeper_tutorial.html>`_ ||\n`Autograd <autogradyt_tutorial.html>`_ ||\n`Building Models <modelsyt_tutorial.html>`_ ||\n`TensorBoard Support <tensorboardyt_tutorial.html>`_ ||\n`Training Models <trainingyt.html>`_ ||\n`Model Understanding <captumyt.html>`_\n\nPyTorch \uc18c\uac1c\n=======================\n\n\uc544\ub798 \uc601\uc0c1\uc774\ub098 `youtube <https://www.youtube.com/watch?v=IC0_FRiX-sw>`__ \ub97c \ucc38\uace0\ud558\uc138\uc694.\n\n.. raw:: html\n\n   <div style=\"margin-top:10px; margin-bottom:10px;\">\n     <iframe width=\"560\" height=\"315\" src=\"https://www.youtube.com/embed/IC0_FRiX-sw\" frameborder=\"0\" allow=\"accelerometer; encrypted-media; gyroscope; picture-in-picture\" allowfullscreen></iframe>\n   </div>\n\nPyTorch Tensors\n---------------\n\n`03:50 <https://www.youtube.com/watch?v=IC0_FRiX-sw&t=230s>`__ \uc5d0 \uc2dc\uc791\ud558\ub294 \uc601\uc0c1\uc744 \uc2dc\uccad\ud558\uc138\uc694.\n\nPyTorch\ub97c import\ud560 \uac83\uc785\ub2c8\ub2e4. \n"
      ]
    },
    {
      "cell_type": "code",
      "execution_count": null,
      "metadata": {
        "collapsed": false
      },
      "outputs": [],
      "source": [
        "import torch"
      ]
    },
    {
      "cell_type": "markdown",
      "metadata": {},
      "source": [
        "\uba87 \uac00\uc9c0 \uae30\ubcf8\uc801\uc778 tensor \uc870\uc791\uc744 \uc54c\uc544\ubcf4\uaca0\uc2b5\ub2c8\ub2e4.\n\ucc98\uc74c\uc73c\ub85c, tensor\ub4e4\uc744 \ub9cc\ub4dc\ub294 \uba87 \uac00\uc9c0 \ubc29\ubc95\uc744 \uc0b4\ud3b4\ubcf4\uaca0\uc2b5\ub2c8\ub2e4:\n\n\n"
      ]
    },
    {
      "cell_type": "code",
      "execution_count": null,
      "metadata": {
        "collapsed": false
      },
      "outputs": [],
      "source": [
        "z = torch.zeros(5, 3)\nprint(z)\nprint(z.dtype)"
      ]
    },
    {
      "cell_type": "markdown",
      "metadata": {},
      "source": [
        "\uc704\uc5d0\uc11c, 0\uc73c\ub85c \ucc44\uc6cc\uc9c4 5x3 \ud589\ub82c\uc744 \ub9cc\ub4e4\uace0, \ud30c\uc774\ud1a0\uce58\uc758 \uae30\ubcf8 \ud0c0\uc785\uc778, \n0\uc73c\ub85c \ucc44\uc6cc\uc9c4 32\ube44\ud2b8 \ubd80\ub3d9\uc18c\uc218\uc810 \ub370\uc774\ud130 \ud0c0\uc785\uc778\uc9c0 \ud655\uc778\ud569\ub2c8\ub2e4.\n\n\n\ub9cc\uc57d \uc815\uc218\ud615 \ub370\uc774\ud130 \ud0c0\uc785\uc744 \uc6d0\ud55c\ub2e4\uba74 \uae30\ubcf8\uac12\uc744 \uc7ac\uc815\uc758\ud560 \uc218 \uc788\uc2b5\ub2c8\ub2e4:\n\n\n"
      ]
    },
    {
      "cell_type": "code",
      "execution_count": null,
      "metadata": {
        "collapsed": false
      },
      "outputs": [],
      "source": [
        "i = torch.ones((5, 3), dtype=torch.int16)\nprint(i)"
      ]
    },
    {
      "cell_type": "markdown",
      "metadata": {},
      "source": [
        "dtype\uc758 \uae30\ubcf8\uac12\uc744 \ubcc0\uacbd\ud558\uba74 tensor\uac00 \ucd9c\ub825\ub420 \ub54c \n\ub370\uc774\ud130 \ud0c0\uc785\uc744 \ud655\uc778\ud560 \uc218 \uc788\uc2b5\ub2c8\ub2e4.\n\n\n\ud559\uc2b5 \uac00\uc911\uce58\ub97c \ubb34\uc791\uc704\ub85c \ucd08\uae30\ud654\ud558\ub294 \uac83\uc774 \uc77c\ubc18\uc801\uc774\uba70, \n\uc885\uc885 \uacb0\uacfc\uc758 \uc7ac\ud604\uc131\uc744 \uc704\ud574 PRNG\uc5d0 \ub300\ud55c \ud2b9\uc815 \uc2dc\ub4dc\ub85c \ucd08\uae30\ud654\ud569\ub2c8\ub2e4.\n\n\n"
      ]
    },
    {
      "cell_type": "code",
      "execution_count": null,
      "metadata": {
        "collapsed": false
      },
      "outputs": [],
      "source": [
        "torch.manual_seed(1729)\nr1 = torch.rand(2, 2)\nprint('\ub79c\ub364 tensor \uac12:')\nprint(r1)\n\nr2 = torch.rand(2, 2)\nprint('\\n\ub2e4\ub978 \ub79c\ub364 tensor \uac12:')\nprint(r2) # \uc0c8\ub85c\uc6b4 2x2 \ud589\ub82c \uac12\n\ntorch.manual_seed(1729)\nr3 = torch.rand(2, 2)\nprint('\\nr1\uacfc \uc77c\uce58:')\nprint(r3) # \ub3d9\uc77c\ud55c \uc2dc\ub4dc\uac12\uc73c\ub85c \uc778\ud574 r1 \uac12\uc774 \ubc18\ubcf5\ub418\uc5b4 \ud589\ub82c\uac12\uc73c\ub85c \ub098\uc635\ub2c8\ub2e4."
      ]
    },
    {
      "cell_type": "markdown",
      "metadata": {},
      "source": [
        "PyTorch tensor\ub294 \uc0b0\uc220 \uc5f0\uc0b0\uc744 \uc9c1\uad00\uc801\uc73c\ub85c \uc218\ud589\ud569\ub2c8\ub2e4.\n\uc720\uc0ac\ud55c shape\uc758 tensor\ub4e4\uc774 \ub354\ud558\uac70\ub098 \uacf1\ud558\uac70\ub098 \uadf8 \uc678 \uc5f0\uc0b0\ub3c4 \uac00\ub2a5\ud569\ub2c8\ub2e4.\n\uc2a4\uce7c\ub77c\ub97c \uc0ac\uc6a9\ud55c \uc5f0\uc0b0\uc740 tensor\uc5d0 \ubd84\uc0b0\ub429\ub2c8\ub2e4.\n\n\n"
      ]
    },
    {
      "cell_type": "code",
      "execution_count": null,
      "metadata": {
        "collapsed": false
      },
      "outputs": [],
      "source": [
        "ones = torch.ones(2, 3)\nprint(ones)\n\ntwos = torch.ones(2, 3) * 2 # \ubaa8\ub4e0 \uc6d0\uc18c\uc5d0 2\ub97c \uacf1\ud569\ub2c8\ub2e4.\nprint(twos)\n\nthrees = ones + twos       # shape\uc774 \ube44\uc2b7\ud558\uae30 \ub54c\ubb38\uc5d0 \ub354\ud560 \uc218 \uc788\uc2b5\ub2c8\ub2e4.\nprint(threes)              # tensor\uc758 \uc6d0\uc18c\ubcc4 \ub354\ud55c \uac12\uc774 \uacb0\uacfc\ub85c \ub098\uc635\ub2c8\ub2e4.\nprint(threes.shape)        # \uc785\ub825 tensor\uc640 \ub3d9\uc77c\ud55c \ucc28\uc6d0\uc744 \uac00\uc9c0\uace0 \uc788\uc2b5\ub2c8\ub2e4.\n\nr1 = torch.rand(2, 3)\nr2 = torch.rand(3, 2)\n# \ub7f0\ud0c0\uc784 \uc624\ub958\ub97c \ubc1c\uc0dd\uc2dc\ud0a4\ub824\uba74 \uc544\ub798 \uc904\uc758 \uc8fc\uc11d\uc744 \ud574\uc81c\ud569\ub2c8\ub2e4.\n# r3 = r1 + r2"
      ]
    },
    {
      "cell_type": "markdown",
      "metadata": {},
      "source": [
        "\ub2e4\uc74c\uc740 \uc0ac\uc6a9 \uac00\ub2a5\ud55c \uc791\uc740 \uc218\ud559 \uc5f0\uc0b0 \uc608\uc81c \uc785\ub2c8\ub2e4:\n\n\n"
      ]
    },
    {
      "cell_type": "code",
      "execution_count": null,
      "metadata": {
        "collapsed": false
      },
      "outputs": [],
      "source": [
        "r = (torch.rand(2, 2) - 0.5) * 2 # -1\uacfc 1 \uc0ac\uc774\uc758 \uac12\uc744 \uac00\uc9d1\ub2c8\ub2e4.\nprint('\ub79c\ub364 \ud589\ub82c\uac12, r:')\nprint(r)\n\n# \uc77c\ubc18\uc801\uc778 \uc218\ud559\uc801 \uc5f0\uc0b0\uc740 \ub2e4\uc74c\uacfc \uac19\uc774 \uc9c0\uc6d0\ub429\ub2c8\ub2e4:\nprint('\\nr\uc758 \uc808\ub300\uac12:')\nprint(torch.abs(r))\n\n# \uc0bc\uac01\ud568\uc218\ub97c \uc0ac\uc6a9\ud560 \uc218 \uc788\uc2b5\ub2c8\ub2e4:\nprint('\\nr\uc758 \uc5ed \uc0ac\uc778 \ud568\uc218:')\nprint(torch.asin(r))\n\n# \ud589\ub82c\uc2dd \ubc0f \ud2b9\uc774\uac12 \ubd84\ud574\uc640 \uac19\uc740 \uc120\ud615 \ub300\uc218 \uc5f0\uc0b0\uc744 \uc0ac\uc6a9\ud560 \uc218 \uc788\uc2b5\ub2c8\ub2e4.\nprint('\\nr\uc758 \ud589\ub82c\uc2dd:')\nprint(torch.det(r))\nprint('\\nr\uc758 \ud2b9\uc774\uac12 \ubd84\ud574:')\nprint(torch.svd(r))\n\n# \ud1b5\uacc4 \ubc0f \uc9d1\ud569 \uc5f0\uc0b0 \ub4f1\uc744 \uc0ac\uc6a9\ud560 \uc218 \uc788\uc2b5\ub2c8\ub2e4:\nprint('\\nr\uc758 \ud3c9\uade0 \ubc0f \ud45c\uc900\ud3b8\ucc28:')\nprint(torch.std_mean(r))\nprint('\\nr\uc758 \ucd5c\ub300\uac12:')\nprint(torch.max(r))"
      ]
    },
    {
      "cell_type": "markdown",
      "metadata": {},
      "source": [
        "GPU\uc5d0\uc11c \ubcd1\ub82c \uc5f0\uc0b0\uc744 \uc704\ud574 \uc124\uc815\ud558\ub294 \ubc29\ubc95\uc744 \ud3ec\ud568\ud558\uc5ec \nPyTorch tensor\uc758 \uac15\ub825\ud568\uc5d0 \ub300\ud574 \uc54c\uc544\uc57c \ud560 \uac83\uc774 \uc788\uc2b5\ub2c8\ub2e4.\n\uc774 \ub0b4\uc6a9\uc740 \ub2e4\ub978 \uc601\uc0c1\uc5d0\uc11c \uc790\uc138\ud788 \uc0b4\ud3b4\ubcf4\uaca0\uc2b5\ub2c8\ub2e4.\n\nPyTorch Models\n--------------\n\nPyTorch Model \uc601\uc0c1\uc740 `10:00 <https://www.youtube.com/watch?v=IC0_FRiX-sw&t=600s>`__ \n\uc5d0 \uc2dc\uc791\ud569\ub2c8\ub2e4.\n\nPyTorch\uc5d0\uc11c Model\uc744 \ud45c\ud604\ud560 \uc218 \uc788\ub294 \ubc29\ubc95\uc5d0 \ub300\ud574 \uc54c\uc544\ubcf4\uaca0\uc2b5\ub2c8\ub2e4.\n\n\n"
      ]
    },
    {
      "cell_type": "code",
      "execution_count": null,
      "metadata": {
        "collapsed": false
      },
      "outputs": [],
      "source": [
        "import torch                     # PyTorch \ubaa8\ub4e0 \ubaa8\ub4c8 \uac00\uc838\uc624\uae30\nimport torch.nn as nn            # torch.nn.Module\uc758 \uacbd\uc6b0 PyTorch model\uc758 \ubd80\ubaa8 \uac1d\uccb4\nimport torch.nn.functional as F  # \ud65c\uc131\ud654 \ud568\uc218 \ubaa8\ub4c8 \uac00\uc838\uc624\uae30"
      ]
    },
    {
      "cell_type": "markdown",
      "metadata": {},
      "source": [
        ".. figure:: /_static/img/mnist.png\n   :alt: le-net-5 diagram\n\n*\uadf8\ub9bc: LeNet-5*\n\nLeNet-5\uc758 \ub2e4\uc774\uc5b4\uadf8\ub7a8\uc740 \ucd08\uae30 \ud569\uc131\uacf1 \uc2e0\uacbd\ub9dd \uc911 \ud558\ub098\uc774\uc790 \ub525 \ub7ec\ub2dd\uc5d0\uc11c \n\ud3ed\ubc1c\uc801\uc778 \uc778\uae30\ub97c \uc77c\uc73c\ud0a8 \uc694\uc778\uc911 \ud558\ub098\uc785\ub2c8\ub2e4. \uc190\uc73c\ub85c \uc4f4 \uc22b\uc790 \n\uc774\ubbf8\uc9c0(MNIST \ub370\uc774\ud130\uc14b)\ub97c \uc77d\uace0 \uc774\ubbf8\uc9c0\uc5d0 \uc5b4\ub5a4 \uc22b\uc790\uac00 \ud45c\ud604\ub418\uc5c8\ub294\uc9c0 \uc815\ud655\ud558\uac8c\n\ubd84\ub958\ud558\uae30 \uc704\ud574 \uc81c\uc791\ub418\uc5c8\uc2b5\ub2c8\ub2e4.\n\nLeNet-5\uac00 \uc5b4\ub5bb\uac8c \ub3d9\uc791\ud558\ub294\uc9c0\uc5d0 \ub300\ud55c \uac04\ub2e8\ud55c \uc124\uba85\uc740 \ub2e4\uc74c\uacfc \uac19\uc2b5\ub2c8\ub2e4:\n\n-  \uacc4\uce35 C1\uc740 \ud569\uc131\uacf1 \uacc4\uce35\uc785\ub2c8\ub2e4. \uc989, \uc785\ub825 \uc774\ubbf8\uc9c0\uc5d0\uc11c \ud559\uc2b5 \uc911\uc5d0 \ubc30\uc6e0\ub358 \ud2b9\uc9d5\uc744 \uac80\uc0c9\ud569\ub2c8\ub2e4.\n   \uc774\ubbf8\uc9c0\uc5d0\uc11c \ud559\uc2b5\ub41c \uac01 \ud2b9\uc9d5\uc744 \uc704\uce58\uc5d0 \ub300\ud55c \ucd9c\ub825 \ub9f5\uc744 \ubcf4\uc5ec\uc90d\ub2c8\ub2e4. \n   \uc774 \u201c\ud65c\uc131\ud654 \ub9f5\u201d \uc73c\ub85c S2 \uacc4\uce35\uc5d0\uc11c \ub2e4\uc6b4\uc0d8\ud50c\ub9c1\ub429\ub2c8\ub2e4.\n-  \uacc4\uce35 C3\ub294 \ub2e4\ub978 \ud569\uc131\uacf1 \uacc4\uce35\uc73c\ub85c, \uc774 \uc2dc\uc810\uc740 \ud2b9\uc9d5\ub4e4\uc758 *\uc870\ud569* \uc744 \uc704\ud574 C1 \ud65c\uc131\ud654 \ub9f5 \uac80\uc0c9\ud569\ub2c8\ub2e4.\n   \ub610\ud55c, \uacc4\uce35 S4\uc5d0\uc11c \ub2e4\uc6b4\uc0d8\ud50c\ub9c1\ub41c \uc774\ub7ec\ud55c \ud2b9\uc9d5 \uc870\ud569\uc758 spatial locations\uc744 \uc81c\uacf5\ud569\ub2c8\ub2e4.\n-  \ub9c8\uc9c0\ub9c9\uc73c\ub85c, \uc644\uc804 \uc5f0\uacb0 \uacc4\uce35(fully-connected layers)\uc778 F5, F6, OUTPUT\uc740 \ucd5c\uc885 \ud65c\uc131\ud654 \ub9f5\uc744\n   \uac00\uc838\uc640 \uc2ed\uc9c4\uc218\ub97c \ud45c\ud604\ud558\ub294 10\uac1c\uc758 bin \uc911 \ud558\ub098\ub85c *\ubd84\ub958* \ud558\ub294 \ubd84\ub958\uae30\uc785\ub2c8\ub2e4.\n\n\uc774 \uac04\ub2e8\ud55c \uc2e0\uacbd\ub9dd\uc744 \ucf54\ub4dc\ub85c \uc5b4\ub5bb\uac8c \ud45c\ud604\ud560 \uc218 \uc788\uc744\uae4c\uc694?\n\n\n"
      ]
    },
    {
      "cell_type": "code",
      "execution_count": null,
      "metadata": {
        "collapsed": false
      },
      "outputs": [],
      "source": [
        "class LeNet(nn.Module):\n\n    def __init__(self):\n        super(LeNet, self).__init__()\n        # \uc785\ub825 \uc774\ubbf8\uc9c0 \ucc44\ub110, 6\uac1c\uc758 output \ucc44\ub110, 3x3 \uc815\ubc29 \ud569\uc131\uacf1 \ucee4\ub110\uc744 \uc0ac\uc6a9\ud569\ub2c8\ub2e4.\n        self.conv1 = nn.Conv2d(1, 6, 3)\n        self.conv2 = nn.Conv2d(6, 16, 3)\n        # \uc544\ud540 \ubcc0\ud658: y = Wx + b\n        self.fc1 = nn.Linear(16 * 6 * 6, 120)  # 6*6 \uc774\ubbf8\uc9c0 \ucc28\uc6d0\n        self.fc2 = nn.Linear(120, 84)\n        self.fc3 = nn.Linear(84, 10)\n\n    def forward(self, x):\n        # \ucd5c\ub300 \ud480\ub9c1\uc740 (2, 2) \uc708\ub3c4\uc6b0 \ud06c\uae30\ub97c \uc0ac\uc6a9\ud569\ub2c8\ub2e4.\n        x = F.max_pool2d(F.relu(self.conv1(x)), (2, 2))\n        # \ud06c\uae30\uac00 \uc815\ubc29 \uc0ac\uc774\uc988\uc778 \uacbd\uc6b0, \ub2e8\uc77c \uc22b\uc790\ub9cc \uc9c0\uc815\ud560 \uc218 \uc788\uc2b5\ub2c8\ub2e4.\n        x = F.max_pool2d(F.relu(self.conv2(x)), 2)\n        x = x.view(-1, self.num_flat_features(x))\n        x = F.relu(self.fc1(x))\n        x = F.relu(self.fc2(x))\n        x = self.fc3(x)\n        return x\n\n    def num_flat_features(self, x):\n        size = x.size()[1:]  # \ud06c\uae30\ub294 \ubc30\uce58 \ucc28\uc6d0\uc744 \uc81c\uc678\ud55c \ubaa8\ub4e0 \ucc28\uc6d0\uc744 \uac00\uc838\uc635\ub2c8\ub2e4.\n        num_features = 1\n        for s in size:\n            num_features *= s\n        return num_features"
      ]
    },
    {
      "cell_type": "markdown",
      "metadata": {},
      "source": [
        "\ucf54\ub4dc\ub97c \uc0b4\ud3b4\ubcf4\uba74 \uad6c\uc870\uc801\uc73c\ub85c \uc704 \ub2e4\uc774\uc5b4\uadf8\ub7a8\uacfc \uc720\uc0ac\uc810\uc744\n\ubc1c\uacac\ud560 \uc218 \uc788\uc2b5\ub2c8\ub2e4.\n\n\ub2e4\uc74c\uc740 \uc77c\ubc18\uc801\uc778 PyTorch \ubaa8\ub378\uc758 \uad6c\uc870\ub97c \ubcf4\uc5ec\uc90d\ub2c8\ub2e4: \n\n-  \ubaa8\ub4c8\uc740 \uc911\ucca9\ub420 \uc218 \uc788\uc73c\uba70 ``torch.nn.Module`` \uc5d0\uc11c \uc0c1\uc18d\ub429\ub2c8\ub2e4. - \uc2e4\uc81c\ub85c,\n   ``Conv2d`` \uc640 ``Linear`` \uacc4\uce35 \ud074\ub798\uc2a4\ub3c4 ``torch.nn.Module`` \uc5d0\uc11c\n   \uc0c1\uc18d\ub429\ub2c8\ub2e4.\n-  \ubaa8\ub378\uc740 \uacc4\uce35\uc744 \uc778\uc2a4\ud134\uc2a4\ud654\ud558\uace0 \ud544\uc694\ud55c \ub370\uc774\ud130 \uc544\ud2f0\ud329\ud2b8\ub97c \ub85c\ub4dc\ud558\ub294 \n   ``__init__()`` \ud568\uc218\ub97c \uac00\uc9c0\uace0 \uc788\uc2b5\ub2c8\ub2e4. (\uc608\ub97c\ub4e4\uba74 NLP \ubaa8\ub378\uc740 \uc5b4\ud718\ub97c \ubd88\ub7ec\uc62c \uc218 \uc788)\n-  \ubaa8\ub378\uc740 ``forward()`` \ud568\uc218\ub97c \uac00\uc9c0\uace0 \uc788\ub2e4. \uc5ec\uae30\uc11c \uc2e4\uc81c \uacc4\uc0b0\uc774 \uc218\ud589\ub429\ub2c8\ub2e4.\n   \uc785\ub825\uc740 \ub124\ud2b8\uc6cc\ud06c \uacc4\uce35 \ubc0f \ub2e4\uc591\ud55c \uae30\ub2a5\ub4e4\uc744 \ud1b5\uacfc\uc2dc\ucf1c \uacb0\uacfc\ub97c \uc0dd\uc131\ud569\ub2c8\ub2e4.\n-  \uadf8 \uc678\uc5d0\ub294 \ub2e4\ub978 \ud30c\uc774\uc36c \ud074\ub798\uc2a4\ucc98\ub7fc \ubaa8\ub378 \ud074\ub798\uc2a4\ub97c \uad6c\uc131\ud560 \uc218 \uc788\uc2b5\ub2c8\ub2e4.\n   Python \ud074\ub798\uc2a4, \ubaa8\ub378\uc758 \uacc4\uc0b0\uc744 \uc9c0\uc6d0\ud558\ub294 \ub370 \ud544\uc694\ud55c \uc18d\uc131 \ubc0f \uba54\uc11c\ub4dc\ub97c \ucd94\uac00\ud569\ub2c8\ub2e4.\n\n\uc790 \uc774\uc81c \ub9cc\ub4e0 \uc624\ube0c\uc81d\ud2b8\ub97c \uc778\uc2a4\ud134\uc2a4\ud654\ud558\uace0 \uc0d8\ud50c \uc785\ub825\uc744 \ud1b5\ud574 \uc2e4\ud589\ud569\ub2c8\ub2e4.\n\n\n"
      ]
    },
    {
      "cell_type": "code",
      "execution_count": null,
      "metadata": {
        "collapsed": false
      },
      "outputs": [],
      "source": [
        "net = LeNet()\nprint(net)                         # \uc778\uc2a4\ud134\uc2a4\ud55c \uac1d\uccb4\ub97c \ucd9c\ub825\ud558\uba74 \uc5b4\ub5a4 \uac12\uc744 \ubcf4\uc5ec\uc904\uae4c\uc694?\n\ninput = torch.rand(1, 1, 32, 32)   # 32x32 \ud06c\uae30\uc758 1\ucc44\ub110\uc758 \ud751\ubc31 \uc774\ubbf8\uc9c0\ub97c \ub9cc\ub4ed\ub2c8\ub2e4.\nprint('\\n\uc774\ubbf8\uc9c0 \ubc30\uce58 shape:')\nprint(input.shape)\n\noutput = net(input)                # \uac1d\uccb4\ub85c\ubd80\ud130 \uc9c1\uc811 forward() \ud568\uc218\ub97c \ud638\ucd9c\ud558\uc9c0 \uc54a\uc2b5\ub2c8\ub2e4.\nprint('\\n:\uacb0\uacfc \uac12')\nprint(output)\nprint(output.shape)"
      ]
    },
    {
      "cell_type": "markdown",
      "metadata": {},
      "source": [
        "\uc704\uc5d0\uc11c \uba87\uac00\uc9c0 \uc911\uc694\ud55c \uc77c\ub4e4\uc774 \uc77c\uc5b4\ub098\uace0 \uc788\uc2b5\ub2c8\ub2e4.\n\n\uccab\uc9f8, ``LeNet`` \ud074\ub798\uc2a4\ub97c \uc778\uc2a4\ud134\uc2a4\ud654\ud558\uace0 ``net`` \uac1d\uccb4\ub97c \ucd9c\ub825\ud569\ub2c8\ub2e4.\n``torch.nn.Module`` \uc758 \ud558\uc704 \ud074\ub798\uc2a4\ub294 \uc0dd\uc131\ub41c \ub808\uc774\uc5b4\uc758 \ubaa8\uc591\uacfc \ud30c\ub77c\ubbf8\ud130\ub97c \uc54c\ub824\uc90d\ub2c8\ub2e4.\n\ubaa8\ub378\uc758 \ucc98\ub9ac \uacb0\uacfc\ub97c \uc5bb\uc73c\ub824\ub294 \uacbd\uc6b0, \ubaa8\ub378\uc758 \ud3b8\ub9ac\ud55c \uae30\ub2a5\uc744 \uc81c\uacf5\ud560 \uc218 \uc788\uc2b5\ub2c8\ub2e4.\n\n\uc544\ub798\uc5d0\uc11c 1 \ucc44\ub110\uacfc 32x32 \uc774\ubbf8\uc9c0\ud06c\uae30\ub97c \uac00\uc9c4 \ub354\ubbf8 \uc785\ub825\uc744 \uc0dd\uc131\ud569\ub2c8\ub2e4.\n\uc77c\ubc18\uc801\uc73c\ub85c \ubc30\uce58 \uc774\ubbf8\uc9c0\ub97c\uc77d\uc5b4\ub4e4\uc774\uace0,\uc774\ubbf8\uc9c0\uc640 \uac19\uc740 \ud06c\uae30\uc758 \ud150\uc11c\ub85c \ubcc0\ud658\ud569\ub2c8\ub2e4.\n\ntensor \uc758 \ucd94\uac00 \ucc28\uc6d0\uc778 *batch \ucc28\uc6d0* \uc744 \uc54c\uc544\ucc58\uc744 \uc218 \uc788\uc2b5\ub2c8\ub2e4.\nPyTorch \ubaa8\ub378\uc740 \ub370\uc774\ud130\uc758 *batch* \uc5d0 \uc791\uc5c5\ud55c\ub2e4\uace0 \uac00\uc815\ud569\ub2c8\ub2e4. \uc608\ub97c\ub4e4\uc5b4 \n16\uac1c \uc774\ubbf8\uc9c0\uc758 \ubc30\uce58\ub294 ``(1, 1, 32, 32)`` \ubaa8\uc591\uc744 \uac00\uc9c8 \uac83\uc785\ub2c8\ub2e4.\n\uc774 \uc0d8\ud50c\uc5d0\uc11c\ub294 \ud558\ub098\uc758 \uc774\ubbf8\uc9c0\ub9cc \uc0ac\uc6a9\ud558\uae30 \ub54c\ubb38\uc5d0 ``(1, 1, 32, 32)`` \ubaa8\uc591\uc744 \uac00\uc9c4 \nbatch\ub97c \ub9cc\ub4ed\ub2c8\ub2e4.\n\n\ubaa8\ub378\uc744 \ud568\uc218\ucc98\ub7fc ``net(input)`` \ub97c \ud638\ucd9c\ud558\uc5ec \ucd94\ub860\uc744 \uc694\uccad\ud569\ub2c8\ub2e4:\n\ud638\ucd9c\uc758 \uacb0\uacfc\ub294 \uc785\ub825 \uc774\ubbf8\uc9c0\uac00 \ud2b9\uc815 \uc22b\uc790\ub97c \ub098\ud0c0\ub0b4\ub294 \ubaa8\ub378\uc758 \uc2e0\ub8b0\ub3c4\ub97c \ub098\ud0c0\ub0c5\ub2c8\ub2e4.\n(\ubaa8\ub378\uc758 \uc778\uc2a4\ud134\uc2a4\ub294 \uc544\uc9c1 \uc544\ubb34\uac83\ub3c4 \ud559\uc2b5\ud558\uc9c0 \uc54a\uc558\uae30 \ub54c\ubb38\uc5d0 \ucd9c\ub825\uc5d0\uc11c \uc88b\uc740 \uacb0\uacfc\ub97c\n\uae30\ub300\ud574\uc11c\ub294 \uc548 \ub429\ub2c8\ub2e4) ``output`` \uacb0\uacfc\ub97c \ud655\uc778\ud574\ubcf4\uba74 batch \ucc28\uc6d0\uc744 \uac00\uc9c0\uace0 \uc788\ub2e4\ub294 \n\uac83\uc744 \uc54c \uc218 \uc788\ub294\ub370, \ud06c\uae30\ub294 \ud56d\uc0c1 \uc785\ub825 batch \ucc28\uc6d0\uacfc \uc77c\uce58\ud574\uc57c \ud569\ub2c8\ub2e4.\n\ub9cc\uc57d 16\uac1c\uc758 \uc778\uc2a4\ud134\uc2a4\ub85c \uc774\ub8e8\uc5b4\uc9c4 \uc785\ub825\uc73c\ub85c \ubaa8\ub378\uc744 \ud1b5\uacfc\ud588\ub2e4\uba74 ``output`` \ub294\n``(16, 10)`` \uc758 \ud615\ud0dc\ub97c \uac00\uc9c0\uace0 \uc788\uc2b5\ub2c8\ub2e4.\n\nDatasets \ubc0f Dataloaders\n------------------------\n\n`14:00 <https://www.youtube.com/watch?v=IC0_FRiX-sw&t=840s>`__ \uc5d0 \uc2dc\uc791\ud558\ub294 \uc601\uc0c1\uc744 \uc2dc\uccad\ud558\uc138\uc694.\n\n\uc544\ub798 \uc608\uc81c\uc5d0\uc11c\ub294 TorchVision\uc5d0\uc11c \ubc14\ub85c \ub2e4\uc6b4\ub85c\ub4dc\ud560 \uc218 \uc788\ub294 \uc624\ud508 \ub370\uc774\ud130\uc14b \uc911 \ud558\ub098\ub97c \n\uc0ac\uc6a9\ud558\uc5ec \ubaa8\ub378\uc744 \ud1b5\ud574 \uc774\ubbf8\uc9c0\ub97c \ubcc0\ud658\ud558\ub294 \ubc29\ubc95, DataLoader\ub97c \uc0ac\uc6a9\ud558\uc5ec \ubaa8\ub378\uc5d0 \ub370\uc774\ud130 \ubc30\uce58\ub97c \uc81c\uacf5\ud558\ub294 \n\ubc29\ubc95\uc744 \ud559\uc2b5\ud569\ub2c8\ub2e4.\n\n\uccab \ubc88\uc9f8 \ud560 \uc77c\uc740 \ub4e4\uc5b4\uc624\ub294 \uc774\ubbf8\uc9c0\ub97c Pytorch tensor\ub85c \ubcc0\ud658\ud558\ub294 \uac83\uc785\ub2c8\ub2e4.\n\n\n"
      ]
    },
    {
      "cell_type": "code",
      "execution_count": null,
      "metadata": {
        "collapsed": false
      },
      "outputs": [],
      "source": [
        "#%matplotlib inline\n\nimport torch\nimport torchvision\nimport torchvision.transforms as transforms\n\ntransform = transforms.Compose(\n    [transforms.ToTensor(),\n     transforms.Normalize((0.5, 0.5, 0.5), (0.5, 0.5, 0.5))])"
      ]
    },
    {
      "cell_type": "markdown",
      "metadata": {},
      "source": [
        "\uc5ec\uae30\uc11c\ub294 \uc785\ub825\uc5d0 \ub300\ud55c \ub450 \uac00\uc9c0 \ubcc0\ud658\uc744 \uc9c0\uc815\ud569\ub2c8\ub2e4:\n\n-  ``transforms.ToTensor()``\ub294 Pillow \ud328\ud0a4\uc9c0\ub97c \uc0ac\uc6a9\ud558\uc5ec \ubd88\ub7ec\uc628 \uc774\ubbf8\uc9c0\ub97c\n   PyTorch tensor \ud615\ud0dc\ub85c \ubcc0\ud658\ud569\ub2c8\ub2e4.\n-  ``transforms.Normalize()`` \ub294 tensor\uc758 \ud3c9\uade0\uc774 0\uc774\uace0 \ud45c\uc900 \ud3b8\ucc28\uac00 0.5\uac00 \n     \ub418\ub3c4\ub85d tensor\uc758 \uac12\uc744 \uc870\uc815\ud569\ub2c8\ub2e4.\n     \ub300\ubd80\ubd84\uc758 \ud65c\uc131\ud654 \ud568\uc218\ub294 \uc57d x=0\uc5d0 \uac15\ud55c \uae30\uc6b8\uae30 \uac12\uc744 \uac00\uc9c0\uace0 \uc788\uc5b4 \ub370\uc774\ud130\ub97c \n     \uc911\uc559\uc73c\ub85c \uc9d1\uc911\ud654\ud558\uc5ec \ud559\uc2b5 \uc18d\ub3c4\ub97c \ub192\uc77c \uc218 \uc788\uc2b5\ub2c8\ub2e4.\n\ntransforms \ub294 cropping, centering, rotation, reflection\ub97c \ud3ec\ud568\ud558\uc5ec \ub354 \ub9ce\uc740\n\ubcc0\ud658\uc774 \uac00\ub2a5\ud569\ub2c8\ub2e4.\n\n\ub2e4\uc74c\uc73c\ub85c CIFAR10 \ub370\uc774\ud130\uc14b\uc758 \uc778\uc2a4\ud134\uc2a4\ub97c \ub9cc\ub4ed\ub2c8\ub2e4. CIFAR10 \ub370\uc774\ud130\uc14b\uc740 \ub3d9\ubb3c(\uc0c8, \n\uace0\uc591\uc774, \uc0ac\uc2b4, \uac1c, \uac1c\uad6c\ub9ac, \ub9d0) 6\uc885\uacfc \ucc28\ub7c9(\ube44\ud589\uae30, \uc790\ub3d9\ucc28, \ubc30, \ud2b8\ub7ed) 4\uc885\uc758 \n\ud074\ub798\uc2a4\ub85c \uc774\ub8e8\uc5b4\uc9c4 \ub370\uc774\ud130\uc14b\uc785\ub2c8\ub2e4:\n\n\n"
      ]
    },
    {
      "cell_type": "code",
      "execution_count": null,
      "metadata": {
        "collapsed": false
      },
      "outputs": [],
      "source": [
        "trainset = torchvision.datasets.CIFAR10(root='./data', train=True,\n                                        download=True, transform=transform)"
      ]
    },
    {
      "cell_type": "markdown",
      "metadata": {},
      "source": [
        ".. \ucc38\uace0::\n     \uc704 \uc140\uc744 \uc2e4\ud589\ud558\uc5ec \ub370\uc774\ud130\uc14b\uc774 \ub2e4\uc6b4\ub85c\ub4dc\uc2dc \uc57d\uac04\uc758 \uc2dc\uac04\uc774 \uac78\ub9b4 \uc218 \uc788\uc2b5\ub2c8\ub2e4.\n\nPyTorch\uc5d0\uc11c \ub370\uc774\ud130\uc14b \uac1d\uccb4\ub97c \ub9cc\ub4dc\ub294 \uc608\uc81c\uc785\ub2c8\ub2e4. \ub2e4\uc6b4\ub85c\ub4dc \uac00\ub2a5\ud55c \ub370\uc774\ud130\uc14b\n(CIFAR-10\uacfc \uac19\uc740)\ub294 ``torch.utils.data.Dataset`` \uc758 \ud558\uc704 \ud074\ub798\uc2a4\uc785\ub2c8\ub2e4.\nPyTorch\uc758 ``Dataset`` \ud074\ub798\uc2a4\uc5d0\ub294 TorchVision, Torchtext \ubc0f TorchAudio \ub4f1\n\ub2e4\uc6b4\ub85c\ub4dc \uac00\ub2a5\ud55c \ub370\uc774\ud130\uc14b \ubfd0 \uc544\ub2c8\ub77c \ub808\uc774\ube14\ub41c \uc774\ubbf8\uc9c0\uc758 \ud3f4\ub354\ub97c \uc77d\ub294 \n``torchvision.datasets.ImageFolder`` \uc640 \uac19\uc740 \uc720\ud2f8\ub9ac\ud2f0 \ub370\uc774\ud130\uc14b \ud074\ub798\uc2a4\uac00 \n\ud3ec\ud568\ub429\ub2c8\ub2e4. \ub610\ud55c, ``Dataset`` \uc758 \ud558\uc704 \ud074\ub798\uc2a4\ub97c \uc9c1\uc811 \ub9cc\ub4e4 \uc218 \uc788\uc2b5\ub2c8\ub2e4.\n\n\ub370\uc774\ud130\uc14b\uc744 \uc778\uc2a4\ud134\uc2a4\ud654\ud560 \ub54c \uba87 \uac00\uc9c0 \ud30c\ub77c\ubbf8\ud130\ub97c \uc120\uc5b8\ud574\uc57c \ud569\ub2c8\ub2e4.\n\n-  \ub370\uc774\ud130\ub97c \uc800\uc7a5\ud558\ub824\ub294 \ud30c\uc77c \uc2dc\uc2a4\ud15c \uacbd\ub85c\uc785\ub2c8\ub2e4. \n-  \ub370\uc774\ud130\uc14b\uc744 \ud559\uc2b5\uc5d0 \uc0ac\uc6a9\ud558\ub294\uc9c0 \uc5ec\ubd80\ub97c \ud655\uc778\ud558\uc5ec \ub300\ubd80\ubd84\uc758 \ub370\uc774\ud130\uc14b\uc740 \n   \ud559\uc2b5 \ubc0f \ud14c\uc2a4\ud2b8 \ub370\uc774\ud130\uc14b\uc73c\ub85c \ubd84\ud560\ub429\ub2c8\ub2e4.\n-  \ub370\uc774\ud130\uc14b\uc744 \ub2e4\uc6b4\ub85c\ub4dc\ud560\uc9c0\uc5d0 \ub300\ud55c \uc5ec\ubd80\ub97c \ud655\uc778\ud569\ub2c8\ub2e4.\n-  \ub370\uc774\ud130\uc5d0 \uc801\uc6a9\ud558\ub824\ub294 \ubcc0\ud658 \uac1d\uccb4\ub97c \ub123\uc5b4\uc90d\ub2c8\ub2e4.\n\n\ub370\uc774\ud130\uc14b \ub2e4\uc6b4\ub85c\ub4dc\uac00 \ub05d\ub098\uba74 ``DataLoader``\uc5d0 \uc0ac\uc6a9\ud560 \uc218 \uc788\uc2b5\ub2c8\ub2e4:\n\n\n"
      ]
    },
    {
      "cell_type": "code",
      "execution_count": null,
      "metadata": {
        "collapsed": false
      },
      "outputs": [],
      "source": [
        "trainloader = torch.utils.data.DataLoader(trainset, batch_size=4,\n                                          shuffle=True, num_workers=2)"
      ]
    },
    {
      "cell_type": "markdown",
      "metadata": {},
      "source": [
        "``Dataset`` \ud558\uc704 \ud074\ub798\uc2a4\ub294 \ub370\uc774\ud130 \uc811\uadfc\uc5d0 \ub300\ud55c \ud074\ub798\uc2a4\ub97c \ud3ec\ud568\ud558\uba70, \ud574\ub2f9 \uc11c\ube0c \n\ud074\ub798\uc2a4\uac00 \uc81c\uacf5\ud558\ub294 \ub370\uc774\ud130 \uc720\ud615\uc5d0 \ud2b9\ud654\ub418\uc5b4 \uc788\uc2b5\ub2c8\ub2e4.\n``DataLoader`` \ub294 \ub370\uc774\ud130\uc5d0 \ub300\ud574 *\uc544\ubb34\uac83\ub3c4* \uc54c\uc9c0 \ubabb\ud558\uc9c0\ub9cc \n``Dataset`` \uc774 \uc81c\uacf5\ud558\ub294 \uc785\ub825 tensor\ub97c \uc0ac\uc6a9\uc790\uac00 \uc9c0\uc815\ud55c \ud30c\ub77c\ubbf8\ud130\ub85c \uad6c\uc131\ud569\ub2c8\ub2e4.\n\n\uc704 \uc608\uc81c\uc5d0\uc11c ``DataLoader`` \uc5d0\uc11c\uc5d0\uc11c \ubb34\uc791\uc704 \ucd94\ucd9c( ``shuffle=True`` )\ud55c 4\uac1c\uc758 \nbatch \uc774\ubbf8\uc9c0\ub97c ``trainset`` \uc5d0\uc11c \ucd94\ucd9c\ud558\uace0 disk\uc5d0\uc11c \ub370\uc774\ud130\ub97c \ub85c\ub4dc\ud558\uae30 \n\uc704\ud574 2\uac1c\uc758 workers\ub97c spin up \ud588\uc2b5\ub2c8\ub2e4.\n\n``DataLoader`` \uac00 \uc81c\uacf5\ud558\ub294 batch \uc774\ubbf8\uc9c0\ub97c \uc2dc\uac01\ud654 \ud558\ub294\uac83\uc740 \uc88b\uc740 \uc5f0\uc2b5\uc785\ub2c8\ub2e4:\n\n\n"
      ]
    },
    {
      "cell_type": "code",
      "execution_count": null,
      "metadata": {
        "collapsed": false
      },
      "outputs": [],
      "source": [
        "import matplotlib.pyplot as plt\nimport numpy as np\n\nclasses = ('plane', 'car', 'bird', 'cat',\n           'deer', 'dog', 'frog', 'horse', 'ship', 'truck')\n\ndef imshow(img):\n    img = img / 2 + 0.5     # \uc5ed\uc815\uaddc\ud654\n    npimg = img.numpy()\n    plt.imshow(np.transpose(npimg, (1, 2, 0)))\n\n\n# \ubb34\uc791\uc704\ub85c \ud559\uc2b5 \uc774\ubbf8\uc9c0 \ucd94\ucd9c\ud558\uae30\ndataiter = iter(trainloader)\nimages, labels = dataiter.next()\n\n# \uc774\ubbf8\uc9c0 \ubcf4\uc5ec\uc8fc\uae30\nimshow(torchvision.utils.make_grid(images))\n# labels \ucd9c\ub825\ud558\uae30\nprint(' '.join('%5s' % classes[labels[j]] for j in range(4)))"
      ]
    },
    {
      "cell_type": "markdown",
      "metadata": {},
      "source": [
        "\uc704 \uc140 \uc2a4\ud06c\ub9bd\ud2b8\ub97c \uc2e4\ud589\ud558\uba74 4\uac1c\uc758 \uc774\ubbf8\uc9c0\uc640 \uac01 \uc774\ubbf8\uc9c0\uc5d0 \ub300\ud55c \uc815\ub2f5 label\uc774 \n\ucd9c\ub825\ub429\ub2c8\ub2e4.\n\nPyTorch \ubaa8\ub378 \ud559\uc2b5\n---------------------------\n\n`17:10 <https://www.youtube.com/watch?v=IC0_FRiX-sw&t=1030s>`__ \uc5d0 \uc2dc\uc791\ud558\ub294 \n\uc601\uc0c1\uc744 \ucc38\uace0\ud558\uc138\uc694.\n\n\uc704\uc5d0\uc11c \ub2e4\ub918\ub358 \ub0b4\uc6a9\ub4e4\uc744 \uc885\ud569\ud558\uc5ec \ubaa8\ub378\uc744 \ud559\uc2b5\uc2dc\ud0a4\uaca0\uc2b5\ub2c8\ub2e4:\n\n\n"
      ]
    },
    {
      "cell_type": "code",
      "execution_count": null,
      "metadata": {
        "collapsed": false
      },
      "outputs": [],
      "source": [
        "#%matplotlib inline\n\nimport torch\nimport torch.nn as nn\nimport torch.nn.functional as F\nimport torch.optim as optim\n\nimport torchvision\nimport torchvision.transforms as transforms\n\nimport matplotlib\nimport matplotlib.pyplot as plt\nimport numpy as np"
      ]
    },
    {
      "cell_type": "markdown",
      "metadata": {},
      "source": [
        "\uccab\uc9f8\ub85c, \ud559\uc2b5 \ubc0f \ud14c\uc2a4\ud2b8 \ub370\uc774\ud130\uc14b\uc774 \ud544\uc694\ud569\ub2c8\ub2e4. \uc544\uc9c1 \ub2e4\uc6b4\ub85c\ub4dc\ud558\uc9c0 \uc54a\uc740 \uacbd\uc6b0, \n\uc544\ub798 \uc140\uc744 \uc2e4\ud589\ud558\uc5ec \ub370\uc774\ud130\uc14b\uc774 \ub2e4\uc6b4\ub85c\ub4dc \ub418\uc5c8\ub294\uc9c0 \ud655\uc778\ud558\uc138\uc694.(\ub2e4\uc6b4\ub85c\ub4dc \uc2dc\n\uc218 \ubd84\uc815\ub3c4 \uc18c\uc694\ub429\ub2c8\ub2e4)\n\n\n"
      ]
    },
    {
      "cell_type": "code",
      "execution_count": null,
      "metadata": {
        "collapsed": false
      },
      "outputs": [],
      "source": [
        "transform = transforms.Compose(\n    [transforms.ToTensor(),\n     transforms.Normalize((0.5, 0.5, 0.5), (0.5, 0.5, 0.5))])\n\ntrainset = torchvision.datasets.CIFAR10(root='./data', train=True,\n                                        download=True, transform=transform)\ntrainloader = torch.utils.data.DataLoader(trainset, batch_size=4,\n                                          shuffle=True, num_workers=2)\n\ntestset = torchvision.datasets.CIFAR10(root='./data', train=False,\n                                       download=True, transform=transform)\ntestloader = torch.utils.data.DataLoader(testset, batch_size=4,\n                                         shuffle=False, num_workers=2)\n\nclasses = ('plane', 'car', 'bird', 'cat',\n           'deer', 'dog', 'frog', 'horse', 'ship', 'truck')"
      ]
    },
    {
      "cell_type": "markdown",
      "metadata": {},
      "source": [
        "``DataLoader`` \ucd9c\ub825\uc744 \ud655\uc778\ud574\ubcf4\uaca0\uc2b5\ub2c8\ub2e4:\n\n\n"
      ]
    },
    {
      "cell_type": "code",
      "execution_count": null,
      "metadata": {
        "collapsed": false
      },
      "outputs": [],
      "source": [
        "import matplotlib.pyplot as plt\nimport numpy as np\n\n# \uc544\ub798 \ud568\uc218\ub294 \uc774\ubbf8\uc9c0\ub97c \uc2dc\uac01\ud654\ud558\uc5ec \ubcf4\uc5ec\uc8fc\ub294 \ud568\uc218\uc785\ub2c8\ub2e4.\n\n\ndef imshow(img):\n    img = img / 2 + 0.5     # \uc5ed\uc815\uaddc\ud654\n    npimg = img.numpy()\n    plt.imshow(np.transpose(npimg, (1, 2, 0)))\n\n\n# \ubb34\uc791\uc704\ub85c \ud559\uc2b5 \uc774\ubbf8\uc9c0\ub97c \uac00\uc838\uc624\uae30\ndataiter = iter(trainloader)\nimages, labels = dataiter.next()\n\n# \uc774\ubbf8\uc9c0 \uc2dc\uac01\ud654\ud558\uae30\nimshow(torchvision.utils.make_grid(images))\n# \uc815\ub2f5 label \ucd9c\ub825\ud558\uae30\nprint(' '.join('%5s' % classes[labels[j]] for j in range(4)))"
      ]
    },
    {
      "cell_type": "markdown",
      "metadata": {},
      "source": [
        "\uc774\uc81c \ubaa8\ub378\uc744 \ud559\uc2b5\uc2dc\ud0ac \ucc28\ub840\uc785\ub2c8\ub2e4. \ub9cc\uc57d \ubaa8\ub378 \uad6c\uc870\uac00 \uc775\uc219\ud558\uac8c \ubcf4\uc778\ub2e4\uba74, \n\uc774 \ubaa8\ub378\uc740 \uc774\ubc88 \uc601\uc0c1\uc5d0\uc11c \uc55e\uc11c \ub2e4\ub904\uc9c4 3\ucc44\ub110(color) \uc774\ubbf8\uc9c0\uc5d0 \ub9de\uac8c \ubcc0\ud615\ub41c LeNet \ubaa8\ub378\uc774\uae30 \ub54c\ubb38\uc785\ub2c8\ub2e4.\n\n\n"
      ]
    },
    {
      "cell_type": "code",
      "execution_count": null,
      "metadata": {
        "collapsed": false
      },
      "outputs": [],
      "source": [
        "class Net(nn.Module):\n    def __init__(self):\n        super(Net, self).__init__()\n        self.conv1 = nn.Conv2d(3, 6, 5)\n        self.pool = nn.MaxPool2d(2, 2)\n        self.conv2 = nn.Conv2d(6, 16, 5)\n        self.fc1 = nn.Linear(16 * 5 * 5, 120)\n        self.fc2 = nn.Linear(120, 84)\n        self.fc3 = nn.Linear(84, 10)\n\n    def forward(self, x):\n        x = self.pool(F.relu(self.conv1(x)))\n        x = self.pool(F.relu(self.conv2(x)))\n        x = x.view(-1, 16 * 5 * 5)\n        x = F.relu(self.fc1(x))\n        x = F.relu(self.fc2(x))\n        x = self.fc3(x)\n        return x\n\n\nnet = Net()"
      ]
    },
    {
      "cell_type": "markdown",
      "metadata": {},
      "source": [
        "\uc544\ub798\ub294 \ub9c8\uc9c0\ub9c9\uc73c\ub85c \ud559\uc2b5\uc5d0 \ud544\uc694\ud55c \uc190\uc2e4 \ud568\uc218 \ubc0f \ucd5c\uc801\ud654 \ubc29\ubc95\uc785\ub2c8\ub2e4.\n\n\n"
      ]
    },
    {
      "cell_type": "code",
      "execution_count": null,
      "metadata": {
        "collapsed": false
      },
      "outputs": [],
      "source": [
        "criterion = nn.CrossEntropyLoss()\noptimizer = optim.SGD(net.parameters(), lr=0.001, momentum=0.9)"
      ]
    },
    {
      "cell_type": "markdown",
      "metadata": {},
      "source": [
        "\uc190\uc2e4 \ud568\uc218(loss function)\ub294 \ub370\uc774\ud130 \uae30\ubc18\uc73c\ub85c \ubaa8\ub378\uc774 \uc608\uce21\ud55c \uc815\ub2f5 \uac12\uc774 \uc5bc\ub9c8\ub098 \ucc28\uc774\uac00 \n\ub098\ub294\uc9c0\ub97c \ud45c\ud604\ud558\ub294 \uc9c0\ud45c\uc785\ub2c8\ub2e4. Cross-entropy \uc190\uc2e4 \ud568\uc218\ub294 \uc77c\ubc18\uc801\uc778 \ubd84\ub958 \ubaa8\ub378\uc758 \n\uc804\ud615\uc801\uc778 \uc190\uc2e4 \ud568\uc218\uc785\ub2c8\ub2e4.\n\n**optimizer** \ub294 \ud559\uc2b5\uc758 \ud544\uc218\uc694\uc18c\uc785\ub2c8\ub2e4. \uc544\ub798 \uc608\uc81c\uc5d0\uc11c \uac04\ub2e8\ud55c \ucd5c\uc801\ud654 \uc54c\uace0\ub9ac\uc998\uc778 \n*stochastic gradient descent* \ub97c \uad6c\ud604\ud558\uaca0\uc2b5\ub2c8\ub2e4. SGD \uc54c\uace0\ub9ac\uc9d0\uc740 \ud559\uc2b5 \uc18d\ub3c4\uc778\n(``lr``) \ubc0f momentum \uacfc \uac19\uc740 \ub9e4\uac1c \ubcc0\uc218 \uc678\uc5d0\ub3c4 \ubaa8\ub378\uc758 \ubaa8\ub4e0 \ud559\uc2b5 \uac00\uc911\uce58 \uac12\uc778 \n``net.parameters()`` \ub97c \uc804\ub2ec\ud558\ub294\ub370, \uc774 \ud568\uc218\ub294 \ucd5c\uc801\ud654\ub97c \uc704\ud574 \ud30c\ub77c\ubbf8\ud130\ub97c \uc870\uc815\ud569\ub2c8\ub2e4.\n\n\ub9c8\uc9c0\ub9c9\uc73c\ub85c, \ubaa8\ub4e0 \uac83\uc774 \ud559\uc2b5 loop\uc5d0 \ub4e4\uc5b4\uac11\ub2c8\ub2e4. \uc774\uc81c \uc544\ub798 \uc140\uc744 \uc2e4\ud589\ud558\uc138\uc694.\n\uc2e4\ud589 \uc2dc \uba87 \ubd84 \uc815\ub3c4 \uac78\ub9b4 \uc218 \uc788\uc2b5\ub2c8\ub2e4:\n\n\n"
      ]
    },
    {
      "cell_type": "code",
      "execution_count": null,
      "metadata": {
        "collapsed": false
      },
      "outputs": [],
      "source": [
        "for epoch in range(2):  # \ub370\uc774\ud130\uc14b\uc744 \uc5ec\ub7ec \ubc88 \ubc18\ubcf5 \ud559\uc2b5\ud569\ub2c8\ub2e4.\n\n    running_loss = 0.0\n    for i, data in enumerate(trainloader, 0):\n        # \ub370\uc774\ud130\ub97c \ud1b5\ud574 \uc774\ubbf8\uc9c0\uc640 \uc815\ub2f5\uac12\uc744 \ubc1b\uc2b5\ub2c8\ub2e4.\n        inputs, labels = data\n\n        # \ucd08\uae30 \uae30\uc6b8\uae30 \ud30c\ub77c\ubbf8\ud130\ub97c 0\uc73c\ub85c \uc124\uc815\ud569\ub2c8\ub2e4\n        optimizer.zero_grad()\n\n        # forward + backward + optimize\n        outputs = net(inputs)\n        loss = criterion(outputs, labels)\n        loss.backward()\n        optimizer.step()\n\n        # epoch \ubc0f loss \uac12\uc744 \ucd9c\ub825\ud569\ub2c8\ub2e4\n        running_loss += loss.item()\n        if i % 2000 == 1999:    # 2000 mini-batches \ub9c8\ub2e4 \uac12\uc744 \ucd9c\ub825\ud569\ub2c8\ub2e4\n            print('[%d, %5d] loss: %.3f' %\n                  (epoch + 1, i + 1, running_loss / 2000))\n            running_loss = 0.0\n\nprint('Finished Training')"
      ]
    },
    {
      "cell_type": "markdown",
      "metadata": {},
      "source": [
        "\uc774 \uc608\uc81c\uc5d0\uc11c **\ud559\uc2b5 \uc5d0\ud3ed 2\ubc88** \ub9cc \ubc18\ubcf5\ud569\ub2c8\ub2e4(1\ubc88\uc9f8 ) - \uc989, \ud559\uc2b5 \n\ub370\uc774\ud130\uc14b\uc744 \ub450 \ubc88 \ubaa8\ub378\uc5d0 \ud1b5\uacfc\uc2dc\ud0b5\ub2c8\ub2e4. \uac01 \ud328\uc2a4\uc5d0\ub294 \n**iterates over the training data** (4\ubc88\uc9f8 \ub77c\uc778)\uc758 \ub0b4\ubd80 \ub8e8\ud504\uac00 \uc788\uc5b4 \n\ubcc0\ud658\ub41c \uc785\ub825 \uc774\ubbf8\uc9c0\uc758 batch\uc640 \uc62c\ubc14\ub978 \ub808\uc774\ube14\uc744 \uc81c\uacf5\ud569\ub2c8\ub2e4.\n\n**\uae30\uc6b8\uae30 \uac12 \ucd08\uae30\ud654** (9\ubc88\uc9f8 \ub77c\uc778) \uc740 \uc911\uc694\ud55c \ub2e8\uacc4\uc785\ub2c8\ub2e4. \uae30\uc6b8\uae30\ub294 batch\uc5d0 \n\uac78\uccd0 \ub204\uc801\ub429\ub2c8\ub2e4. \ubaa8\ub4e0 batch\uc5d0 \ub300\ud574 \uae30\uc6b8\uae30 \uac12\uc744 \uc7ac\uc124\uc815\ud558\uc9c0 \uc54a\uc73c\uba74 \uae30\uc6b8\uae30 \n\uac12\uc774 \uacc4\uc18d \ub204\uc801\ub418\uc5b4 \uc798\ubabb\ub41c \uae30\uc6b8\uae30 \uac12\uc744 \uc81c\uacf5\ud558\uc5ec \ud559\uc2b5\uc774 \ubd88\uac00\ub2a5\ud569\ub2c8\ub2e4.\n\n12\ubc88\uc9f8 \ub77c\uc778\uc5d0\uc11c\ub294 batch \ub370\uc774\ud130\ub97c **\ubaa8\ub378\uc5d0\uac8c \uc608\uce21\uc744 \uc694\uccad** \ud569\ub2c8\ub2e4. \n\ub2e4\uc74c 13\ubc88\uc9f8\ub77c\uc778\uc5d0\uc11c \ubaa8\ub378\uc758 \uacb0\uacfc \uac12\uacfc \uc815\ub2f5 \uac12 \ucc28\uc774\uc778 \uc190\uc2e4\uac12\uc744 \uacc4\uc0b0\ud569\ub2c8\ub2e4.\n\n14\ubc88\uc9f8 \ub77c\uc778\uc5d0\uc11c\ub294 ``backward()`` \ub97c \ud1b5\ud574 \ubaa8\ub378\uc758 \ud559\uc2b5 \uae30\uc6b8\uae30\ub97c \uacc4\uc0b0\ud569\ub2c8\ub2e4.\n\n15\ubc88\uc9f8 \ub77c\uc778\uc5d0\uc11c\ub294 \ud559\uc2b5 \ub2e8\uacc4\uc758 \ucd5c\uc801\ud654\ub97c \uc218\ud589\ud558\ub294\ub370 ``backward()`` \n\ub97c \ud1b5\ud574 \uc190\uc2e4 \uac12\uc744 \uc904\uc77c \uc218 \uc788\ub294 \ubc29\ud5a5\uc73c\ub85c \ud559\uc2b5 \uac00\uc911\uce58\ub4e4\uc744 \uc870\uc815\ud569\ub2c8\ub2e4.\n\n\ub8e8\ud504\uc758 \ub098\uba38\uc9c0 \ubd80\ubd84\uc740 epoch \ud69f\uc218, \ud559\uc2b5 \ub8e8\ud504\ub97c \ud1b5\ud574 \uc218\uc9d1\ub41c \uc190\uc2e4 \uac12\uc744 \ucd9c\ub825\ud569\ub2c8\ub2e4.\n\n**\uc704 \uc140\uc744 \uc2e4\ud589\ud55c\ub2e4\uba74** \ub2e4\uc74c\uacfc \uac19\uc740 \uac12\uc774 \ud45c\uc2dc\ub429\ub2c8\ub2e4:\n\n::\n\n   [1,  2000] loss: 2.235\n   [1,  4000] loss: 1.940\n   [1,  6000] loss: 1.713\n   [1,  8000] loss: 1.573\n   [1, 10000] loss: 1.507\n   [1, 12000] loss: 1.442\n   [2,  2000] loss: 1.378\n   [2,  4000] loss: 1.364\n   [2,  6000] loss: 1.349\n   [2,  8000] loss: 1.319\n   [2, 10000] loss: 1.284\n   [2, 12000] loss: 1.267\n   Finished Training\n\n\uc190\uc2e4 \uac12\uc740 \ub2e8\uc870\ub86d\uac8c \uac10\uc18c\ud558\uba70, \uc774\ub294 \ubaa8\ub378\uc774 \ud6c8\ub828 \ub370\uc774\ud130\uc14b\uc5d0\uc11c \uc131\ub2a5\uc744 \n\uacc4\uc18d \ud5a5\uc0c1\uc2dc\ud0a4\uace0 \uc788\uc74c\uc744 \ubcf4\uc5ec\uc90d\ub2c8\ub2e4.\n\n\ub9c8\uc9c0\ub9c9 \ub2e8\uacc4\ub85c \ubaa8\ub378\uc774 \ub2e8\uc21c\ud558\uac8c \ud559\uc2b5 \ub370\uc774\ud130\uc14b\uc744 \u201c\uae30\uc5b5\u201d \ud558\ub294 \uac83\uc774 \uc544\ub2c8\ub77c \n\uc2e4\uc81c\ub85c *\uc77c\ubc18\ud654* \ud559\uc2b5\uc744 \uc798 \uc218\ud589\ud558\uace0 \uc788\ub294 \ud655\uc778\ud574\uc57c \ud569\ub2c8\ub2e4. \uc774\ub97c \n**\uacfc\uc801\ud569** \uc774\ub77c \ubd80\ub974\uba70 \uc77c\ubc18\uc801\uc73c\ub85c \ub370\uc774\ud130\uc14b\uc774 \ub108\ubb34 \uc791\uac70\ub098, \ubaa8\ub378\uc774 \ub370\uc774\ud130\uc14b\n\uc744 \uc62c\ubc14\ub974\uac8c \ubaa8\ub378\ub9c1\ud558\ub294 \ub370 \ud544\uc694\ud55c \uac83\ubcf4\ub2e4 \ub354 \ub9ce\uc740 \ud559\uc2b5 \ud30c\ub77c\ubbf8\ud130 \ubcc0\uc218\ub97c \n\uac00\uc9c0\uace0 \uc788\uc74c\uc744 \ubcf4\uc5ec\uc90d\ub2c8\ub2e4. (\uc77c\ubc18\uc801\uc778 \ud559\uc2b5\uc5d0 \ucda9\ubd84\ud55c \uc608\uc81c\uac00 \uc544\ub2d9\ub2c8\ub2e4)\n\n\uc704\uc640 \uac19\uc774 \ub370\uc774\ud130\uc14b\uc774 \ud559\uc2b5 \ubc0f \ud14c\uc2a4\ud2b8 \ub370\uc774\ud130\uc14b\uc73c\ub85c \ubd84\ud560\ub418\ub294 \uc774\uc720\uc785\ub2c8\ub2e4.\n\ubaa8\ub378\uc758 \uc77c\ubc18\uc131\uc744 \ud14c\uc2a4\ud2b8\ud558\uae30 \uc704\ud574 \ud559\uc2b5\ub418\uc9c0 \uc54a\uc740 \ub370\uc774\ud130\uc5d0 \ub300\ud574 \uc608\uce21\ud558\ub3c4\ub85d \n\uc694\uccad\ud569\ub2c8\ub2e4:\n\n\n"
      ]
    },
    {
      "cell_type": "code",
      "execution_count": null,
      "metadata": {
        "collapsed": false
      },
      "outputs": [],
      "source": [
        "correct = 0\ntotal = 0\nwith torch.no_grad():\n    for data in testloader:\n        images, labels = data\n        outputs = net(images)\n        _, predicted = torch.max(outputs.data, 1)\n        total += labels.size(0)\n        correct += (predicted == labels).sum().item()\n\nprint('10000\uac1c \ud14c\uc2a4\ud2b8 \uc774\ubbf8\uc9c0\uc5d0\uc11c \ubaa8\ub378 \uc815\ud655\ub3c4: %d %%' % (\n    100 * correct / total))"
      ]
    },
    {
      "cell_type": "markdown",
      "metadata": {},
      "source": [
        "\uc704 \ub0b4\uc6a9\uc744 \uc798 \uc2e4\uc2b5\ud558\uc168\ub2e4\uba74 \ubaa8\ub378\uc758 \uc815\ud655\ub3c4\uac00 \uc57d 50% \uc815\ub3c4 \ub098\uc628\ub2e4\ub294 \uac83\uc744 \ud655\uc778 \ud560 \n\uc218 \uc788\uc2b5\ub2c8\ub2e4. \uc774\uac83\uc740 \uc815\ud655\ud788 \ucd5c\uc2e0 \uae30\uc220\uc740 \uc544\ub2c8\uc9c0\ub9cc, \ubb34\uc791\uc704 \uacb0\uacfc\uc5d0\uc11c \uae30\ub300\ud560 \uc218 \n\uc788\ub294 \uc815\ud655\ub3c4 \ubcf4\ub2e4 10% \uc815\ub3c4 \uc88b\uc740 \uacb0\uacfc\ub97c \ubcf4\uc5ec\uc90d\ub2c8\ub2e4. \uc774 \uacb0\uacfc\ub294 \ubaa8\ub378\uc5d0\uc11c \n\uc77c\ubc18\uc801\uc778 \ud559\uc2b5\uc774 \ubc1c\uc0dd\ud588\uc74c\uc744 \ubcf4\uc5ec\uc90d\ub2c8\ub2e4.\n\n\n"
      ]
    }
  ],
  "metadata": {
    "kernelspec": {
      "display_name": "Python 3",
      "language": "python",
      "name": "python3"
    },
    "language_info": {
      "codemirror_mode": {
        "name": "ipython",
        "version": 3
      },
      "file_extension": ".py",
      "mimetype": "text/x-python",
      "name": "python",
      "nbconvert_exporter": "python",
      "pygments_lexer": "ipython3",
      "version": "3.9.13"
    }
  },
  "nbformat": 4,
  "nbformat_minor": 0
}