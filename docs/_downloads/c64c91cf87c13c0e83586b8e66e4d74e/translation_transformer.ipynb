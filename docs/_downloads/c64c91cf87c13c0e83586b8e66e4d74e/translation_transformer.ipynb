{
  "cells": [
    {
      "cell_type": "code",
      "execution_count": null,
      "metadata": {
        "collapsed": false
      },
      "outputs": [],
      "source": [
        "%matplotlib inline"
      ]
    },
    {
      "cell_type": "markdown",
      "metadata": {},
      "source": [
        "\nnn.Transformer\uc640 torchtext\ub85c \uc5b8\uc5b4 \ubc88\uc5ed\ud558\uae30\n======================================================\n\n\uc774 \ud29c\ud1a0\ub9ac\uc5bc\uc5d0\uc11c\ub294,\n    - Transformer(\ud2b8\ub79c\uc2a4\ud3ec\uba38)\ub97c \uc0ac\uc6a9\ud55c \ubc88\uc5ed \ubaa8\ub378\uc744 \ubc14\ub2e5\ubd80\ud130 \ud559\uc2b5\ud558\ub294 \ubc29\ubc95\uc744 \ubc30\uc6cc\ubcf4\uaca0\uc2b5\ub2c8\ub2e4.\n    - `Multi30k <http://www.statmt.org/wmt16/multimodal-task.html#task1>`__\n      \ub370\uc774\ud130\uc14b\uc744 \uc0ac\uc6a9\ud558\uc5ec \ub3c5\uc77c\uc5b4(German)\ub97c \uc601\uc5b4(English)\ub85c \ubc88\uc5ed\ud558\ub294 \ubaa8\ub378\uc744 \ud559\uc2b5\ud574\ubcf4\uaca0\uc2b5\ub2c8\ub2e4.\n"
      ]
    },
    {
      "cell_type": "markdown",
      "metadata": {},
      "source": [
        "\ub370\uc774\ud130 \uad6c\ud558\uace0 \ucc98\ub9ac\ud558\uae30\n----------------------------\n\n`torchtext \ub77c\uc774\ube0c\ub7ec\ub9ac <https://pytorch.org/text/stable/>`__\\ \uc5d0\ub294 \uc5b8\uc5b4 \ubc88\uc5ed \ubaa8\ub378\uc744\n\uc0dd\uc131\ud558\uae30 \uc704\ud55c \ub370\uc774\ud130\uc14b\uc744 \uc27d\uac8c \ub9cc\ub4e4 \uc218 \uc788\ub294 \ub3c4\uad6c\ub4e4\uc774 \uc788\uc2b5\ub2c8\ub2e4.\n\uc774 \ud29c\ud1a0\ub9ac\uc5bc\uc5d0\uc11c\ub294 torchtext\uc758 \ub0b4\uc7a5(inbuilt) \ub370\uc774\ud130\uc14b\uc744 \uc5b4\ub5bb\uac8c \uc0ac\uc6a9\ud558\uace0,\n\uc6d0\uc2dc(raw) \ud14d\uc2a4\ud2b8 \ubb38\uc7a5\uc744 \ud1a0\ud070\ud654(tokenize)\ud558\uace0, \ud1a0\ud070\uc744 \ud150\uc11c\ub85c \uc218\uce58\ud654\ud558\ub294 \ubc29\ubc95\uc744\n\uc0b4\ud3b4\ubcf4\uaca0\uc2b5\ub2c8\ub2e4. \ucd9c\ubc1c\uc5b4(source)-\ub3c4\ucc29\uc5b4(target) \uc6d0\uc2dc(raw) \ubb38\uc7a5\uc744 \uc0dd\uc131\ud558\uae30 \uc704\ud574\uc11c\ub294\n`torchtext \ub77c\uc774\ube0c\ub7ec\ub9ac\uc758 Multi30k \ub370\uc774\ud130\uc14b <https://pytorch.org/text/stable/datasets.html#multi30k>`__\n\uc744 \uc0ac\uc6a9\ud558\uaca0\uc2b5\ub2c8\ub2e4.\n\ntorchtext \ub370\uc774\ud130\uc14b\uc5d0 \uc811\uadfc\ud558\uae30 \uc804\uc5d0, https://github.com/pytorch/data \uc744 \ucc38\uace0\ud558\uc5ec torchdata\ub97c \uc124\uce58\ud558\uc2dc\uae30 \ubc14\ub78d\ub2c8\ub2e4.\n\n\n"
      ]
    },
    {
      "cell_type": "code",
      "execution_count": null,
      "metadata": {
        "collapsed": false
      },
      "outputs": [],
      "source": [
        "from torchtext.data.utils import get_tokenizer\nfrom torchtext.vocab import build_vocab_from_iterator\nfrom torchtext.datasets import multi30k, Multi30k\nfrom typing import Iterable, List\n\n\n# \uc6d0\ubcf8 \ub370\uc774\ud130\uc758 \ub9c1\ud06c\uac00 \ub3d9\uc791\ud558\uc9c0 \uc54a\uc73c\ubbc0\ub85c \ub370\uc774\ud130\uc14b\uc758 URL\uc744 \uc218\uc815\ud574\uc57c \ud569\ub2c8\ub2e4.\n# \ub354 \uc790\uc138\ud55c \ub0b4\uc6a9\uc740 https://github.com/pytorch/text/issues/1756#issuecomment-1163664163 \uc744 \ucc38\uace0\ud574\uc8fc\uc138\uc694.\nmulti30k.URL[\"train\"] = \"https://raw.githubusercontent.com/neychev/small_DL_repo/master/datasets/Multi30k/training.tar.gz\"\nmulti30k.URL[\"valid\"] = \"https://raw.githubusercontent.com/neychev/small_DL_repo/master/datasets/Multi30k/validation.tar.gz\"\n\nSRC_LANGUAGE = 'de'\nTGT_LANGUAGE = 'en'\n\n# Place-holders\ntoken_transform = {}\nvocab_transform = {}\n\n\n# \ucd9c\ubc1c\uc5b4(source)\uc640 \ubaa9\uc801\uc5b4(target)\uc758 \ud1a0\ud06c\ub098\uc774\uc800(tokenizer)\ub97c \uc0dd\uc131\ud569\ub2c8\ub2e4.\n# \uc544\ub798 \ud544\uc694 \uc0ac\ud56d(dependency)\uc744 \ubaa8\ub450 \uc124\uce58\ud574\uc8fc\uc138\uc694.\n# pip install -U torchdata\n# pip install -U spacy\n# python -m spacy download en_core_web_sm\n# python -m spacy download de_core_news_sm\ntoken_transform[SRC_LANGUAGE] = get_tokenizer('spacy', language='de_core_news_sm')\ntoken_transform[TGT_LANGUAGE] = get_tokenizer('spacy', language='en_core_web_sm')\n\n\n# \ud1a0\ud070 \ubaa9\ub85d\uc744 \uc0dd\uc131\ud558\uae30 \uc704\ud55c \ud5ec\ud37c(helper) \ud568\uc218\ndef yield_tokens(data_iter: Iterable, language: str) -> List[str]:\n    language_index = {SRC_LANGUAGE: 0, TGT_LANGUAGE: 1}\n\n    for data_sample in data_iter:\n        yield token_transform[language](data_sample[language_index[language]])\n\n# \ud2b9\uc218 \uae30\ud638(symbol)\uc640 \uc778\ub371\uc2a4\ub97c \uc815\uc758\ud569\ub2c8\ub2e4\nUNK_IDX, PAD_IDX, BOS_IDX, EOS_IDX = 0, 1, 2, 3\n# \ud1a0\ud070\ub4e4\uc774 \uc5b4\ud718\uc9d1(vocab)\uc5d0 \uc778\ub371\uc2a4 \uc21c\uc11c\ub300\ub85c \uc798 \uc0bd\uc785\ub418\uc5b4 \uc788\ub294\uc9c0 \ud655\uc778\ud569\ub2c8\ub2e4\nspecial_symbols = ['<unk>', '<pad>', '<bos>', '<eos>']\n\nfor ln in [SRC_LANGUAGE, TGT_LANGUAGE]:\n    # \ud559\uc2b5\uc6a9 \ub370\uc774\ud130 \ubc18\ubcf5\uc790(iterator)\n    train_iter = Multi30k(split='train', language_pair=(SRC_LANGUAGE, TGT_LANGUAGE))\n    # torchtext\uc758 Vocab(\uc5b4\ud718\uc9d1) \uac1d\uccb4 \uc0dd\uc131\n    vocab_transform[ln] = build_vocab_from_iterator(yield_tokens(train_iter, ln),\n                                                    min_freq=1,\n                                                    specials=special_symbols,\n                                                    special_first=True)\n\n# UNK_IDX\ub97c \uae30\ubcf8 \uc778\ub371\uc2a4\ub85c \uc124\uc815\ud569\ub2c8\ub2e4. \uc774 \uc778\ub371\uc2a4\ub294 \ud1a0\ud070\uc744 \ucc3e\uc9c0 \ubabb\ud558\ub294 \uacbd\uc6b0\uc5d0 \ubc18\ud658\ub429\ub2c8\ub2e4.\n# \ub9cc\uc57d \uae30\ubcf8 \uc778\ub371\uc2a4\ub97c \uc124\uc815\ud558\uc9c0 \uc54a\uc73c\uba74 \uc5b4\ud718\uc9d1(Vocabulary)\uc5d0\uc11c \ud1a0\ud070\uc744 \ucc3e\uc9c0 \ubabb\ud558\ub294 \uacbd\uc6b0\n# RuntimeError\uac00 \ubc1c\uc0dd\ud569\ub2c8\ub2e4.\nfor ln in [SRC_LANGUAGE, TGT_LANGUAGE]:\n    vocab_transform[ln].set_default_index(UNK_IDX)"
      ]
    },
    {
      "cell_type": "markdown",
      "metadata": {},
      "source": [
        "Transformer\ub97c \uc0ac\uc6a9\ud55c \uc2dc\ud000\uc2a4-\ud22c-\uc2dc\ud000\uc2a4(Seq2Seq) \uc2e0\uacbd\ub9dd\n------------------------------------------------------------\n\nTransformer(\ud2b8\ub79c\uc2a4\ud3ec\uba38)\ub294 \uae30\uacc4\ubc88\uc5ed \uc791\uc5c5(task)\uc744 \uc704\ud574\n`\"Attention is all you need\" <https://papers.nips.cc/paper/2017/file/3f5ee243547dee91fbd053c1c4a845aa-Paper.pdf>`__\n\ub17c\ubb38\uc5d0 \uc18c\uac1c\ub41c Seq2Seq \ubaa8\ub378\uc785\ub2c8\ub2e4.\n\uc544\ub798\uc5d0\uc11c Transformer\ub97c \uc0ac\uc6a9\ud55c Seq2Seq \uc2e0\uacbd\ub9dd\uc744 \ub9cc\ub4e4\uc5b4\ubcf4\uaca0\uc2b5\ub2c8\ub2e4.\n\uc2e0\uacbd\ub9dd\uc740 \uc138 \ubd80\ubd84\uc73c\ub85c \uad6c\uc131\ub418\ub294\ub370, \uccab\ubc88\uc9f8 \ubd80\ubd84\uc740 \uc784\ubca0\ub529 \uacc4\uce35(embedding layer)\uc785\ub2c8\ub2e4.\n\uc774 \uacc4\uce35\uc740 \uc785\ub825 \uc778\ub371\uc2a4\uc758 \ud150\uc11c\ub97c \uc785\ub825 \uc784\ubca0\ub529\uc758 \ud574\ub2f9\ud558\ub294 \ud150\uc11c\ub85c \ubcc0\ud658\ud569\ub2c8\ub2e4.\n\uc774\ub7ec\ud55c \uc784\ubca0\ub529\uc740 \uc785\ub825 \ud1a0\ud070\uc758 \uc704\uce58 \uc815\ubcf4(position information)\ub97c \ubaa8\ub378\uc5d0 \uc804\ub2ec\ud558\uae30 \uc704\ud574\n\uc704\uce58 \uc778\ucf54\ub529(positional encoding)\uc744 \ucd94\uac00\ud569\ub2c8\ub2e4.\n\ub450\ubc88\uc9f8 \ubd80\ubd84\uc740 \uc2e4\uc81c `Transformer <https://pytorch.org/docs/stable/generated/torch.nn.Transformer.html>`__ \ubaa8\ub378\uc785\ub2c8\ub2e4.\n\ub9c8\uc9c0\ub9c9\uc73c\ub85c Transformer \ubaa8\ub378\uc758 \ucd9c\ub825\uc744 \uc120\ud615 \uacc4\uce35\uc5d0 \ud1b5\uacfc\uc2dc\ucf1c \ub3c4\ucc29\uc5b4\uc758 \uac01 \ud1a0\ud070\uc5d0 \ub300\ud55c \uc815\uaddc\ud654\ub418\uc9c0 \uc54a\uc740\n\ud655\ub960(un-normalized probability)\ub85c \uc81c\uacf5\ud569\ub2c8\ub2e4.\n\n\n"
      ]
    },
    {
      "cell_type": "code",
      "execution_count": null,
      "metadata": {
        "collapsed": false
      },
      "outputs": [],
      "source": [
        "from torch import Tensor\nimport torch\nimport torch.nn as nn\nfrom torch.nn import Transformer\nimport math\nDEVICE = torch.device('cuda' if torch.cuda.is_available() else 'cpu')\n\n# \ub2e8\uc5b4 \uc21c\uc11c \uac1c\ub150(notion)\uc744 \ud1a0\ud070 \uc784\ubca0\ub529\uc5d0 \ub3c4\uc785\ud558\uae30 \uc704\ud55c \uc704\uce58 \uc778\ucf54\ub529(positional encoding)\uc744 \uc704\ud55c \ud5ec\ud37c \ubaa8\ub4c8(Module)\nclass PositionalEncoding(nn.Module):\n    def __init__(self,\n                 emb_size: int,\n                 dropout: float,\n                 maxlen: int = 5000):\n        super(PositionalEncoding, self).__init__()\n        den = torch.exp(- torch.arange(0, emb_size, 2)* math.log(10000) / emb_size)\n        pos = torch.arange(0, maxlen).reshape(maxlen, 1)\n        pos_embedding = torch.zeros((maxlen, emb_size))\n        pos_embedding[:, 0::2] = torch.sin(pos * den)\n        pos_embedding[:, 1::2] = torch.cos(pos * den)\n        pos_embedding = pos_embedding.unsqueeze(-2)\n\n        self.dropout = nn.Dropout(dropout)\n        self.register_buffer('pos_embedding', pos_embedding)\n\n    def forward(self, token_embedding: Tensor):\n        return self.dropout(token_embedding + self.pos_embedding[:token_embedding.size(0), :])\n\n# \uc785\ub825 \uc778\ub371\uc2a4\uc758 \ud150\uc11c\ub97c \ud574\ub2f9\ud558\ub294 \ud1a0\ud070 \uc784\ubca0\ub529\uc758 \ud150\uc11c\ub85c \ubcc0\ud658\ud558\uae30 \uc704\ud55c \ud5ec\ud37c \ubaa8\ub4c8(Module)\nclass TokenEmbedding(nn.Module):\n    def __init__(self, vocab_size: int, emb_size):\n        super(TokenEmbedding, self).__init__()\n        self.embedding = nn.Embedding(vocab_size, emb_size)\n        self.emb_size = emb_size\n\n    def forward(self, tokens: Tensor):\n        return self.embedding(tokens.long()) * math.sqrt(self.emb_size)\n\n# Seq2Seq \uc2e0\uacbd\ub9dd\nclass Seq2SeqTransformer(nn.Module):\n    def __init__(self,\n                 num_encoder_layers: int,\n                 num_decoder_layers: int,\n                 emb_size: int,\n                 nhead: int,\n                 src_vocab_size: int,\n                 tgt_vocab_size: int,\n                 dim_feedforward: int = 512,\n                 dropout: float = 0.1):\n        super(Seq2SeqTransformer, self).__init__()\n        self.transformer = Transformer(d_model=emb_size,\n                                       nhead=nhead,\n                                       num_encoder_layers=num_encoder_layers,\n                                       num_decoder_layers=num_decoder_layers,\n                                       dim_feedforward=dim_feedforward,\n                                       dropout=dropout)\n        self.generator = nn.Linear(emb_size, tgt_vocab_size)\n        self.src_tok_emb = TokenEmbedding(src_vocab_size, emb_size)\n        self.tgt_tok_emb = TokenEmbedding(tgt_vocab_size, emb_size)\n        self.positional_encoding = PositionalEncoding(\n            emb_size, dropout=dropout)\n\n    def forward(self,\n                src: Tensor,\n                trg: Tensor,\n                src_mask: Tensor,\n                tgt_mask: Tensor,\n                src_padding_mask: Tensor,\n                tgt_padding_mask: Tensor,\n                memory_key_padding_mask: Tensor):\n        src_emb = self.positional_encoding(self.src_tok_emb(src))\n        tgt_emb = self.positional_encoding(self.tgt_tok_emb(trg))\n        outs = self.transformer(src_emb, tgt_emb, src_mask, tgt_mask, None,\n                                src_padding_mask, tgt_padding_mask, memory_key_padding_mask)\n        return self.generator(outs)\n\n    def encode(self, src: Tensor, src_mask: Tensor):\n        return self.transformer.encoder(self.positional_encoding(\n                            self.src_tok_emb(src)), src_mask)\n\n    def decode(self, tgt: Tensor, memory: Tensor, tgt_mask: Tensor):\n        return self.transformer.decoder(self.positional_encoding(\n                          self.tgt_tok_emb(tgt)), memory,\n                          tgt_mask)"
      ]
    },
    {
      "cell_type": "markdown",
      "metadata": {},
      "source": [
        "\ud559\uc2b5\ud558\ub294 \ub3d9\uc548, \ubaa8\ub378\uc774 \uc608\uce21\ud558\ub294 \ub3d9\uc548 \uc815\ub2f5(\uc774\ud6c4 \ucd9c\ud604\ud558\ub294 \ub2e8\uc5b4)\uc744 \ubcf4\uc9c0 \ubabb\ud558\ub3c4\ub85d \ud558\ub294\n\ud6c4\uc18d \ub2e8\uc5b4 \ub9c8\uc2a4\ud06c(subsequent word mask)\uac00 \ud544\uc694\ud569\ub2c8\ub2e4. \ub610\ud55c, \ucd9c\ubc1c\uc5b4\uc640 \ub3c4\ucc29\uc5b4\uc758 \ud328\ub529(padding) \ud1a0\ud070\ub4e4\n\ub610\ud55c \uc228\uaca8\uc57c \ud569\ub2c8\ub2e4. \uc544\ub798\uc5d0 \ub450 \uac00\uc9c0 \ubaa8\ub450\ub97c \ucc98\ub9ac\ud560 \ud568\uc218\ub97c \uc815\uc758\ud574\ubcf4\uaca0\uc2b5\ub2c8\ub2e4.\n\n\n"
      ]
    },
    {
      "cell_type": "code",
      "execution_count": null,
      "metadata": {
        "collapsed": false
      },
      "outputs": [],
      "source": [
        "def generate_square_subsequent_mask(sz):\n    mask = (torch.triu(torch.ones((sz, sz), device=DEVICE)) == 1).transpose(0, 1)\n    mask = mask.float().masked_fill(mask == 0, float('-inf')).masked_fill(mask == 1, float(0.0))\n    return mask\n\n\ndef create_mask(src, tgt):\n    src_seq_len = src.shape[0]\n    tgt_seq_len = tgt.shape[0]\n\n    tgt_mask = generate_square_subsequent_mask(tgt_seq_len)\n    src_mask = torch.zeros((src_seq_len, src_seq_len),device=DEVICE).type(torch.bool)\n\n    src_padding_mask = (src == PAD_IDX).transpose(0, 1)\n    tgt_padding_mask = (tgt == PAD_IDX).transpose(0, 1)\n    return src_mask, tgt_mask, src_padding_mask, tgt_padding_mask"
      ]
    },
    {
      "cell_type": "markdown",
      "metadata": {},
      "source": [
        "\uc774\uc81c \ubaa8\ub378\uc758 \ub9e4\uac1c\ubcc0\uc218\ub97c \uc815\uc758\ud558\uace0 \uac1d\uccb4\ub97c \uc0dd\uc131(instantiate)\ud574\ubcf4\uaca0\uc2b5\ub2c8\ub2e4.\n\uc544\ub798\ucc98\ub7fc \ud559\uc2b5 \ub2e8\uacc4\uc5d0\uc11c \uc0ac\uc6a9\ud560 \uc190\uc2e4 \ud568\uc218(loss function)\ub97c \uad50\ucc28 \uc5d4\ud2b8\ub85c\ud53c \uc190\uc2e4(cross-entropy loss)\ub85c \uc815\uc758\ud558\uace0,\n\uc635\ud2f0\ub9c8\uc774\uc800(optimizer)\ub3c4 \uc815\uc758\ud569\ub2c8\ub2e4.\n\n\n"
      ]
    },
    {
      "cell_type": "code",
      "execution_count": null,
      "metadata": {
        "collapsed": false
      },
      "outputs": [],
      "source": [
        "torch.manual_seed(0)\n\nSRC_VOCAB_SIZE = len(vocab_transform[SRC_LANGUAGE])\nTGT_VOCAB_SIZE = len(vocab_transform[TGT_LANGUAGE])\nEMB_SIZE = 512\nNHEAD = 8\nFFN_HID_DIM = 512\nBATCH_SIZE = 128\nNUM_ENCODER_LAYERS = 3\nNUM_DECODER_LAYERS = 3\n\ntransformer = Seq2SeqTransformer(NUM_ENCODER_LAYERS, NUM_DECODER_LAYERS, EMB_SIZE,\n                                 NHEAD, SRC_VOCAB_SIZE, TGT_VOCAB_SIZE, FFN_HID_DIM)\n\nfor p in transformer.parameters():\n    if p.dim() > 1:\n        nn.init.xavier_uniform_(p)\n\ntransformer = transformer.to(DEVICE)\n\nloss_fn = torch.nn.CrossEntropyLoss(ignore_index=PAD_IDX)\n\noptimizer = torch.optim.Adam(transformer.parameters(), lr=0.0001, betas=(0.9, 0.98), eps=1e-9)"
      ]
    },
    {
      "cell_type": "markdown",
      "metadata": {},
      "source": [
        "\ub300\uc870(Collation)\n-----------------\n\n\uc704\uc758 ``\ub370\uc774\ud130 \uad6c\ud558\uace0 \ucc98\ub9ac\ud558\uae30`` \uc7a5\uc5d0\uc11c \ubd24\ub4ef\uc774, \ub370\uc774\ud130 \ubc18\ubcf5\uc790(iterator)\ub294 \uc6d0\uc2dc \ubb38\uc790\uc5f4\uc758 \uc30d\uc744 \uc0dd\uc131\ud569\ub2c8\ub2e4.\n\uc774 \ubb38\uc790\uc5f4 \uc30d\ub4e4\uc744 \uc774\uc804\uc5d0 \uc815\uc758\ud55c ``Seq2Seq`` \uc2e0\uacbd\ub9dd\uc5d0\uc11c \ucc98\ub9ac\ud560 \uc218 \uc788\ub3c4\ub85d \ud150\uc11c \ubb36\uc74c(batched tensor)\uc73c\ub85c \ubcc0\ud658\ud574\uc57c \ud569\ub2c8\ub2e4.\n\uc774\uc81c \uc6d0\uc2dc \ubb38\uc790\uc5f4\ub4e4\uc758 \ubb36\uc74c(batch)\uc744 \ud150\uc11c \ubb36\uc74c\uc73c\ub85c \ubcc0\ud658\ud558\uc5ec \ubaa8\ub378\uc5d0 \uc9c1\uc811 \uc804\ub2ec\ud560 \uc218 \uc788\ub3c4\ub85d \ud558\ub294 \ub300\uc751\uc5b4(collate) \ud568\uc218\ub97c\n\uc815\uc758\ud574\ubcf4\uaca0\uc2b5\ub2c8\ub2e4.\n\n\n"
      ]
    },
    {
      "cell_type": "code",
      "execution_count": null,
      "metadata": {
        "collapsed": false
      },
      "outputs": [],
      "source": [
        "from torch.nn.utils.rnn import pad_sequence\n\n# \uc21c\ucc28\uc801\uc778 \uc791\uc5c5\ub4e4\uc744 \ud558\ub098\ub85c \ubb36\ub294 \ud5ec\ud37c \ud568\uc218\ndef sequential_transforms(*transforms):\n    def func(txt_input):\n        for transform in transforms:\n            txt_input = transform(txt_input)\n        return txt_input\n    return func\n\n# BOS/EOS\ub97c \ucd94\uac00\ud558\uace0 \uc785\ub825 \uc21c\uc11c(sequence) \uc778\ub371\uc2a4\uc5d0 \ub300\ud55c \ud150\uc11c\ub97c \uc0dd\uc131\ud558\ub294 \ud568\uc218\ndef tensor_transform(token_ids: List[int]):\n    return torch.cat((torch.tensor([BOS_IDX]),\n                      torch.tensor(token_ids),\n                      torch.tensor([EOS_IDX])))\n\n# \ucd9c\ubc1c\uc5b4(src)\uc640 \ub3c4\ucc29\uc5b4(tgt) \uc6d0\uc2dc \ubb38\uc790\uc5f4\ub4e4\uc744 \ud150\uc11c \uc778\ub371\uc2a4\ub85c \ubcc0\ud658\ud558\ub294 \ubcc0\ud615(transform)\ntext_transform = {}\nfor ln in [SRC_LANGUAGE, TGT_LANGUAGE]:\n    text_transform[ln] = sequential_transforms(token_transform[ln], # \ud1a0\ud070\ud654(Tokenization)\n                                               vocab_transform[ln], # \uc218\uce58\ud654(Numericalization)\n                                               tensor_transform) # BOS/EOS\ub97c \ucd94\uac00\ud558\uace0 \ud150\uc11c\ub97c \uc0dd\uc131\n\n\n# \ub370\uc774\ud130\ub97c \ud150\uc11c\ub85c \uc870\ud569(collate)\ud558\ub294 \ud568\uc218\ndef collate_fn(batch):\n    src_batch, tgt_batch = [], []\n    for src_sample, tgt_sample in batch:\n        src_batch.append(text_transform[SRC_LANGUAGE](src_sample.rstrip(\"\\n\")))\n        tgt_batch.append(text_transform[TGT_LANGUAGE](tgt_sample.rstrip(\"\\n\")))\n\n    src_batch = pad_sequence(src_batch, padding_value=PAD_IDX)\n    tgt_batch = pad_sequence(tgt_batch, padding_value=PAD_IDX)\n    return src_batch, tgt_batch"
      ]
    },
    {
      "cell_type": "markdown",
      "metadata": {},
      "source": [
        "\uac01 \uc5d0\ud3ed(epoch)\ub9c8\ub2e4 \ud638\ucd9c\ud560 \ud559\uc2b5 \ubc0f \uac80\uc99d(evaluation) \ub2e8\uacc4\ub97c \uc815\uc758\ud574\ubcf4\uaca0\uc2b5\ub2c8\ub2e4.\n\n\n"
      ]
    },
    {
      "cell_type": "code",
      "execution_count": null,
      "metadata": {
        "collapsed": false
      },
      "outputs": [],
      "source": [
        "from torch.utils.data import DataLoader\n\ndef train_epoch(model, optimizer):\n    model.train()\n    losses = 0\n    train_iter = Multi30k(split='train', language_pair=(SRC_LANGUAGE, TGT_LANGUAGE))\n    train_dataloader = DataLoader(train_iter, batch_size=BATCH_SIZE, collate_fn=collate_fn)\n\n    for src, tgt in train_dataloader:\n        src = src.to(DEVICE)\n        tgt = tgt.to(DEVICE)\n\n        tgt_input = tgt[:-1, :]\n\n        src_mask, tgt_mask, src_padding_mask, tgt_padding_mask = create_mask(src, tgt_input)\n\n        logits = model(src, tgt_input, src_mask, tgt_mask,src_padding_mask, tgt_padding_mask, src_padding_mask)\n\n        optimizer.zero_grad()\n\n        tgt_out = tgt[1:, :]\n        loss = loss_fn(logits.reshape(-1, logits.shape[-1]), tgt_out.reshape(-1))\n        loss.backward()\n\n        optimizer.step()\n        losses += loss.item()\n\n    return losses / len(train_dataloader)\n\n\ndef evaluate(model):\n    model.eval()\n    losses = 0\n\n    val_iter = Multi30k(split='valid', language_pair=(SRC_LANGUAGE, TGT_LANGUAGE))\n    val_dataloader = DataLoader(val_iter, batch_size=BATCH_SIZE, collate_fn=collate_fn)\n\n    for src, tgt in val_dataloader:\n        src = src.to(DEVICE)\n        tgt = tgt.to(DEVICE)\n\n        tgt_input = tgt[:-1, :]\n\n        src_mask, tgt_mask, src_padding_mask, tgt_padding_mask = create_mask(src, tgt_input)\n\n        logits = model(src, tgt_input, src_mask, tgt_mask,src_padding_mask, tgt_padding_mask, src_padding_mask)\n\n        tgt_out = tgt[1:, :]\n        loss = loss_fn(logits.reshape(-1, logits.shape[-1]), tgt_out.reshape(-1))\n        losses += loss.item()\n\n    return losses / len(val_dataloader)"
      ]
    },
    {
      "cell_type": "markdown",
      "metadata": {},
      "source": [
        "\uc774\uc81c \ubaa8\ub378 \ud559\uc2b5\uc744 \uc704\ud55c \ubaa8\ub4e0 \uc694\uc18c\uac00 \uc900\ube44\ub418\uc5c8\uc2b5\ub2c8\ub2e4. \ud559\uc2b5\uc744 \ud574\ubcf4\uaca0\uc2b5\ub2c8\ub2e4!\n\n\n"
      ]
    },
    {
      "cell_type": "code",
      "execution_count": null,
      "metadata": {
        "collapsed": false
      },
      "outputs": [],
      "source": [
        "from timeit import default_timer as timer\nNUM_EPOCHS = 18\n\nfor epoch in range(1, NUM_EPOCHS+1):\n    start_time = timer()\n    train_loss = train_epoch(transformer, optimizer)\n    end_time = timer()\n    val_loss = evaluate(transformer)\n    print((f\"Epoch: {epoch}, Train loss: {train_loss:.3f}, Val loss: {val_loss:.3f}, \"f\"Epoch time = {(end_time - start_time):.3f}s\"))\n\n\n# \ud0d0\uc695(greedy) \uc54c\uace0\ub9ac\uc998\uc744 \uc0ac\uc6a9\ud558\uc5ec \ucd9c\ub825 \uc21c\uc11c(sequence)\ub97c \uc0dd\uc131\ud558\ub294 \ud568\uc218\ndef greedy_decode(model, src, src_mask, max_len, start_symbol):\n    src = src.to(DEVICE)\n    src_mask = src_mask.to(DEVICE)\n\n    memory = model.encode(src, src_mask)\n    ys = torch.ones(1, 1).fill_(start_symbol).type(torch.long).to(DEVICE)\n    for i in range(max_len-1):\n        memory = memory.to(DEVICE)\n        tgt_mask = (generate_square_subsequent_mask(ys.size(0))\n                    .type(torch.bool)).to(DEVICE)\n        out = model.decode(ys, memory, tgt_mask)\n        out = out.transpose(0, 1)\n        prob = model.generator(out[:, -1])\n        _, next_word = torch.max(prob, dim=1)\n        next_word = next_word.item()\n\n        ys = torch.cat([ys,\n                        torch.ones(1, 1).type_as(src.data).fill_(next_word)], dim=0)\n        if next_word == EOS_IDX:\n            break\n    return ys\n\n\n# \uc785\ub825 \ubb38\uc7a5\uc744 \ub3c4\ucc29\uc5b4\ub85c \ubc88\uc5ed\ud558\ub294 \ud568\uc218\ndef translate(model: torch.nn.Module, src_sentence: str):\n    model.eval()\n    src = text_transform[SRC_LANGUAGE](src_sentence).view(-1, 1)\n    num_tokens = src.shape[0]\n    src_mask = (torch.zeros(num_tokens, num_tokens)).type(torch.bool)\n    tgt_tokens = greedy_decode(\n        model,  src, src_mask, max_len=num_tokens + 5, start_symbol=BOS_IDX).flatten()\n    return \" \".join(vocab_transform[TGT_LANGUAGE].lookup_tokens(list(tgt_tokens.cpu().numpy()))).replace(\"<bos>\", \"\").replace(\"<eos>\", \"\")"
      ]
    },
    {
      "cell_type": "code",
      "execution_count": null,
      "metadata": {
        "collapsed": false
      },
      "outputs": [],
      "source": [
        "print(translate(transformer, \"Eine Gruppe von Menschen steht vor einem Iglu .\"))"
      ]
    },
    {
      "cell_type": "markdown",
      "metadata": {},
      "source": [
        "\ucc38\uace0\uc790\ub8cc\n----------\n\n1. Attention is all you need \ub17c\ubb38.\n   https://papers.nips.cc/paper/2017/file/3f5ee243547dee91fbd053c1c4a845aa-Paper.pdf\n2. Transformer\uc5d0 \ub300\ud55c \uc124\uba85. https://nlp.seas.harvard.edu/2018/04/03/attention.html#positional-encoding\n\n\n"
      ]
    }
  ],
  "metadata": {
    "kernelspec": {
      "display_name": "Python 3",
      "language": "python",
      "name": "python3"
    },
    "language_info": {
      "codemirror_mode": {
        "name": "ipython",
        "version": 3
      },
      "file_extension": ".py",
      "mimetype": "text/x-python",
      "name": "python",
      "nbconvert_exporter": "python",
      "pygments_lexer": "ipython3",
      "version": "3.9.13"
    }
  },
  "nbformat": 4,
  "nbformat_minor": 0
}