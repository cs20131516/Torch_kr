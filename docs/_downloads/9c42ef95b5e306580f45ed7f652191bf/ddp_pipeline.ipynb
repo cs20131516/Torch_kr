{
  "cells": [
    {
      "cell_type": "code",
      "execution_count": null,
      "metadata": {
        "collapsed": false
      },
      "outputs": [],
      "source": [
        "%matplotlib inline"
      ]
    },
    {
      "cell_type": "markdown",
      "metadata": {},
      "source": [
        "\n\ubd84\uc0b0 \ub370\uc774\ud130 \ubcd1\ub82c \ucc98\ub9ac\uc640 \ubcd1\ub82c \ucc98\ub9ac \ud30c\uc774\ud504\ub77c\uc778\uc744 \uc0ac\uc6a9\ud55c \ud2b8\ub79c\uc2a4\ud3ec\uba38 \ubaa8\ub378 \ud559\uc2b5\n=======================================================================\n\n**Author**: `Pritam Damania <https://github.com/pritamdamania87>`_\n  **\ubc88\uc5ed**: `\ubc31\uc120\ud76c <https://github.com/spongebob03>`_\n\n\uc774 \ud29c\ud1a0\ub9ac\uc5bc\uc740 `\ubd84\uc0b0 \ub370\uc774\ud130 \ubcd1\ub82c\ucc98\ub9ac(Distributed Data Parallel) <https://pytorch.org/docs/stable/generated/torch.nn.parallel.DistributedDataParallel.html>`__ \uc640\n`\ubcd1\ub82c \ucc98\ub9ac \ud30c\uc774\ud504\ub77c\uc778 <https://pytorch.org/docs/stable/pipeline.html>`__\n\ub97c \uc0ac\uc6a9\ud558\uc5ec \uc5ec\ub7ec GPU\uc5d0 \uac78\uce5c \uac70\ub300\ud55c \ud2b8\ub79c\uc2a4\ud3ec\uba38(Transformer) \ubaa8\ub378\uc744 \uc5b4\ub5bb\uac8c \ud559\uc2b5\uc2dc\ud0a4\ub294\uc9c0 \ubcf4\uc5ec\uc90d\ub2c8\ub2e4.\n\uc774\ubc88 \ud29c\ud1a0\ub9ac\uc5bc\uc740 `nn.Transformer \uc640 TorchText \ub85c \uc2dc\ud000\uc2a4-\ud22c-\uc2dc\ud000\uc2a4(Sequence-to-Sequence) \ubaa8\ub378\ub9c1\ud558\uae30 <https://tutorials.pytorch.kr/beginner/transformer_tutorial.html>`__ \uc758\n\ud655\uc7a5\ud310\uc774\uba70 \ubd84\uc0b0 \ub370\uc774\ud130 \ubcd1\ub82c \ucc98\ub9ac\uc640 \ubcd1\ub82c \ucc98\ub9ac \ud30c\uc774\ud504\ub77c\uc778\uc774 \uc5b4\ub5bb\uac8c \ud2b8\ub79c\uc2a4\ud3ec\uba38 \ubaa8\ub378 \ud559\uc2b5\uc5d0 \uc4f0\uc774\ub294\uc9c0 \ubcf4\uc5ec\uc8fc\uae30 \uc704\ud574 \uc774\uc804 \ud29c\ud1a0\ub9ac\uc5bc\uc5d0\uc11c\uc758\n\ubaa8\ub378 \uaddc\ubaa8\ub97c \uc99d\uac00\uc2dc\ucf30\uc2b5\ub2c8\ub2e4.\n\n\uc120\uc218\uacfc\ubaa9(Prerequisites):\n\n    * `Pipeline Parallelism <https://pytorch.org/docs/stable/pipeline.html>`__\n    * `nn.Transformer \uc640 TorchText \ub85c \uc2dc\ud000\uc2a4-\ud22c-\uc2dc\ud000\uc2a4(Sequence-to-Sequence) \ubaa8\ub378\ub9c1\ud558\uae30 <https://tutorials.pytorch.kr/beginner/transformer_tutorial.html>`__\n    * `\ubd84\uc0b0 \ub370\uc774\ud130 \ubcd1\ub82c \ucc98\ub9ac \uc2dc\uc791\ud558\uae30 <https://tutorials.pytorch.kr/intermediate/ddp_tutorial.html>`__\n"
      ]
    },
    {
      "cell_type": "markdown",
      "metadata": {},
      "source": [
        "\ubaa8\ub378 \uc815\uc758\ud558\uae30\n-------------\n\n\n"
      ]
    },
    {
      "cell_type": "markdown",
      "metadata": {},
      "source": [
        "``PositionalEncoding`` \ubaa8\ub4c8\uc740 \uc2dc\ud000\uc2a4\uc5d0\uc11c \ud1a0\ud070\uc758 \uc0c1\ub300\uc801, \uc808\ub300\uc801 \uc704\uce58\uc5d0 \ub300\ud55c\n\uba87\uba87 \uc815\ubcf4\ub97c \uc8fc\uc785\ud569\ub2c8\ub2e4.\n\uc704\uce58 \uc778\ucf54\ub529\uc740 \uc784\ubca0\ub529\uacfc \uac19\uc740 \ucc28\uc6d0\uc744 \uac00\uc9c0\ubbc0\ub85c\n\ub458\uc744 \ud569\uce60 \uc218 \uc788\uc2b5\ub2c8\ub2e4. \uc5ec\uae30\uc11c, \uc8fc\ud30c\uc218\uac00 \ub2e4\ub978 ``sine`` \uacfc ``cosine`` \ud568\uc218\ub97c\n\uc0ac\uc6a9\ud569\ub2c8\ub2e4.\n\n"
      ]
    },
    {
      "cell_type": "code",
      "execution_count": null,
      "metadata": {
        "collapsed": false
      },
      "outputs": [],
      "source": [
        "import sys\nimport os\nimport math\nimport torch\nimport torch.nn as nn\nimport torch.nn.functional as F\nimport tempfile\nfrom torch.nn import TransformerEncoder, TransformerEncoderLayer\n\nclass PositionalEncoding(nn.Module):\n\n    def __init__(self, d_model, dropout=0.1, max_len=5000):\n        super(PositionalEncoding, self).__init__()\n        self.dropout = nn.Dropout(p=dropout)\n\n        pe = torch.zeros(max_len, d_model)\n        position = torch.arange(0, max_len, dtype=torch.float).unsqueeze(1)\n        div_term = torch.exp(torch.arange(0, d_model, 2).float() * (-math.log(10000.0) / d_model))\n        pe[:, 0::2] = torch.sin(position * div_term)\n        pe[:, 1::2] = torch.cos(position * div_term)\n        pe = pe.unsqueeze(0).transpose(0, 1)\n        self.register_buffer('pe', pe)\n\n    def forward(self, x):\n        x = x + self.pe[:x.size(0), :]\n        return self.dropout(x)"
      ]
    },
    {
      "cell_type": "markdown",
      "metadata": {},
      "source": [
        "\uc774\ubc88 \ud29c\ud1a0\ub9ac\uc5bc\uc5d0\uc11c\ub294, \ud2b8\ub79c\uc2a4\ud3ec\uba38 \ubaa8\ub378\uc744 \ub450 \uac1c\uc758 GPU\uc5d0 \uac78\uccd0\uc11c \ub098\ub204\uace0\n\ubcd1\ub82c \ucc98\ub9ac \ud30c\uc774\ud504\ub77c\uc778\uc73c\ub85c \ud559\uc2b5\uc2dc\ucf1c \ubcf4\uaca0\uc2b5\ub2c8\ub2e4. \ucd94\uac00\ub85c,\n`\ubd84\uc0b0 \ub370\uc774\ud130 \ubcd1\ub82c \ucc98\ub9ac <https://pytorch.org/docs/stable/generated/torch.nn.parallel.DistributedDataParallel.html>`__\n\ub97c \uc0ac\uc6a9\ud558\uc5ec \uc774 \ud30c\uc774\ud504\ub77c\uc778\uc758 \ub450 \ubcf5\uc81c\ub97c \ud6c8\ub828\uc2dc\ud0b5\ub2c8\ub2e4. \ud55c \ud504\ub85c\uc138\uc2a4\ub294\nGPUs 0, 1\uc5d0 \uac70\uccd0 \ud30c\uc774\ud504\ub97c \uad6c\ub3d9\ud558\uace0 \ub2e4\ub978 \ud504\ub85c\uc138\uc2a4\ub294 GPUs 2, 3\uc5d0\uc11c \ud30c\uc774\ud504\ub97c \uad6c\ub3d9\ud569\ub2c8\ub2e4. \uadf8 \ub2e4\uc74c, \uc774 \ub450\n\ud504\ub85c\uc138\uc2a4\ub294 \ubd84\uc0b0 \ub370\uc774\ud130 \ubcd1\ub82c\ucc98\ub9ac\ub85c \ub450 \ubcf5\uc81c\ubcf8(replica)\uc744 \ud559\uc2b5\uc2dc\ud0b5\ub2c8\ub2e4.\n\ubaa8\ub378\uc740 \ubc14\ub85c `nn.Transformer \uc640 TorchText \ub85c \uc2dc\ud000\uc2a4-\ud22c-\uc2dc\ud000\uc2a4(Sequence-to-Sequence) \ubaa8\ub378\ub9c1\ud558\uae30\n<https://tutorials.pytorch.kr/beginner/transformer_tutorial.html>`__ \ud29c\ud1a0\ub9ac\uc5bc\uacfc\n\ub611\uac19\uc740 \ubaa8\ub378\uc774\uc9c0\ub9cc \ub450 \ub2e8\uacc4\ub85c \ub098\ub269\ub2c8\ub2e4. \ub300\ubd80\ubd84 \ud30c\ub77c\ubbf8\ud130(parameter)\ub4e4\uc740\n`nn.TransformerEncoder <https://pytorch.org/docs/stable/generated/torch.nn.TransformerEncoder.html>`__ \uacc4\uce35(layer)\uc5d0 \ud3ec\ud568\ub429\ub2c8\ub2e4.\n`nn.TransformerEncoder <https://pytorch.org/docs/stable/generated/torch.nn.TransformerEncoder.html>`__ \ub294\n`nn.TransformerEncoderLayer <https://pytorch.org/docs/stable/generated/torch.nn.TransformerEncoderLayer.html>`__ \uc758 ``nlayers`` \ub85c \uad6c\uc131\ub418\uc5b4 \uc788\uc2b5\ub2c8\ub2e4.\n\uacb0\uacfc\uc801\uc73c\ub85c, \uc774 \ud29c\ud1a0\ub9ac\uc5bc\uc5d0\uc11c\ub294 ``nn.TransformerEncoder`` \uc5d0 \uc911\uc810\uc744 \ub450\uace0 \uc788\uc73c\uba70\n``nn.TransformerEncoderLayer`` \uc758 \uc808\ubc18\uc740 \ud55c GPU\uc5d0 \ub450\uace0\n\ub098\uba38\uc9c0 \uc808\ubc18\uc740 \ub2e4\ub978 GPU\uc5d0 \uc788\ub3c4\ub85d \ubaa8\ub378\uc744 \ubd84\ud560\ud569\ub2c8\ub2e4. \uc774\ub97c \uc704\ud574\uc11c ``Encoder`` \uc640\n``Decoder`` \uc139\uc158\uc744 \ubd84\ub9ac\ub41c \ubaa8\ub4c8\ub85c \ube7c\ub0b8 \ub2e4\uc74c, \uc6d0\ubcf8 \ud2b8\ub79c\uc2a4\ud3ec\uba38 \ubaa8\ub4c8\uc744\n\ub098\ud0c0\ub0b4\ub294 nn.Sequential\uc744 \ube4c\ub4dc \ud569\ub2c8\ub2e4.\n\n"
      ]
    },
    {
      "cell_type": "code",
      "execution_count": null,
      "metadata": {
        "collapsed": false
      },
      "outputs": [],
      "source": [
        "if sys.platform == 'win32':\n    print('Windows platform is not supported for pipeline parallelism')\n    sys.exit(0)\nif torch.cuda.device_count() < 4:\n    print('Need at least four GPU devices for this tutorial')\n    sys.exit(0)\n\nclass Encoder(nn.Module):\n    def __init__(self, ntoken, ninp, dropout=0.5):\n        super(Encoder, self).__init__()\n        self.pos_encoder = PositionalEncoding(ninp, dropout)\n        self.encoder = nn.Embedding(ntoken, ninp)\n        self.ninp = ninp\n        self.init_weights()\n\n    def init_weights(self):\n        initrange = 0.1\n        self.encoder.weight.data.uniform_(-initrange, initrange)\n\n    def forward(self, src):\n        # Need (S, N) format for encoder.\n        src = src.t()\n        src = self.encoder(src) * math.sqrt(self.ninp)\n        return self.pos_encoder(src)\n\nclass Decoder(nn.Module):\n    def __init__(self, ntoken, ninp):\n        super(Decoder, self).__init__()\n        self.decoder = nn.Linear(ninp, ntoken)\n        self.init_weights()\n\n    def init_weights(self):\n        initrange = 0.1\n        self.decoder.bias.data.zero_()\n        self.decoder.weight.data.uniform_(-initrange, initrange)\n\n    def forward(self, inp):\n        # Need batch dimension first for output of pipeline.\n        return self.decoder(inp).permute(1, 0, 2)"
      ]
    },
    {
      "cell_type": "markdown",
      "metadata": {},
      "source": [
        "\ud559\uc2b5\uc744 \uc704\ud55c \ub2e4\uc911 \ud504\ub85c\uc138\uc2a4 \uc2dc\uc791\n------------------------------\n\n\n"
      ]
    },
    {
      "cell_type": "markdown",
      "metadata": {},
      "source": [
        "\uac01\uac01 \ub450 \uac1c\uc758 GPU\uc5d0\uc11c \uc790\uccb4 \ud30c\uc774\ud504\ub77c\uc778\uc744 \uad6c\ub3d9\ud558\ub294 \ub450 \uac1c\uc758 \ud504\ub85c\uc138\uc2a4\ub97c \uc2dc\uc791\ud569\ub2c8\ub2e4.\n``run_worker`` \ub294 \uac01 \ud504\ub85c\uc138\uc2a4\uc5d0 \uc2e4\ud589\ub429\ub2c8\ub2e4.\n\n"
      ]
    },
    {
      "cell_type": "code",
      "execution_count": null,
      "metadata": {
        "collapsed": false
      },
      "outputs": [],
      "source": [
        "def run_worker(rank, world_size):"
      ]
    },
    {
      "cell_type": "markdown",
      "metadata": {},
      "source": [
        "\ub370\uc774\ud130 \ub85c\ub4dc\ud558\uace0 \ubc30\uce58 \ub9cc\ub4e4\uae30\n---------------------------\n\n\n"
      ]
    },
    {
      "cell_type": "markdown",
      "metadata": {},
      "source": [
        "\ud559\uc2b5 \ud504\ub85c\uc138\uc2a4\ub294 ``torchtext`` \uc758 Wikitext-2 \ub370\uc774\ud130\uc14b\uc744 \uc0ac\uc6a9\ud569\ub2c8\ub2e4.\ntorchtext \ub370\uc774\ud130\uc14b\uc5d0 \uc811\uadfc\ud558\uae30 \uc804\uc5d0, https://github.com/pytorch/data \uc744 \ucc38\uace0\ud558\uc5ec torchdata\ub97c\n\uc124\uce58\ud558\uc2dc\uae30 \ubc14\ub78d\ub2c8\ub2e4.\n\ub2e8\uc5b4 \uc624\ube0c\uc81d\ud2b8\ub294 \ud6c8\ub828 \ub370\uc774\ud130\uc14b\uc73c\ub85c \ub9cc\ub4e4\uc5b4\uc9c0\uace0, \ud1a0\ud070\uc744 \ud150\uc11c(tensor)\ub85c \uc218\uce58\ud654\ud558\ub294\ub370 \uc0ac\uc6a9\ub429\ub2c8\ub2e4.\n\uc2dc\ud000\uc2a4 \ub370\uc774\ud130\ub85c\ubd80\ud130 \uc2dc\uc791\ud558\uc5ec, ``batchify()`` \ud568\uc218\ub294 \ub370\uc774\ud130\uc14b\uc744 \uc5f4(column)\ub4e4\ub85c \uc815\ub9ac\ud558\uace0,\n``batch_size`` \uc0ac\uc774\uc988\uc758 \ubc30\uce58\ub4e4\ub85c \ub098\ub208 \ud6c4\uc5d0 \ub0a8\uc740 \ubaa8\ub4e0 \ud1a0\ud070\uc744 \ubc84\ub9bd\ub2c8\ub2e4.\n\uc608\ub97c \ub4e4\uc5b4, \uc54c\ud30c\ubcb3\uc744 \uc2dc\ud000\uc2a4(\ucd1d \uae38\uc774 26)\ub85c \uc0dd\uac01\ud558\uace0 \ubc30\uce58 \uc0ac\uc774\uc988\ub97c 4\ub77c\uace0 \ud55c\ub2e4\uba74,\n\uc54c\ud30c\ubcb3\uc744 \uae38\uc774\uac00 6\uc778 4\uac1c\uc758 \uc2dc\ud000\uc2a4\ub85c \ub098\ub20c \uc218 \uc788\uc2b5\ub2c8\ub2e4:\n\n\\begin{align}\\begin{bmatrix}\n  \\text{A} & \\text{B} & \\text{C} & \\ldots & \\text{X} & \\text{Y} & \\text{Z}\n  \\end{bmatrix}\n  \\Rightarrow\n  \\begin{bmatrix}\n  \\begin{bmatrix}\\text{A} \\\\ \\text{B} \\\\ \\text{C} \\\\ \\text{D} \\\\ \\text{E} \\\\ \\text{F}\\end{bmatrix} &\n  \\begin{bmatrix}\\text{G} \\\\ \\text{H} \\\\ \\text{I} \\\\ \\text{J} \\\\ \\text{K} \\\\ \\text{L}\\end{bmatrix} &\n  \\begin{bmatrix}\\text{M} \\\\ \\text{N} \\\\ \\text{O} \\\\ \\text{P} \\\\ \\text{Q} \\\\ \\text{R}\\end{bmatrix} &\n  \\begin{bmatrix}\\text{S} \\\\ \\text{T} \\\\ \\text{U} \\\\ \\text{V} \\\\ \\text{W} \\\\ \\text{X}\\end{bmatrix}\n  \\end{bmatrix}\\end{align}\n\n\uc774 \uc5f4\ub4e4\uc740 \ubaa8\ub378\uc5d0 \uc758\ud574\uc11c \ub3c5\ub9bd\uc801\uc73c\ub85c \ucde8\uae09\ub418\uba70, \uc774\ub294\n``G``\u00a0\uc640\u00a0``F``\u00a0\uc758 \uc758\uc874\uc131\uc774 \ud559\uc2b5\ub420 \uc218 \uc5c6\ub2e4\ub294 \uac83\uc744 \uc758\ubbf8\ud558\uc9c0\ub9cc, \ub354 \ud6a8\uc728\uc801\uc778\n\ubc30\uce58 \ud504\ub85c\uc138\uc2f1(batch processing)\uc744 \ud5c8\uc6a9\ud569\ub2c8\ub2e4.\n\n\n"
      ]
    },
    {
      "cell_type": "code",
      "execution_count": null,
      "metadata": {
        "collapsed": false
      },
      "outputs": [],
      "source": [
        "# In 'run_worker'\n    def print_with_rank(msg):\n        print('[RANK {}]: {}'.format(rank, msg))\n\n    from torchtext.datasets import WikiText2\n    from torchtext.data.utils import get_tokenizer\n    from torchtext.vocab import build_vocab_from_iterator\n\n    train_iter = WikiText2(split='train')\n    tokenizer = get_tokenizer('basic_english')\n    vocab = build_vocab_from_iterator(map(tokenizer, train_iter), specials=[\"<unk>\"])\n    vocab.set_default_index(vocab[\"<unk>\"])\n\n    def data_process(raw_text_iter):\n      data = [torch.tensor(vocab(tokenizer(item)), dtype=torch.long) for item in raw_text_iter]\n      return torch.cat(tuple(filter(lambda t: t.numel() > 0, data)))\n\n    train_iter, val_iter, test_iter = WikiText2()\n    train_data = data_process(train_iter)\n    val_data = data_process(val_iter)\n    test_data = data_process(test_iter)\n\n    device = torch.device(2 * rank)\n\n    def batchify(data, bsz, rank, world_size, is_train=False):\n        # Divide the dataset into bsz parts.\n        nbatch = data.size(0) // bsz\n        # Trim off any extra elements that wouldn't cleanly fit (remainders).\n        data = data.narrow(0, 0, nbatch * bsz)\n        # Evenly divide the data across the bsz batches.\n        data = data.view(bsz, -1).t().contiguous()\n        # Divide the data across the ranks only for training data.\n        if is_train:\n            data_per_rank = data.size(0) // world_size\n            data = data[rank * data_per_rank : (rank + 1) * data_per_rank]\n        return data.to(device)\n\n    batch_size = 20\n    eval_batch_size = 10\n    train_data = batchify(train_data, batch_size, rank, world_size, True)\n    val_data = batchify(val_data, eval_batch_size, rank, world_size)\n    test_data = batchify(test_data, eval_batch_size, rank, world_size)"
      ]
    },
    {
      "cell_type": "markdown",
      "metadata": {},
      "source": [
        "\uc785\ub825\uacfc \ud0c0\uac9f \uc2dc\ud000\uc2a4\ub97c \uc0dd\uc131\ud558\uae30 \uc704\ud55c \ud568\uc218\ub4e4\n~~~~~~~~~~~~~~~~~~~~~~~~~~~~~~~~~~~~~~~~~\n\n\n"
      ]
    },
    {
      "cell_type": "markdown",
      "metadata": {},
      "source": [
        "``get_batch()`` \ud568\uc218\ub294 \ud2b8\ub79c\uc2a4\ud3ec\uba38 \ubaa8\ub378\uc744 \uc704\ud55c \uc785\ub825\uacfc \ud0c0\uac9f \uc2dc\ud000\uc2a4\ub97c\n\uc0dd\uc131\ud569\ub2c8\ub2e4. \uc774 \ud568\uc218\ub294 \uc18c\uc2a4 \ub370\uc774\ud130\ub97c ``bptt`` \uae38\uc774\ub97c \uac00\uc9c4 \ub369\uc5b4\ub9ac\ub85c \uc138\ubd84\ud654\ud569\ub2c8\ub2e4.\n\uc5b8\uc5b4 \ubaa8\ub378\ub9c1 \uacfc\uc81c\ub97c \uc704\ud574\uc11c, \ubaa8\ub378\uc740\n\ub2e4\uc74c \ub2e8\uc5b4\uc778 ``Target`` \uc774 \ud544\uc694\ud569\ub2c8\ub2e4. \uc608\ub97c \ub4e4\uc5b4 ``bptt`` \uc758 \uac12\uc774 2\ub77c\uba74,\n``i`` = 0 \uc77c \ub54c \ub2e4\uc74c\uc758 2 \uac1c \ubcc0\uc218(Variable)\ub97c \uc5bb\uc744 \uc218 \uc788\uc2b5\ub2c8\ub2e4:\n\n![](../_static/img/transformer_input_target.png)\n\n\n\uccad\ud06c\uac00 \ucc28\uc6d0 0\uc5d0 \uc18d\ud558\uba70\n\ud2b8\ub79c\uc2a4\ud3ec\uba38 \ubaa8\ub378\uc758 ``S`` \ucc28\uc6d0\uacfc \uc77c\uce58\ud55c\ub2e4\ub294 \uac83\uc744 \uc720\uc758\ud574\uc57c \ud569\ub2c8\ub2e4.\n\ubc30\uce58 \ucc28\uc6d0\u00a0``N``\u00a0\uc740 1 \ucc28\uc6d0\uc5d0 \ud574\ub2f9\ud569\ub2c8\ub2e4.\n\n\n"
      ]
    },
    {
      "cell_type": "code",
      "execution_count": null,
      "metadata": {
        "collapsed": false
      },
      "outputs": [],
      "source": [
        "# In 'run_worker'\n    bptt = 35\n    def get_batch(source, i):\n        seq_len = min(bptt, len(source) - 1 - i)\n        data = source[i:i+seq_len]\n        target = source[i+1:i+1+seq_len].view(-1)\n        # Need batch dimension first for pipeline parallelism.\n        return data.t(), target"
      ]
    },
    {
      "cell_type": "markdown",
      "metadata": {},
      "source": [
        "\ubaa8\ub378 \uaddc\ubaa8\uc640 \ud30c\uc774\ud504 \ucd08\uae30\ud654\n-------------------------\n\n\n"
      ]
    },
    {
      "cell_type": "markdown",
      "metadata": {},
      "source": [
        "\ubcd1\ub82c \ucc98\ub9ac \ud30c\uc774\ud504\ub77c\uc778\uc744 \ud65c\uc6a9\ud55c \ub300\ud615 \ud2b8\ub79c\uc2a4\ud3ec\uba38 \ubaa8\ub378 \ud559\uc2b5\uc744 \ubcf4\uc774\uae30 \uc704\ud574,\n\ud2b8\ub79c\uc2a4\ud3ec\uba38 \uacc4\uce35 \uaddc\ubaa8\ub97c \uc801\uc808\ud788 \ud655\uc7a5\uc2dc\ud0b5\ub2c8\ub2e4.\n4096\ucc28\uc6d0\uc758 \uc784\ubca0\ub529 \ubca1\ud130, 4096\uc758 \uc740\ub2c9 \uc0ac\uc774\uc988, 16\uac1c\uc758 \uc5b4\ud150\uc158 \ud5e4\ub4dc(attention head)\uc640 \ucd1d 8 \uac1c\uc758\n\ud2b8\ub79c\uc2a4\ud3ec\uba38 \uacc4\uce35 (``nn.TransformerEncoderLayer``)\ub97c \uc0ac\uc6a9\ud569\ub2c8\ub2e4. \uc774\ub294 \ucd5c\ub300\n**~1 \uc5b5** \uac1c\uc758 \ud30c\ub77c\ubbf8\ud130\ub97c \uac16\ub294 \ubaa8\ub378\uc744 \uc0dd\uc131\ud569\ub2c8\ub2e4.\n\n`RPC \ud504\ub808\uc784\uc6cc\ud06c <https://pytorch.org/docs/stable/rpc.html>`__ \ub97c \ucd08\uae30\ud654\ud574\uc57c \ud569\ub2c8\ub2e4.\nPipe\uac00  \ud5a5\ud6c4 \ud638\uc2a4\ud2b8 \ud30c\uc774\ud504\ub77c\uc778\uc744 \uad50\ucc28 \ud655\uc7a5\ud560 \uc218 \uc788\ub3c4\ub85d \ud558\ub294 `RRef <https://pytorch.org/docs/stable/rpc.html#rref>`__ \ub97c \ud1b5\ud574\nRPC \ud504\ub808\uc784\uc6cc\ud06c\uc5d0 \uc758\uc874\ud558\uae30 \ub54c\ubb38\uc785\ub2c8\ub2e4.\n\uc774\ub54c RPC \ud504\ub808\uc784\uc6cc\ud06c\ub294 \uc624\uc9c1 \ud558\ub098\uc758 \ud558\ub098\uc758 worker\ub85c \ucd08\uae30\ud654\ub97c \ud574\uc57c \ud558\ub294\ub370,\n\uc5ec\ub7ec GPU\ub97c \ub2e4\ub8e8\uae30 \uc704\ud574 \ud504\ub85c\uc138\uc2a4 \ud558\ub098\ub9cc \uc0ac\uc6a9\ud558\uace0 \uc788\uae30 \ub54c\ubb38\uc785\ub2c8\ub2e4.\n\n\uadf8\ub7f0 \ub2e4\uc74c \ud30c\uc774\ud504\ub77c\uc778\uc740 \ud55c GPU\uc5d0 8\uac1c\uc758 \ud2b8\ub79c\uc2a4\ud3ec\uba38\uc640\n\ub2e4\ub978 GPU\uc5d0 8\uac1c\uc758 \ud2b8\ub79c\uc2a4\ud3ec\uba38 \uacc4\uce35\uc73c\ub85c \ucd08\uae30\ud654\ub429\ub2c8\ub2e4. \ud55c \ud30c\uc774\ud504\ub294 GPU 0, 1\uc5d0 \uac70\uccd0 \uc124\uc815\ub418\uace0\n\ub2e4\ub978 \ud558\ub098\ub294 GPU 2, 3\uc5d0 \uc124\uc815\ub429\ub2c8\ub2e4. \uadf8\ub7f0 \ub2e4\uc74c DistributedDataParallel\uc744 \uc0ac\uc6a9\ud558\uc5ec \ub450 \ud30c\uc774\ud504\uac00 \ubaa8\ub450 \ubcf5\uc81c\ub429\ub2c8\ub2e4.\n\n"
      ]
    },
    {
      "cell_type": "code",
      "execution_count": null,
      "metadata": {
        "collapsed": false
      },
      "outputs": [],
      "source": [
        "# In 'run_worker'\n    ntokens = len(vocab) # the size of vocabulary\n    emsize = 4096 # embedding dimension\n    nhid = 4096 # the dimension of the feedforward network model in nn.TransformerEncoder\n    nlayers = 8 # the number of nn.TransformerEncoderLayer in nn.TransformerEncoder\n    nhead = 16 # the number of heads in the multiheadattention models\n    dropout = 0.2 # the dropout value\n\n    from torch.distributed import rpc\n    tmpfile = tempfile.NamedTemporaryFile()\n    rpc.init_rpc(\n        name=\"worker\",\n        rank=0,\n        world_size=1,\n        rpc_backend_options=rpc.TensorPipeRpcBackendOptions(\n            init_method=\"file://{}\".format(tmpfile.name),\n            # Specifying _transports and _channels is a workaround and we no longer\n            # will have to specify _transports and _channels for PyTorch\n            # versions >= 1.8.1\n            _transports=[\"ibv\", \"uv\"],\n            _channels=[\"cuda_ipc\", \"cuda_basic\"],\n        )\n    )\n\n    # Num gpus for model parallelism.\n    num_gpus = 2\n    partition_len = ((nlayers - 1) // num_gpus) + 1\n\n    # Add encoder in the beginning.\n    tmp_list = [Encoder(ntokens, emsize, dropout).cuda(2 * rank)]\n    module_list = []\n\n    # Add all the necessary transformer blocks.\n    for i in range(nlayers):\n        transformer_block = TransformerEncoderLayer(emsize, nhead, nhid, dropout)\n        if i != 0 and i % (partition_len) == 0:\n            module_list.append(nn.Sequential(*tmp_list))\n            tmp_list = []\n        device = i // (partition_len)\n        tmp_list.append(transformer_block.to(2 * rank + device))\n\n    # Add decoder in the end.\n    tmp_list.append(Decoder(ntokens, emsize).cuda(2 * rank + num_gpus - 1))\n    module_list.append(nn.Sequential(*tmp_list))\n\n    # Need to use 'checkpoint=never' since as of PyTorch 1.8, Pipe checkpointing\n    # doesn't work with DDP.\n    from torch.distributed.pipeline.sync import Pipe\n    chunks = 8\n    model = Pipe(torch.nn.Sequential(\n        *module_list), chunks = chunks, checkpoint=\"never\")\n\n    # Initialize process group and wrap model in DDP.\n    from torch.nn.parallel import DistributedDataParallel\n    import torch.distributed as dist\n    os.environ['MASTER_ADDR'] = 'localhost'\n    os.environ['MASTER_PORT'] = '29500'\n    dist.init_process_group(\n                backend=\"nccl\", rank=rank, world_size=world_size)\n    model = DistributedDataParallel(model)\n\n    def get_total_params(module: torch.nn.Module):\n        total_params = 0\n        for param in module.parameters():\n            total_params += param.numel()\n        return total_params\n\n    print_with_rank('Total parameters in model: {:,}'.format(get_total_params(model)))"
      ]
    },
    {
      "cell_type": "markdown",
      "metadata": {},
      "source": [
        "\ubaa8\ub378 \uc2e4\ud589\ud558\uae30\n-------------\n\n\n"
      ]
    },
    {
      "cell_type": "markdown",
      "metadata": {},
      "source": [
        "\uc190\uc2e4(loss)\uc744 \ucd94\uc801\ud558\uae30 \uc704\ud574 `CrossEntropyLoss <https://pytorch.org/docs/master/nn.html?highlight=crossentropyloss#torch.nn.CrossEntropyLoss>`__ \uac00\n\uc801\uc6a9\ub418\uba70, \uc635\ud2f0\ub9c8\uc774\uc800(optimizer)\ub85c\uc11c `SGD <https://pytorch.org/docs/master/optim.html?highlight=sgd#torch.optim.SGD>`__\n\ub294 \ud655\ub960\uc801 \uacbd\uc0ac\ud558\uac15\ubc95(stochastic gradient descent method)\uc744 \uad6c\ud604\ud569\ub2c8\ub2e4. \ucd08\uae30\n\ud559\uc2b5\ub960(learning rate)\uc740 5.0\ub85c \uc124\uc815\ub429\ub2c8\ub2e4. `StepLR <https://pytorch.org/docs/master/optim.html?highlight=steplr#torch.optim.lr_scheduler.StepLR>`__ \ub294\n\uc5d0\ud3ed(epoch)\uc5d0 \ub530\ub77c\uc11c \ud559\uc2b5\ub960\uc744 \uc870\uc808\ud558\ub294 \ub370 \uc0ac\uc6a9\ub429\ub2c8\ub2e4. \ud559\uc2b5\ud558\ub294 \ub3d9\uc548,\n\uae30\uc6b8\uae30 \ud3ed\ubc1c(gradient exploding)\uc744 \ubc29\uc9c0\ud558\uae30 \uc704\ud574 \ubaa8\ub4e0 \uae30\uc6b8\uae30\ub97c \ud568\uaed8 \uc870\uc815(scale)\ud558\ub294 \ud568\uc218\n`nn.utils.clip_grad_norm\\_ <https://pytorch.org/docs/master/nn.html?highlight=nn%20utils%20clip_grad_norm#torch.nn.utils.clip_grad_norm_>`__\n\uc744 \uc774\uc6a9\ud569\ub2c8\ub2e4.\n\n\n"
      ]
    },
    {
      "cell_type": "code",
      "execution_count": null,
      "metadata": {
        "collapsed": false
      },
      "outputs": [],
      "source": [
        "# In 'run_worker'\n    criterion = nn.CrossEntropyLoss()\n    lr = 5.0 # learning rate\n    optimizer = torch.optim.SGD(model.parameters(), lr=lr)\n    scheduler = torch.optim.lr_scheduler.StepLR(optimizer, 1.0, gamma=0.95)\n\n    import time\n    def train():\n        model.train() # Turn on the train mode\n        total_loss = 0.\n        start_time = time.time()\n        ntokens = len(vocab)\n\n        # Train only for 50 batches to keep script execution time low.\n        nbatches = min(50 * bptt, train_data.size(0) - 1)\n\n        for batch, i in enumerate(range(0, nbatches, bptt)):\n            data, targets = get_batch(train_data, i)\n            optimizer.zero_grad()\n            # Since the Pipe is only within a single host and process the ``RRef``\n            # returned by forward method is local to this node and can simply\n            # retrieved via ``RRef.local_value()``.\n            output = model(data).local_value()\n            # Need to move targets to the device where the output of the\n            # pipeline resides.\n            loss = criterion(output.view(-1, ntokens), targets.cuda(2 * rank + 1))\n            loss.backward()\n            torch.nn.utils.clip_grad_norm_(model.parameters(), 0.5)\n            optimizer.step()\n\n            total_loss += loss.item()\n            log_interval = 10\n            if batch % log_interval == 0 and batch > 0:\n                cur_loss = total_loss / log_interval\n                elapsed = time.time() - start_time\n                print_with_rank('| epoch {:3d} | {:5d}/{:5d} batches | '\n                      'lr {:02.2f} | ms/batch {:5.2f} | '\n                      'loss {:5.2f} | ppl {:8.2f}'.format(\n                        epoch, batch, nbatches // bptt, scheduler.get_last_lr()[0],\n                        elapsed * 1000 / log_interval,\n                        cur_loss, math.exp(cur_loss)))\n                total_loss = 0\n                start_time = time.time()\n\n    def evaluate(eval_model, data_source):\n        eval_model.eval() # Turn on the evaluation mode\n        total_loss = 0.\n        ntokens = len(vocab)\n        # Evaluate only for 50 batches to keep script execution time low.\n        nbatches = min(50 * bptt, data_source.size(0) - 1)\n        with torch.no_grad():\n            for i in range(0, nbatches, bptt):\n                data, targets = get_batch(data_source, i)\n                output = eval_model(data).local_value()\n                output_flat = output.view(-1, ntokens)\n                # Need to move targets to the device where the output of the\n                # pipeline resides.\n                total_loss += len(data) * criterion(output_flat, targets.cuda(2 * rank + 1)).item()\n        return total_loss / (len(data_source) - 1)"
      ]
    },
    {
      "cell_type": "markdown",
      "metadata": {},
      "source": [
        "\uc5d0\ud3ed\uc744 \ubc18\ubcf5\ud569\ub2c8\ub2e4. \ub9cc\uc57d \uac80\uc99d \uc624\ucc28(validation loss)\uac00 \uc9c0\uae08\uae4c\uc9c0 \uad00\ucc30\ud55c \uac83 \uc911 \ucd5c\uc801\uc774\ub77c\uba74\n\ubaa8\ub378\uc744 \uc800\uc7a5\ud569\ub2c8\ub2e4. \uac01 \uc5d0\ud3ed \uc774\ud6c4\uc5d0 \ud559\uc2b5\ub960\uc744 \uc870\uc808\ud569\ub2c8\ub2e4.\n\n"
      ]
    },
    {
      "cell_type": "code",
      "execution_count": null,
      "metadata": {
        "collapsed": false
      },
      "outputs": [],
      "source": [
        "# In 'run_worker'\n    best_val_loss = float(\"inf\")\n    epochs = 3 # The number of epochs\n    best_model = None\n\n    for epoch in range(1, epochs + 1):\n        epoch_start_time = time.time()\n        train()\n        val_loss = evaluate(model, val_data)\n        print_with_rank('-' * 89)\n        print_with_rank('| end of epoch {:3d} | time: {:5.2f}s | valid loss {:5.2f} | '\n              'valid ppl {:8.2f}'.format(epoch, (time.time() - epoch_start_time),\n                                         val_loss, math.exp(val_loss)))\n        print_with_rank('-' * 89)\n\n        if val_loss < best_val_loss:\n            best_val_loss = val_loss\n            best_model = model\n\n        scheduler.step()"
      ]
    },
    {
      "cell_type": "markdown",
      "metadata": {},
      "source": [
        "\ud3c9\uac00 \ub370\uc774\ud130\uc14b\uc73c\ub85c \ubaa8\ub378 \ud3c9\uac00\ud558\uae30\n-------------------------------\n\n\ud3c9\uac00 \ub370\uc774\ud130\uc14b\uc5d0\uc11c\uc758 \uacb0\uacfc\ub97c \ud655\uc778\ud558\uae30 \uc704\ud574 \ucd5c\uace0\uc758 \ubaa8\ub378\uc744 \uc801\uc6a9\ud569\ub2c8\ub2e4.\n\n"
      ]
    },
    {
      "cell_type": "code",
      "execution_count": null,
      "metadata": {
        "collapsed": false
      },
      "outputs": [],
      "source": [
        "# In 'run_worker'\n    test_loss = evaluate(best_model, test_data)\n    print_with_rank('=' * 89)\n    print_with_rank('| End of training | test loss {:5.2f} | test ppl {:8.2f}'.format(\n        test_loss, math.exp(test_loss)))\n    print_with_rank('=' * 89)\n\n# Main execution\nimport torch.multiprocessing as mp\n\nif __name__==\"__main__\":\n    world_size = 2\n    mp.spawn(run_worker, args=(world_size, ), nprocs=world_size, join=True)"
      ]
    },
    {
      "cell_type": "markdown",
      "metadata": {},
      "source": [
        "Output\n------\n\n\n"
      ]
    },
    {
      "cell_type": "markdown",
      "metadata": {},
      "source": [
        ".. code-block:: py\n\n    [RANK 0]: | epoch   1 |    10/   50 batches | lr 5.00 | ms/batch 778.97 | loss 43.31 | ppl 6432469059895903232.00\n    [RANK 1]: | epoch   1 |    10/   50 batches | lr 5.00 | ms/batch 778.90 | loss 44.50 | ppl 21245447128217366528.00\n    [RANK 0]: | epoch   1 |    20/   50 batches | lr 5.00 | ms/batch 699.89 | loss 44.50 | ppl 21176949187407757312.00\n    [RANK 1]: | epoch   1 |    20/   50 batches | lr 5.00 | ms/batch 699.87 | loss 44.62 | ppl 23975861229620961280.00\n    [RANK 0]: | epoch   1 |    30/   50 batches | lr 5.00 | ms/batch 698.86 | loss 41.62 | ppl 1193312915629888256.00\n    [RANK 1]: | epoch   1 |    30/   50 batches | lr 5.00 | ms/batch 698.87 | loss 40.69 | ppl 471605759847546240.00\n    [RANK 0]: | epoch   1 |    40/   50 batches | lr 5.00 | ms/batch 698.34 | loss 45.20 | ppl 42812308420836458496.00\n    [RANK 1]: | epoch   1 |    40/   50 batches | lr 5.00 | ms/batch 698.33 | loss 45.68 | ppl 68839569686012223488.00\n    [RANK 1]: -----------------------------------------------------------------------------------------\n    [RANK 1]: | end of epoch   1 | time: 40.08s | valid loss  0.80 | valid ppl     2.22\n    [RANK 1]: -----------------------------------------------------------------------------------------\n    [RANK 0]: -----------------------------------------------------------------------------------------\n    [RANK 0]: | end of epoch   1 | time: 40.09s | valid loss  0.80 | valid ppl     2.22\n    [RANK 0]: -----------------------------------------------------------------------------------------\n    [RANK 0]: | epoch   2 |    10/   50 batches | lr 4.75 | ms/batch 768.51 | loss 36.34 | ppl 6063529544668166.00\n    [RANK 1]: | epoch   2 |    10/   50 batches | lr 4.75 | ms/batch 769.23 | loss 37.41 | ppl 17651211266236086.00\n    [RANK 0]: | epoch   2 |    20/   50 batches | lr 4.75 | ms/batch 699.57 | loss 28.97 | ppl 3798441739584.11\n    [RANK 1]: | epoch   2 |    20/   50 batches | lr 4.75 | ms/batch 699.56 | loss 29.28 | ppl 5203636967575.47\n    [RANK 0]: | epoch   2 |    30/   50 batches | lr 4.75 | ms/batch 699.04 | loss 28.43 | ppl 2212498693571.25\n    [RANK 1]: | epoch   2 |    30/   50 batches | lr 4.75 | ms/batch 699.05 | loss 28.33 | ppl 2015144761281.48\n    [RANK 0]: | epoch   2 |    40/   50 batches | lr 4.75 | ms/batch 699.10 | loss 23.30 | ppl 13121380184.92\n    [RANK 1]: | epoch   2 |    40/   50 batches | lr 4.75 | ms/batch 699.09 | loss 23.41 | ppl 14653799192.87\n    [RANK 0]: -----------------------------------------------------------------------------------------\n    [RANK 0]: | end of epoch   2 | time: 39.97s | valid loss  0.24 | valid ppl     1.27\n    [RANK 0]: -----------------------------------------------------------------------------------------\n    [RANK 1]: -----------------------------------------------------------------------------------------\n    [RANK 1]: | end of epoch   2 | time: 39.98s | valid loss  0.24 | valid ppl     1.27\n    [RANK 1]: -----------------------------------------------------------------------------------------\n    [RANK 0]: | epoch   3 |    10/   50 batches | lr 4.51 | ms/batch 769.36 | loss 12.80 | ppl 361681.11\n    [RANK 1]: | epoch   3 |    10/   50 batches | lr 4.51 | ms/batch 768.97 | loss 12.57 | ppl 287876.61\n    [RANK 0]: | epoch   3 |    20/   50 batches | lr 4.51 | ms/batch 698.27 | loss 12.01 | ppl 164364.60\n    [RANK 1]: | epoch   3 |    20/   50 batches | lr 4.51 | ms/batch 698.30 | loss 11.98 | ppl 159095.89\n    [RANK 0]: | epoch   3 |    30/   50 batches | lr 4.51 | ms/batch 697.75 | loss 10.90 | ppl 54261.91\n    [RANK 1]: | epoch   3 |    30/   50 batches | lr 4.51 | ms/batch 697.72 | loss 10.89 | ppl 53372.39\n    [RANK 0]: | epoch   3 |    40/   50 batches | lr 4.51 | ms/batch 699.49 | loss 10.78 | ppl 47948.35\n    [RANK 1]: | epoch   3 |    40/   50 batches | lr 4.51 | ms/batch 699.50 | loss 10.79 | ppl 48664.42\n    [RANK 0]: -----------------------------------------------------------------------------------------\n    [RANK 0]: | end of epoch   3 | time: 39.96s | valid loss  0.38 | valid ppl     1.46\n    [RANK 0]: -----------------------------------------------------------------------------------------\n    [RANK 1]: -----------------------------------------------------------------------------------------\n    [RANK 1]: | end of epoch   3 | time: 39.96s | valid loss  0.38 | valid ppl     1.46\n    [RANK 1]: -----------------------------------------------------------------------------------------\n    [RANK 0]: =========================================================================================\n    [RANK 0]: | End of training | test loss  0.33 | test ppl     1.39\n    [RANK 0]: =========================================================================================\n    [RANK 1]: =========================================================================================\n    [RANK 1]: | End of training | test loss  0.33 | test ppl     1.39\n    [RANK 1]: =========================================================================================\n\n\n"
      ]
    }
  ],
  "metadata": {
    "kernelspec": {
      "display_name": "Python 3",
      "language": "python",
      "name": "python3"
    },
    "language_info": {
      "codemirror_mode": {
        "name": "ipython",
        "version": 3
      },
      "file_extension": ".py",
      "mimetype": "text/x-python",
      "name": "python",
      "nbconvert_exporter": "python",
      "pygments_lexer": "ipython3",
      "version": "3.9.13"
    }
  },
  "nbformat": 4,
  "nbformat_minor": 0
}