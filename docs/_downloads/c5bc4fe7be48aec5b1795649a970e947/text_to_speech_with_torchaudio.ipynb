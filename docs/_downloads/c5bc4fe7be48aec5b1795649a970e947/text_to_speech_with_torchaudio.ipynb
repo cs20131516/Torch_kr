{
  "cells": [
    {
      "cell_type": "code",
      "execution_count": null,
      "metadata": {
        "collapsed": false
      },
      "outputs": [],
      "source": [
        "%matplotlib inline"
      ]
    },
    {
      "cell_type": "markdown",
      "metadata": {},
      "source": [
        "\ntorchaudio\ub97c \uc0ac\uc6a9\ud558\uc5ec \ud14d\uc2a4\ud2b8\uc5d0\uc11c \uc74c\uc131\uc73c\ub85c \ubcc0\ud658(text-to-speech)\n==============================================================\n**Author**: `Yao-Yuan Yang <https://github.com/yangarbiter>`__, `Moto Hira <moto@fb.com>`__\n**\ubc88\uc5ed\uc790**: `\uc774\uac00\ub78c <https://github.com/garam24>`__\n"
      ]
    },
    {
      "cell_type": "code",
      "execution_count": null,
      "metadata": {
        "collapsed": false
      },
      "outputs": [],
      "source": [
        "# %matplotlib inline"
      ]
    },
    {
      "cell_type": "markdown",
      "metadata": {},
      "source": [
        "\uac1c\uc694\n--------\n\n\uc774\ubc88 \ud29c\ud1a0\ub9ac\uc5bc\uc5d0\uc11c\ub294 torchaudio\uc5d0\uc11c \uc0ac\uc804\ud559\uc2b5\ub41c Tacotron2\ub97c \uc0ac\uc6a9\ud558\uc5ec \ud14d\uc2a4\ud2b8\uc5d0\uc11c \uc74c\uc131\uc73c\ub85c \ubcc0\ud658\ud558\ub294 \n\ud30c\uc774\ud504\ub77c\uc778\uc744 \uc18c\uac1c\ud569\ub2c8\ub2e4. \n\n\ud14d\uc2a4\ud2b8\uc5d0\uc11c \uc74c\uc131\uc73c\ub85c \ubcc0\ud658\ud558\ub294 \ud30c\uc774\ud504\ub77c\uc778\uc740 \ub2e4\uc74c\uc758 \ub2e8\uacc4\ub97c \ub530\ub985\ub2c8\ub2e4: 1. \ud14d\uc2a4\ud2b8 \uc804\ucc98\ub9ac\n\n\uba3c\uc800, \uc785\ub825 \ud14d\uc2a4\ud2b8\ub97c \uae30\ud638 \ub9ac\uc2a4\ud2b8\ub85c \uc778\ucf54\ub529(encoding)\ud569\ub2c8\ub2e4. \uc774 \ud29c\ud1a0\ub9ac\uc5bc\uc5d0\uc11c\ub294 \uc601\ubb38\uc790\ub97c \uc0ac\uc6a9\ud558\uace0\n\uae30\ud638\ub85c\ub294 \uc74c\uc18c(phonene)\ub97c \uc0ac\uc6a9\ud558\uace0\uc790 \ud569\ub2c8\ub2e4.\n\n2. \uc2a4\ud399\ud2b8\ub85c\uadf8\ub7a8(spectrogram) \uc0dd\uc131\n\n\uc778\ucf54\ub529\ub41c \ud14d\uc2a4\ud2b8\ub85c\ubd80\ud130 \uc2a4\ud399\ud2b8\ub85c\uadf8\ub7a8\uc744 \uc0dd\uc131\ud569\ub2c8\ub2e4. \uc774\ub97c \uc704\ud574 ``Tacotron2`` \ubaa8\ub378\uc744 \uc0ac\uc6a9\ud560 \uc608\uc815\uc785\ub2c8\ub2e4.\n\n3. \uc2dc\uac04-\ub3c4\uba54\uc778(time-domain) \ubcc0\ud658\n\n\ub9c8\uc9c0\ub9c9 \ub2e8\uacc4\uc5d0\uc11c \uc2a4\ud399\ud2b8\ub85c\uadf8\ub7a8\uc744 \ud30c\ud615(waveform)\uc73c\ub85c \ubcc0\ud658\ud569\ub2c8\ub2e4.\n\uc2a4\ud399\ud2b8\ub85c\uadf8\ub7a8\uc73c\ub85c\ubd80\ud130 \uc74c\uc131\uc744 \uc0dd\uc131\ud558\ub294 \uc774 \uacfc\uc815\uc744 \ubcf4\ucf54\ub354(vocoder)\ub77c\uace0 \ubd80\ub974\uae30\ub3c4 \ud569\ub2c8\ub2e4.\n\uc774 \ud29c\ud1a0\ub9ac\uc5bc\uc5d0\uc11c\ub294 \uc138 \uac00\uc9c0 \uc885\ub958\uc758 \ubcf4\ucf54\ub354\uac00 \uc0ac\uc6a9\ub429\ub2c8\ub2e4.\n```WaveRNN`` <https://pytorch.org/audio/stable/models/wavernn.html>`__,\n```Griffin-Lim`` <https://pytorch.org/audio/stable/transforms.html#griffinlim>`__,\nand\n```Nvidia's WaveGlow`` <https://pytorch.org/hub/nvidia_deeplearningexamples_tacotron2/>`__.\n\n\ub2e4\uc74c \uadf8\ub9bc\uc740 \uc804\uccb4 \uacfc\uc815\uc744 \ubcf4\uc5ec\uc90d\ub2c8\ub2e4.\n\n![](https://download.pytorch.org/torchaudio/tutorial-assets/tacotron2_tts_pipeline.png)\n\n\n\n"
      ]
    },
    {
      "cell_type": "markdown",
      "metadata": {},
      "source": [
        "\uc900\ube44 \ub2e8\uacc4\n-----------\n\n\uba3c\uc800, \ud544\uc694\ud55c \ub77c\uc774\ube0c\ub7ec\ub77c\ub97c \uc124\uce58\ud569\ub2c8\ub2e4. \uc74c\uc18c \ub2e8\uc704 \uc778\ucf54\ub529\uc744 \ud558\uae30 \uc704\ud574\uc11c\ub294 ``torchaudio`` \ub97c \ube44\ub86f\ud558\uc5ec, ``DeepPhonemizer`` \uac00 \ud544\uc694\ud569\ub2c8\ub2e4.\n\n\uc8fc\ud53c\ud130 \ub178\ud2b8\ubd81\uc5d0\uc11c \uc774 \uc608\uc81c\ub97c \uc2e4\ud589\ud560 \ub54c, DeepPhonemizer\ub97c \uc124\uce58\ud574\uc8fc\uc138\uc694.\n!pip3 install deep_phonemizer\n\n"
      ]
    },
    {
      "cell_type": "code",
      "execution_count": null,
      "metadata": {
        "collapsed": false
      },
      "outputs": [],
      "source": [
        "import torch\nimport torchaudio\nimport matplotlib.pyplot as plt\n\nimport IPython\n\nprint(torch.__version__)\nprint(torchaudio.__version__)\n\ntorch.random.manual_seed(0)\ndevice = \"cuda\" if torch.cuda.is_available() else \"cpu\""
      ]
    },
    {
      "cell_type": "markdown",
      "metadata": {},
      "source": [
        "\ud14d\uc2a4\ud2b8 \ucc98\ub9ac\n---------------\n\n\n"
      ]
    },
    {
      "cell_type": "markdown",
      "metadata": {},
      "source": [
        "\ubb38\uc790 \uae30\ubc18 \uc778\ucf54\ub529\n~~~~~~~~~~~~~~~~~~~~~~~~\n\n\uc774\ubc88 \uc139\uc158\uc5d0\uc11c\ub294 \ubb38\uc790 \uae30\ubc18 \uc778\ucf54\ub529\uc774 \uc5b4\ub5bb\uac8c \uc774\ub8e8\uc5b4\uc9c0\ub294\uc9c0 \ub2e4\ub8f0 \uc608\uc815\uc785\ub2c8\ub2e4.\n\n\uc0ac\uc804\ud559\uc2b5\ub41c Tacotron2 \ubaa8\ub378\uc740 \uae30\ud638 \ud14c\uc774\ube14\ub4e4\uc758 \uc9d1\ud569\uc744 \uad6c\uccb4\uc801\uc73c\ub85c \ud544\uc694\ub85c \ud558\uae30 \ub54c\ubb38\uc5d0,\n``torchaudio`` \ub294 \ud574\ub2f9 \uae30\ub2a5\uc744 \uc81c\uacf5\ud558\uace0 \uc788\uc2b5\ub2c8\ub2e4. \uc774\ubc88 \uc139\uc158\uc5d0\uc11c\ub294 \uc778\ucf54\ub529 \uae30\ucd08\uc5d0 \ub300\ud55c \uc124\uba85\ubcf4\ub2e4 \uc870\uae08 \ub354 \ub098\uc544\uac00\uace0\uc790 \ud569\ub2c8\ub2e4.\n\n\uba3c\uc800 \uae30\ud638\ub4e4\uc758 \uc9d1\ud569\uc744 \uc815\uc758\ud569\ub2c8\ub2e4. \uc608\ub97c \ub4e4\uc5b4, ``'_-!\\'(),.:;? abcdefghijklmnopqrstuvwxyz'`` \uc640 \uac19\uc740 \uac83\ub4e4\uc744 \uc0ac\uc6a9\ud560 \uc218 \uc788\uc2b5\ub2c8\ub2e4. \n\uadf8\ub9ac\uace0 \ub098\uc11c \uc785\ub825 \ud14d\uc2a4\ud2b8\uc758 \uac01\uac01\uc758 \ubb38\uc790\ub97c \ud14c\uc774\ube14 \uc0c1\uc5d0\uc11c \ub300\uc751\ud558\ub294 \uae30\ud638\uc758 \uc778\ub371\uc2a4\uc5d0 \ub9f5\ud551(mapping)\ud569\ub2c8\ub2e4.\n\n\uc544\ub798\ub294 \uc774\ub7ec\ud55c \uacfc\uc815\uc758 \uc608\uc2dc\uc785\ub2c8\ub2e4. \ud14c\uc774\ube14\uc5d0 \ud3ec\ud568\ub418\uc5b4\uc788\uc9c0 \uc54a\uc740 \uae30\ud638\ub4e4\uc740 \uc774 \uc608\uc81c\uc5d0\uc11c \uc81c\uc678\ud558\uc600\uc2b5\ub2c8\ub2e4.\n\n\n"
      ]
    },
    {
      "cell_type": "code",
      "execution_count": null,
      "metadata": {
        "collapsed": false
      },
      "outputs": [],
      "source": [
        "symbols = '_-!\\'(),.:;? abcdefghijklmnopqrstuvwxyz'\nlook_up = {s: i for i, s in enumerate(symbols)}\nsymbols = set(symbols)\n\ndef text_to_sequence(text):\n  text = text.lower()\n  return [look_up[s] for s in text if s in symbols]\n\ntext = \"Hello world! Text to speech!\"\nprint(text_to_sequence(text))"
      ]
    },
    {
      "cell_type": "markdown",
      "metadata": {},
      "source": [
        "\uc704\uc5d0\uc11c \uc5b8\uae09\ud55c \uac83\uacfc \uac19\uc774, \uae30\ud638 \ud14c\uc774\ube14\uacfc \uc778\ub371\uc2a4\ub294 \uc0ac\uc804\ud559\uc2b5\ub41c Tacotron2 \ubaa8\ub378\uc5d0\uc11c \uc694\uad6c\ud558\ub294 \ud615\ud0dc\uc640\n\uc77c\uce58\ud574\uc57c\ud569\ub2c8\ub2e4. ``torchaudio`` \ub294 \uc0ac\uc804\ud559\uc2b5\ub41c \ubaa8\ub378\uc5d0 \ub9de\ucd94\uc5b4 \ubcc0\ud658\uc2dc\ud0a4\ub294 \uae30\ub2a5\uc744 \uc81c\uacf5\ud569\ub2c8\ub2e4.\n\uc774 \uc608\uc81c\uc5d0\uc11c\ub294 \uc774\ub7ec\ud55c \ubcc0\ud658 \uae30\ub2a5\uc744 \uc544\ub798\uc640 \uac19\uc774 \uc778\uc2a4\ud134\uc2a4\ud654\ud558\uc5ec \uc0ac\uc6a9\ud560 \uc218 \uc788\uc2b5\ub2c8\ub2e4.\n\n\n"
      ]
    },
    {
      "cell_type": "code",
      "execution_count": null,
      "metadata": {
        "collapsed": false
      },
      "outputs": [],
      "source": [
        "processor = torchaudio.pipelines.TACOTRON2_WAVERNN_CHAR_LJSPEECH.get_text_processor()\n\ntext = \"Hello world! Text to speech!\"\nprocessed, lengths = processor(text)\n\nprint(processed)\nprint(lengths)"
      ]
    },
    {
      "cell_type": "markdown",
      "metadata": {},
      "source": [
        "``processor`` \uac1d\uccb4\ub294 \ud14d\uc2a4\ud2b8 \ub610\ub294 \ud14d\uc2a4\ud2b8 \ub9ac\uc2a4\ud2b8\ub97c \uc785\ub825\uc73c\ub85c \ubc1b\uc544\ub4e4\uc785\ub2c8\ub2e4.\n\ud14d\uc2a4\ud2b8 \ub9ac\uc2a4\ud2b8\uac00 \uc8fc\uc5b4\uc9c8 \ub54c, \ubc18\ud658\ub418\ub294 ``lenghts`` \ubcc0\uc218\ub294 \ucd9c\ub825 \ubc30\uce58(batch)\uc5d0\uc11c \n\ucc98\ub9ac\ub41c \uac01 \ud1a0\ud070\uc758 \uc720\ud6a8 \uae38\uc774\ub97c \ub098\ud0c0\ub0c5\ub2c8\ub2e4.\n\n\uc911\uac04 \ub2e8\uacc4\uc758 \ud615\ud0dc\ub294 \ub2e4\uc74c\uacfc \uac19\uc774 \uac80\uc0c9\ud560 \uc218 \uc788\uc2b5\ub2c8\ub2e4.\n\n\n"
      ]
    },
    {
      "cell_type": "code",
      "execution_count": null,
      "metadata": {
        "collapsed": false
      },
      "outputs": [],
      "source": [
        "print([processor.tokens[i] for i in processed[0, :lengths[0]]])"
      ]
    },
    {
      "cell_type": "markdown",
      "metadata": {},
      "source": [
        "\uc74c\uc18c \uae30\ubc18 \uc778\ucf54\ub529\n~~~~~~~~~~~~~~~~~~~~~~~~~\n\n\uc74c\uc18c \uae30\ubc18 \uc778\ucf54\ub529\uc740 \ubb38\uc790 \uae30\ubc18 \uc778\ucf54\ub529\uacfc \uc720\uc0ac\ud558\uc9c0\ub9cc, \n\uc74c\uc18c\uc5d0 \uae30\ubc18\ud55c \uae30\ud638 \ud14c\uc774\ube14\uc744 \uc0ac\uc6a9\ud558\uace0 G2P (Grapheme-to-Phoneme) \ubaa8\ub378\uc744 \uc0ac\uc6a9\ud55c\ub2e4\ub294 \uc810\uc5d0\uc11c \ub2e4\ub985\ub2c8\ub2e4.\n\nG2P \ubaa8\ub378\uc5d0 \ub300\ud55c \uc0c1\uc138\ud55c \ub0b4\uc6a9\uc740 \uc774\ubc88 \ud29c\ud1a0\ub9ac\uc5bc\uc758 \ubc94\uc704\ub97c \ubc97\uc5b4\ub098\uae30 \ub54c\ubb38\uc5d0 \n\ud574\ub2f9 \ubcc0\ud658\uc774 \uc5b4\ub5bb\uac8c \uc774\ub8e8\uc5b4\uc9c0\ub294\uc9c0\ub97c \uc911\uc2ec\uc73c\ub85c \uc0b4\ud3b4\ubcf4\uaca0\uc2b5\ub2c8\ub2e4.\n\n\ubb38\uc790 \uae30\ubc18 \uc778\ucf54\ub529\uc758 \uacbd\uc6b0\uc640 \ube44\uc2b7\ud558\uac8c, \uc778\ucf54\ub529 \uacfc\uc815\uc740 \uc0ac\uc804\ud559\uc2b5\ub41c Tacotron2\uac00 \ud559\uc2b5\ub41c \ud615\ud0dc\uc5d0 \ub9e4\uce6d\ub418\uc5b4\uc57c \ud569\ub2c8\ub2e4.\n``torchaudio`` \ub294 \uc774\ub7ec\ud55c \uacfc\uc815\uc744 \uc704\ud55c \uc778\ud130\ud398\uc774\uc2a4(interface)\ub97c \uc81c\uacf5\ud569\ub2c8\ub2e4.\n\n\ub2e4\uc74c\uc758 \ucf54\ub4dc\ub294 \uc774\ub7ec\ud55c \uacfc\uc815\uc744 \ub9cc\ub4e4\uace0 \uc0ac\uc6a9\ud558\ub294 \ubc29\ubc95\uc744 \ubcf4\uc5ec\uc90d\ub2c8\ub2e4. \n\ub4a4 \ud3b8\uc5d0\uc11c\ub294, ``DeepPhonemizer`` \ud328\ud0a4\uc9c0\ub97c \uc0ac\uc6a9\ud558\uc5ec G2P \ubaa8\ub378\uc774 \uc0dd\uc131\ub418\uace0 ``DeepPhonemizer`` \uc758 \uc800\uc790\uac00\n\uacf5\uac1c\ud55c \uc0ac\uc804\ud559\uc2b5\ub41c \uac00\uc911\uce58\uac00 \ubd88\ub7ec\ub4e4\uc5ec\uc9c0\uac8c \ub429\ub2c8\ub2e4.\n\n\n"
      ]
    },
    {
      "cell_type": "code",
      "execution_count": null,
      "metadata": {
        "collapsed": false
      },
      "outputs": [],
      "source": [
        "bundle = torchaudio.pipelines.TACOTRON2_WAVERNN_PHONE_LJSPEECH\n\nprocessor = bundle.get_text_processor()\n\ntext = \"Hello world! Text to speech!\"\nwith torch.inference_mode():\n  processed, lengths = processor(text)\n\nprint(processed)\nprint(lengths)"
      ]
    },
    {
      "cell_type": "markdown",
      "metadata": {},
      "source": [
        "\uc778\ucf54\ub529\ub41c \uac12\ub4e4\uc774 \ubb38\uc790 \uae30\ubc18 \uc778\ucf54\ub529\uc758 \uc608\uc81c\uc640\ub294 \ub2e4\ub974\ub2e4\ub294 \uc810\uc5d0 \uc720\uc758\ud558\uc138\uc694.\n\n\uc911\uac04 \uacfc\uc815\uc740 \ub2e4\uc74c\uacfc \uac19\uc740 \ubaa8\uc2b5\uc744 \ubcf4\uc785\ub2c8\ub2e4.\n\n\n"
      ]
    },
    {
      "cell_type": "code",
      "execution_count": null,
      "metadata": {
        "collapsed": false
      },
      "outputs": [],
      "source": [
        "print([processor.tokens[i] for i in processed[0, :lengths[0]]])"
      ]
    },
    {
      "cell_type": "markdown",
      "metadata": {},
      "source": [
        "\uc2a4\ud399\ud2b8\ub85c\uadf8\ub7a8 \uc0dd\uc131\n------------------------------\n\n``Tacotron2`` \ub294 \uc778\ucf54\ub529\ub41c \ud14d\uc2a4\ud2b8\ub85c\ubd80\ud130 \uc2a4\ud399\ud2b8\ub85c\uadf8\ub7a8\uc744 \uc0dd\uc131\ud558\ub294 \ub370 \uc0ac\uc6a9\ub418\ub294 \ubaa8\ub378\uc785\ub2c8\ub2e4. \n\ubaa8\ub378\uc5d0 \ub300\ud55c \uc790\uc138\ud55c \ub0b4\uc6a9\uc740 \ub2e4\uc74c\uc758 `\ub17c\ubb38<https://arxiv.org/abs/1712.05884>`__ \uc744 \ucc38\uace0\ud574\uc8fc\uc138\uc694.\n\n\uc0ac\uc804\ud559\uc2b5\ub41c \uac00\uc911\uce58\ub85c Tacotron2 \ubaa8\ub378\uc744 \uc778\uc2a4\ud134\uc2a4\ud654 \ud558\ub294 \uac83\uc740 \uac04\ub2e8\ud569\ub2c8\ub2e4. \n\ud558\uc9c0\ub9cc Tacotron2 \ubaa8\ub378\uc758 \uc785\ub825\uc740 \ub9e4\uce6d\ub418\ub294 \ud14d\uc2a4\ud2b8 \ud504\ub85c\uc138\uc11c(text processor)\ub85c \ucc98\ub9ac\ub418\uc5b4\uc57c \ud55c\ub2e4\ub294 \uac83\uc744\n\uc720\uc758\ud574\uc8fc\uc138\uc694.\n\n``torchaudio`` \ub294 \ub9e4\uce6d\ub418\ub294 \ubaa8\ub378\uacfc \ud504\ub85c\uc138\uc11c\ub97c \ud568\uaed8 \ubb36\uc5b4\uc11c \ud30c\uc774\ud504\ub77c\uc778\uc744 \ub9cc\ub4e4\uae30 \uc27d\ub3c4\ub85d \ud574\uc90d\ub2c8\ub2e4.\n\n(\uc0ac\uc6a9\ud560 \uc218 \uc788\ub294 \ubc88\ub4e4\uc758 \uc885\ub958\uc640 \uc0ac\uc6a9\ubc95\uc774 \uad81\uae08\ud558\ub2e4\uba74, `\uc774 \ubb38\uc11c <https://pytorch.org/audio/stable/pipelines.html#tacotron2-text-to-speech>`__ \ub97c \ucc38\uace0\ud558\uc138\uc694.)\n\n\n"
      ]
    },
    {
      "cell_type": "code",
      "execution_count": null,
      "metadata": {
        "collapsed": false
      },
      "outputs": [],
      "source": [
        "bundle = torchaudio.pipelines.TACOTRON2_WAVERNN_PHONE_LJSPEECH\nprocessor = bundle.get_text_processor()\ntacotron2 = bundle.get_tacotron2().to(device)\n\ntext = \"Hello world! Text to speech!\"\n\nwith torch.inference_mode():\n  processed, lengths = processor(text)\n  processed = processed.to(device)\n  lengths = lengths.to(device)\n  spec, _, _ = tacotron2.infer(processed, lengths)\n\n\nplt.imshow(spec[0].cpu().detach())"
      ]
    },
    {
      "cell_type": "markdown",
      "metadata": {},
      "source": [
        "``Tacotron2.infer`` \uba54\uc18c\ub4dc(method)\ub294 \ub2e4\ud56d \uc0d8\ud50c\ub9c1(multinomial sampling)\uc744 \ud55c\ub2e4\ub294 \uc810\uc744 \uc720\uc758\ud558\uc138\uc694,\n\ub530\ub77c\uc11c \uc2a4\ud399\ud2b8\ub85c\uadf8\ub7a8\uc744 \uc0dd\uc131\ud558\ub294 \uc774 \uacfc\uc815\uc5d0\uc11c \ubb34\uc791\uc704\uc131\uc774 \ubc1c\uc0dd\ud569\ub2c8\ub2e4.\n\n\n"
      ]
    },
    {
      "cell_type": "code",
      "execution_count": null,
      "metadata": {
        "collapsed": false
      },
      "outputs": [],
      "source": [
        "for _ in range(3):\n  with torch.inference_mode():\n    spec, spec_lengths, _ = tacotron2.infer(processed, lengths)\n  plt.imshow(spec[0].cpu().detach())\n  plt.show()"
      ]
    },
    {
      "cell_type": "markdown",
      "metadata": {},
      "source": [
        "\ud30c\ud615 \uc0dd\uc131\n---------\n\n\uc2a4\ud399\ud2b8\ub85c\uadf8\ub7a8\uc774 \uc77c\ub2e8 \uc0dd\uc131\ub418\uba74, \ub9c8\uc9c0\ub9c9 \ub2e8\uacc4\ub294 \uc2a4\ud399\ud2b8\ub85c\uadf8\ub7a8\uc73c\ub85c\ubd80\ud130 \ud30c\ud615\uc744 \ubcf5\uc6d0\ud558\ub294 \uac83\uc785\ub2c8\ub2e4.\n\n``torchaudio`` \ub294 \uadf8\ub9ac\ud540-\ub9bc(``GriffinLim``)\uacfc \uc6e8\uc774\ube0c RNN(``WaveRNN``)\uc5d0 \uae30\ubc18\ud55c \ubcf4\ucf54\ub354\ub97c \uc81c\uacf5\ud569\ub2c8\ub2e4.\n\n\n"
      ]
    },
    {
      "cell_type": "markdown",
      "metadata": {},
      "source": [
        "\uc6e8\uc774\ube0c RNN\n~~~~~~~~~~~\n\n\uc774\uc804 \uc139\uc158\uc5d0 \uc774\uc5b4\uc11c, \uac19\uc740 \ubc88\ub4e4\uc5d0\uc11c \uc77c\uce58\ud558\ub294 \uc6e8\uc774\ube0c RNN \ubaa8\ub378\uc744 \uc778\uc2a4\ud134\uc2a4\ud654\ud560 \uc218 \uc788\uc2b5\ub2c8\ub2e4.\n\n\n"
      ]
    },
    {
      "cell_type": "code",
      "execution_count": null,
      "metadata": {
        "collapsed": false
      },
      "outputs": [],
      "source": [
        "bundle = torchaudio.pipelines.TACOTRON2_WAVERNN_PHONE_LJSPEECH\n\nprocessor = bundle.get_text_processor()\ntacotron2 = bundle.get_tacotron2().to(device)\nvocoder = bundle.get_vocoder().to(device)\n\ntext = \"Hello world! Text to speech!\"\n\nwith torch.inference_mode():\n  processed, lengths = processor(text)\n  processed = processed.to(device)\n  lengths = lengths.to(device)\n  spec, spec_lengths, _ = tacotron2.infer(processed, lengths)\n  waveforms, lengths = vocoder(spec, spec_lengths)\n\ntorchaudio.save(\"output_wavernn.wav\", waveforms[0:1].cpu(), sample_rate=vocoder.sample_rate)\nIPython.display.display(IPython.display.Audio(\"output_wavernn.wav\"))"
      ]
    },
    {
      "cell_type": "markdown",
      "metadata": {},
      "source": [
        "\uadf8\ub9ac\ud540-\ub9bc\n~~~~~~~~~\n\n\uadf8\ub9ac\ud540-\ub9bc \ubcf4\ucf54\ub354\ub294 \uc6e8\uc774\ube0c RNN\uacfc \uc0ac\uc6a9\ud558\ub294 \ubc29\uc2dd\uc774 \uac19\uc2b5\ub2c8\ub2e4. \n\ubcf4\ucf54\ub4dc \uac1d\uccb4\ub97c ``get_vocoder`` \uba54\uc18c\ub4dc\ub85c \uc778\uc2a4\ud134\uc2a4\ud654\ud558\uc5ec \uc2a4\ud399\ud2b8\ub85c\uadf8\ub7a8\uc744 \ud1b5\uacfc\ud560 \uc218 \uc788\uc2b5\ub2c8\ub2e4.\n\n\n"
      ]
    },
    {
      "cell_type": "code",
      "execution_count": null,
      "metadata": {
        "collapsed": false
      },
      "outputs": [],
      "source": [
        "bundle = torchaudio.pipelines.TACOTRON2_GRIFFINLIM_PHONE_LJSPEECH\n\nprocessor = bundle.get_text_processor()\ntacotron2 = bundle.get_tacotron2().to(device)\nvocoder = bundle.get_vocoder().to(device)\n\nwith torch.inference_mode():\n  processed, lengths = processor(text)\n  processed = processed.to(device)\n  lengths = lengths.to(device)\n  spec, spec_lengths, _ = tacotron2.infer(processed, lengths)\nwaveforms, lengths = vocoder(spec, spec_lengths)\n\ntorchaudio.save(\"output_griffinlim.wav\", waveforms[0:1].cpu(), sample_rate=vocoder.sample_rate)\nIPython.display.display(IPython.display.Audio(\"output_griffinlim.wav\"))"
      ]
    },
    {
      "cell_type": "markdown",
      "metadata": {},
      "source": [
        "\uc6e8\uc774\ube0c \uae00\ub85c\uc6b0(Waveglow)\n~~~~~~~~~~~~~~~~~~~~~~~\n\n\uc6e8\uc774\ube0c \uae00\ub85c\uc6b0\ub294 \uc5d4\ube44\ub514\uc544(Nvidia)\uac00 \uacf5\uac1c\ud55c \ubcf4\ucf54\ub354\uc785\ub2c8\ub2e4. \uc0ac\uc804\ud559\uc2b5\ub41c \uac00\uc911\uce58\uac00 \ud1a0\uce58 \ud5c8\ube0c(Torch Hub)\uc5d0 \uacf5\uac1c\ub418\uc5b4 \uc788\uc2b5\ub2c8\ub2e4.\n``torch.hub`` \ubaa8\ub4c8\uc744 \uc0ac\uc6a9\ud558\uc5ec \ubaa8\ub378\uc744 \uc778\uc2a4\ud134\uc2a4\ud654 \ud560 \uc218 \uc788\uc2b5\ub2c8\ub2e4.\n\n\n"
      ]
    },
    {
      "cell_type": "code",
      "execution_count": null,
      "metadata": {
        "collapsed": false
      },
      "outputs": [],
      "source": [
        "waveglow = torch.hub.load('NVIDIA/DeepLearningExamples:torchhub', 'nvidia_waveglow', model_math='fp32')\nwaveglow = waveglow.remove_weightnorm(waveglow)\nwaveglow = waveglow.to(device)\nwaveglow.eval()\n\nwith torch.no_grad():\n  waveforms = waveglow.infer(spec)\n\ntorchaudio.save(\"output_waveglow.wav\", waveforms[0:1].cpu(), sample_rate=22050)\nIPython.display.display(IPython.display.Audio(\"output_waveglow.wav\"))"
      ]
    }
  ],
  "metadata": {
    "kernelspec": {
      "display_name": "Python 3",
      "language": "python",
      "name": "python3"
    },
    "language_info": {
      "codemirror_mode": {
        "name": "ipython",
        "version": 3
      },
      "file_extension": ".py",
      "mimetype": "text/x-python",
      "name": "python",
      "nbconvert_exporter": "python",
      "pygments_lexer": "ipython3",
      "version": "3.9.13"
    }
  },
  "nbformat": 4,
  "nbformat_minor": 0
}