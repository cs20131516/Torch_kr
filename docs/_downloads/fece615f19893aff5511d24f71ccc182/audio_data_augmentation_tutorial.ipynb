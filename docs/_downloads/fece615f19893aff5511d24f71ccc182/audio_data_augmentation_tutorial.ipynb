{
  "cells": [
    {
      "cell_type": "code",
      "execution_count": null,
      "metadata": {
        "collapsed": false
      },
      "outputs": [],
      "source": [
        "%matplotlib inline"
      ]
    },
    {
      "cell_type": "markdown",
      "metadata": {},
      "source": [
        "\n\uc624\ub514\uc624 \ub370\uc774\ud130 \uc99d\uac15\n=======================\n\n*\uc5ed\uc790*: Lee Jong Bub <https://github.com/bub3690>\n\n``torchaudio`` \ub294 \uc624\ub514\uc624 \ub370\uc774\ud130\ub97c \uc99d\uac15\uc2dc\ud0a4\ub294 \ub2e4\uc591\ud55c \ubc29\ubc95\ub4e4\uc744 \uc81c\uacf5\ud569\ub2c8\ub2e4.\n\n\uc774 \ud29c\ud1a0\ub9ac\uc5bc\uc5d0\uc11c\ub294 \ud6a8\uacfc, \ud544\ud130,\n\uacf5\uac04 \uc784\ud384\uc2a4 \uc751\ub2f5(RIR, Room Impulse Response)\uacfc \ucf54\ub371\uc744 \uc801\uc6a9\ud558\ub294 \ubc29\ubc95\uc744 \uc0b4\ud3b4\ubcf4\uaca0\uc2b5\ub2c8\ub2e4.\n\n\ud558\ub2e8\ubd80\uc5d0\uc11c\ub294, \uae68\ub057\ud55c \uc74c\uc131\uc73c\ub85c \ubd80\ud130 \ud734\ub300\ud3f0 \ub108\uba38\uc758 \uc7a1\uc74c\uc774 \ub080 \uc74c\uc131\uc744 \ud569\uc131\ud558\uaca0\uc2b5\ub2c8\ub2e4. \n"
      ]
    },
    {
      "cell_type": "code",
      "execution_count": null,
      "metadata": {
        "collapsed": false
      },
      "outputs": [],
      "source": [
        "import torch\nimport torchaudio\nimport torchaudio.functional as F\n\nprint(torch.__version__)\nprint(torchaudio.__version__)"
      ]
    },
    {
      "cell_type": "markdown",
      "metadata": {},
      "source": [
        "\uc900\ube44\n-----------\n\n\uba3c\uc800, \ubaa8\ub4c8\uc744 \ubd88\ub7ec\uc624\uace0 \ud29c\ud1a0\ub9ac\uc5bc\uc5d0 \uc0ac\uc6a9\ud560 \uc624\ub514\uc624 \uc790\ub8cc\ub4e4\uc744 \ub2e4\uc6b4\ub85c\ub4dc\ud569\ub2c8\ub2e4.\n\n\n"
      ]
    },
    {
      "cell_type": "code",
      "execution_count": null,
      "metadata": {
        "collapsed": false
      },
      "outputs": [],
      "source": [
        "import math\n\nfrom IPython.display import Audio\nimport matplotlib.pyplot as plt\n\nfrom torchaudio.utils import download_asset\n\nSAMPLE_WAV = download_asset(\"tutorial-assets/steam-train-whistle-daniel_simon.wav\")\nSAMPLE_RIR = download_asset(\"tutorial-assets/Lab41-SRI-VOiCES-rm1-impulse-mc01-stu-clo-8000hz.wav\")\nSAMPLE_SPEECH = download_asset(\"tutorial-assets/Lab41-SRI-VOiCES-src-sp0307-ch127535-sg0042-8000hz.wav\")\nSAMPLE_NOISE = download_asset(\"tutorial-assets/Lab41-SRI-VOiCES-rm1-babb-mc01-stu-clo-8000hz.wav\")"
      ]
    },
    {
      "cell_type": "markdown",
      "metadata": {},
      "source": [
        "\ud6a8\uacfc\uc640 \ud544\ud130\ub9c1 \uc801\uc6a9\ud558\uae30\n------------------------------\n\n:py:func:`torchaudio.sox_effects` \ub294 ``sox`` \uc640 \uc720\uc0ac\ud55c \ud544\ud130\ub4e4\uc744 \n\ud150\uc11c \uac1d\uccb4\ub4e4\uacfc \ud30c\uc77c \uac1d\uccb4 \uc624\ub514\uc624 \uc18c\uc2a4\ub4e4\uc5d0 \uc9c1\uc811 \uc801\uc6a9 \ud574\uc90d\ub2c8\ub2e4.\n\n\uc774\ub97c \uc704\ud574 \ub450\uac00\uc9c0 \ud568\uc218\uac00 \uc0ac\uc6a9\ub429\ub2c8\ub2e4:\n\n-  :py:func:`torchaudio.sox_effects.apply_effects_tensor` \ub294 \ud150\uc11c\uc5d0\n   \ud6a8\uacfc\ub97c \uc801\uc6a9\ud569\ub2c8\ub2e4.\n-  :py:func:`torchaudio.sox_effects.apply_effects_file` \ub294 \ub2e4\ub978 \uc624\ub514\uc624 \uc18c\uc2a4\ub4e4\uc5d0\n   \ud6a8\uacfc\ub97c \uc801\uc6a9\ud569\ub2c8\ub2e4.\n\n\ub450 \ud568\uc218\ub4e4\uc740 \ud6a8\uacfc\uc758 \uc815\uc758\ub97c  ``List[List[str]]`` \ud615\ud0dc\ub85c \ubc1b\uc544\ub4e4\uc785\ub2c8\ub2e4.\n``sox`` \uc640 \uc791\ub3d9\ud558\ub294 \ubc29\ubc95\uc774 \uac70\uc758 \uc720\uc0ac\ud569\ub2c8\ub2e4. \ud558\uc9c0\ub9cc, \ud55c\uac00\uc9c0 \uc720\uc758\uc810\uc740\n``sox`` \ub294 \uc790\ub3d9\uc73c\ub85c \ud6a8\uacfc\ub97c \ucd94\uac00\ud558\uc9c0\ub9cc, ``torchaudio`` \uc758 \uad6c\ud604\uc740 \uadf8\ub807\uc9c0 \uc54a\ub2e4\ub294 \uc810\uc785\ub2c8\ub2e4.\n\n\uc0ac\uc6a9 \uac00\ub2a5\ud55c \ud6a8\uacfc\ub4e4\uc758 \ubaa9\ub85d\uc744 \uc54c\uace0\uc2f6\ub2e4\uba74, `the sox\ndocumentation <http://sox.sourceforge.net/sox.html>`__ \uc744 \ucc38\uc870\ud574\uc8fc\uc138\uc694.\n\n**Tip** \uc989\uc11d\uc73c\ub85c \uc624\ub514\uc624 \ub370\uc774\ud130 \ub85c\ub4dc\uc640 \ub2e4\uc2dc \uc0d8\ud50c\ub9c1 \ud558\uace0\uc2f6\ub2e4\uba74, \n\ud6a8\uacfc ``\"rate\"`` \uc640 \ud568\uaed8 :py:func:`torchaudio.sox_effects.apply_effects_file` \uc744 \uc0ac\uc6a9\ud558\uc138\uc694.\n\n**Note** :py:func:`torchaudio.sox_effects.apply_effects_file` \ub294 \ud30c\uc77c \ud615\ud0dc\uc758 \uac1d\uccb4 \ub610\ub294 \uc8fc\uc18c \ud615\ud0dc\uc758 \uac1d\uccb4\ub97c \ubc1b\uc2b5\ub2c8\ub2e4.\n:py:func:`torchaudio.load` \uc640 \uc720\uc0ac\ud558\uac8c, \uc624\ub514\uc624 \ud3ec\ub9f7\uc774\n\ud30c\uc77c \ud655\uc7a5\uc790\ub098 \ud5e4\ub354\ub97c \ud1b5\ud574 \ucd94\ub860\ub420 \uc218 \uc5c6\uc73c\uba74,\n\uc804\ub2ec\uc778\uc790 ``format`` \uc744 \uc8fc\uc5b4, \uc624\ub514\uc624 \uc18c\uc2a4\uc758 \ud3ec\ub9f7\uc744 \uad6c\uccb4\ud654 \ud574\uc904 \uc218 \uc788\uc2b5\ub2c8\ub2e4.\n\n**Note** \uc774 \uacfc\uc815\uc740 \ubbf8\ubd84 \ubd88\uac00\ub2a5\ud569\ub2c8\ub2e4.\n\n\n"
      ]
    },
    {
      "cell_type": "code",
      "execution_count": null,
      "metadata": {
        "collapsed": false
      },
      "outputs": [],
      "source": [
        "# \ub370\uc774\ud130\ub97c \ubd88\ub7ec\uc635\ub2c8\ub2e4.\nwaveform1, sample_rate1 = torchaudio.load(SAMPLE_WAV)\n\n# \ud6a8\uacfc\ub4e4\uc744 \uc815\uc758\ud569\ub2c8\ub2e4.\neffects = [\n    [\"lowpass\", \"-1\", \"300\"],  # \ub2e8\uadf9 \uc800\uc8fc\ud30c \ud1b5\uacfc \ud544\ud130\ub97c \uc801\uc6a9\ud569\ub2c8\ub2e4.\n    [\"speed\", \"0.8\"],  # \uc18d\ub3c4\ub97c \uac10\uc18c\uc2dc\ud0b5\ub2c8\ub2e4.\n    # \uc774 \ubd80\ubd84\uc740 \uc0d8\ud50c \ub808\uc774\ud2b8\ub9cc \ubcc0\uacbd\ud558\uae30\uc5d0, \uc774\ud6c4\uc5d0\n    # \ud544\uc218\uc801\uc73c\ub85c `rate` \ud6a8\uacfc\ub97c \uae30\uc874 \uc0d8\ud50c \ub808\uc774\ud2b8\ub85c \uc8fc\uc5b4\uc57c\ud569\ub2c8\ub2e4.\n    [\"rate\", f\"{sample_rate1}\"],\n    [\"reverb\", \"-w\"],  # \uc794\ud5a5\uc740 \uc57d\uac04\uc758 \uadf9\uc801\uc778 \ub290\ub08c\uc744 \uc90d\ub2c8\ub2e4.\n]\n\n# \ud6a8\uacfc\ub4e4\uc744 \uc801\uc6a9\ud569\ub2c8\ub2e4.\nwaveform2, sample_rate2 = torchaudio.sox_effects.apply_effects_tensor(waveform1, sample_rate1, effects)\n\nprint(waveform1.shape, sample_rate1)\nprint(waveform2.shape, sample_rate2)"
      ]
    },
    {
      "cell_type": "markdown",
      "metadata": {},
      "source": [
        "\ud6a8\uacfc\uac00 \uc801\uc6a9\ub418\uba74, \ud504\ub808\uc784\uc758 \uc218\uc640 \ucc44\ub110\uc758 \uc218\ub294 \uae30\uc874\uc5d0 \uc801\uc6a9\ub41c \uac83\ub4e4\uacfc \ub2ec\ub77c\uc9d0\uc5d0 \uc8fc\uc758\ud558\uc138\uc694.\n\uc774\uc81c \uc624\ub514\uc624\ub97c \ub4e4\uc5b4\ubd05\uc2dc\ub2e4.\n\n\n"
      ]
    },
    {
      "cell_type": "code",
      "execution_count": null,
      "metadata": {
        "collapsed": false
      },
      "outputs": [],
      "source": [
        "def plot_waveform(waveform, sample_rate, title=\"Waveform\", xlim=None):\n    waveform = waveform.numpy()\n\n    num_channels, num_frames = waveform.shape\n    time_axis = torch.arange(0, num_frames) / sample_rate\n\n    figure, axes = plt.subplots(num_channels, 1)\n    if num_channels == 1:\n        axes = [axes]\n    for c in range(num_channels):\n        axes[c].plot(time_axis, waveform[c], linewidth=1)\n        axes[c].grid(True)\n        if num_channels > 1:\n            axes[c].set_ylabel(f\"Channel {c+1}\")\n        if xlim:\n            axes[c].set_xlim(xlim)\n    figure.suptitle(title)\n    plt.show(block=False)"
      ]
    },
    {
      "cell_type": "code",
      "execution_count": null,
      "metadata": {
        "collapsed": false
      },
      "outputs": [],
      "source": [
        "def plot_specgram(waveform, sample_rate, title=\"Spectrogram\", xlim=None):\n    waveform = waveform.numpy()\n\n    num_channels, _ = waveform.shape\n\n    figure, axes = plt.subplots(num_channels, 1)\n    if num_channels == 1:\n        axes = [axes]\n    for c in range(num_channels):\n        axes[c].specgram(waveform[c], Fs=sample_rate)\n        if num_channels > 1:\n            axes[c].set_ylabel(f\"Channel {c+1}\")\n        if xlim:\n            axes[c].set_xlim(xlim)\n    figure.suptitle(title)\n    plt.show(block=False)"
      ]
    },
    {
      "cell_type": "markdown",
      "metadata": {},
      "source": [
        "\uae30\uc874:\n~~~~~~~~~\n\n\n"
      ]
    },
    {
      "cell_type": "code",
      "execution_count": null,
      "metadata": {
        "collapsed": false
      },
      "outputs": [],
      "source": [
        "plot_waveform(waveform1, sample_rate1, title=\"Original\", xlim=(-0.1, 3.2))\nplot_specgram(waveform1, sample_rate1, title=\"Original\", xlim=(0, 3.04))\nAudio(waveform1, rate=sample_rate1)"
      ]
    },
    {
      "cell_type": "markdown",
      "metadata": {},
      "source": [
        "\ud6a8\uacfc \uc801\uc6a9 \ud6c4:\n~~~~~~~~~~~~~~~~\n\n\n"
      ]
    },
    {
      "cell_type": "code",
      "execution_count": null,
      "metadata": {
        "collapsed": false
      },
      "outputs": [],
      "source": [
        "plot_waveform(waveform2, sample_rate2, title=\"Effects Applied\", xlim=(-0.1, 3.2))\nplot_specgram(waveform2, sample_rate2, title=\"Effects Applied\", xlim=(0, 3.04))\nAudio(waveform2, rate=sample_rate2)"
      ]
    },
    {
      "cell_type": "markdown",
      "metadata": {},
      "source": [
        "\uc880 \ub354 \uadf9\uc801\uc73c\ub85c \ub4e4\ub9ac\uc9c0 \uc54a\ub098\uc694?\n\n\n"
      ]
    },
    {
      "cell_type": "markdown",
      "metadata": {},
      "source": [
        "\ubc29 \uc794\ud5a5 \ubaa8\uc758 \uc2e4\ud5d8\ud558\uae30\n-----------------------------\n\n`Convolution\nreverb <https://en.wikipedia.org/wiki/Convolution_reverb>`__ \ub294\n\uae68\ub057\ud55c \uc624\ub514\uc624\ub97c \ub2e4\ub978 \ud658\uacbd\uc5d0\uc11c \uc0dd\uc131\ub41c \uac83\ucc98\ub7fc \ub9cc\ub4e4\uc5b4\uc8fc\ub294 \uae30\uc220\uc785\ub2c8\ub2e4.\n\n\uc608\ub97c\ub4e4\uc5b4, \uacf5\uac04 \uc784\ud384\uc2a4 \uc751\ub2f5 (RIR)\uc744 \ud65c\uc6a9\ud558\uc5ec, \uae68\ub057\ud55c \uc74c\uc131\uc744\n\ub9c8\uce58 \ud68c\uc758\uc2e4\uc5d0\uc11c \ubc1c\uc74c\ub41c \uac83\ucc98\ub7fc \ub9cc\ub4e4 \uc218 \uc788\uc2b5\ub2c8\ub2e4.\n\n\uc774 \uacfc\uc815\uc744 \uc704\ud574\uc11c, RIR \ub370\uc774\ud130\uac00 \ud544\uc694\ud569\ub2c8\ub2e4. \ub2e4\uc74c \ub370\uc774\ud130\ub4e4\uc740 VOiCES \ub370\uc774\ud130\uc14b\uc5d0\uc11c \uc654\uc2b5\ub2c8\ub2e4.\n\ud558\uc9c0\ub9cc, \uc9c1\uc811 \ub179\uc74c\ud560 \uc218\ub3c4 \uc788\uc2b5\ub2c8\ub2e4. - \uc9c1\uc811 \ub9c8\uc774\ud06c\ub97c \ucf1c\uc2dc\uace0, \ubc15\uc218\ub97c \uce58\uc138\uc694!\n\n\n"
      ]
    },
    {
      "cell_type": "code",
      "execution_count": null,
      "metadata": {
        "collapsed": false
      },
      "outputs": [],
      "source": [
        "rir_raw, sample_rate = torchaudio.load(SAMPLE_RIR)\nplot_waveform(rir_raw, sample_rate, title=\"Room Impulse Response (raw)\")\nplot_specgram(rir_raw, sample_rate, title=\"Room Impulse Response (raw)\")\nAudio(rir_raw, rate=sample_rate)"
      ]
    },
    {
      "cell_type": "markdown",
      "metadata": {},
      "source": [
        "\uba3c\uc800, RIR\uc744 \uae68\ub057\ud558\uac8c \ub9cc\ub4e4\uc5b4\uc918\uc57c\ud569\ub2c8\ub2e4. \uc8fc\uc694\ud55c \uc784\ud384\uc2a4\ub97c \ucd94\ucd9c\ud558\uace0,\n\uc2e0\ud638 \uc804\ub825\uc744 \uc815\uaddc\ud654 \ud569\ub2c8\ub2e4. \uadf8\ub9ac\uace0 \ub098\uc11c \uc2dc\uac04\ucd95\uc744 \ub4a4\uc9d1\uc5b4 \uc90d\ub2c8\ub2e4.\n\n\n"
      ]
    },
    {
      "cell_type": "code",
      "execution_count": null,
      "metadata": {
        "collapsed": false
      },
      "outputs": [],
      "source": [
        "rir = rir_raw[:, int(sample_rate * 1.01) : int(sample_rate * 1.3)]\nrir = rir / torch.norm(rir, p=2)\nRIR = torch.flip(rir, [1])\n\nplot_waveform(rir, sample_rate, title=\"Room Impulse Response\")"
      ]
    },
    {
      "cell_type": "markdown",
      "metadata": {},
      "source": [
        "\uadf8 \ud6c4, RIR \ud544\ud130\uc640 \uc74c\uc131 \uc2e0\ud638\ub97c \ud569\uc131\uacf1 \ud569\ub2c8\ub2e4.\n\n\n"
      ]
    },
    {
      "cell_type": "code",
      "execution_count": null,
      "metadata": {
        "collapsed": false
      },
      "outputs": [],
      "source": [
        "speech, _ = torchaudio.load(SAMPLE_SPEECH)\n\nspeech_ = torch.nn.functional.pad(speech, (RIR.shape[1] - 1, 0))\naugmented = torch.nn.functional.conv1d(speech_[None, ...], RIR[None, ...])[0]"
      ]
    },
    {
      "cell_type": "markdown",
      "metadata": {},
      "source": [
        "\uae30\uc874:\n~~~~~~~~~\n\n\n"
      ]
    },
    {
      "cell_type": "code",
      "execution_count": null,
      "metadata": {
        "collapsed": false
      },
      "outputs": [],
      "source": [
        "plot_waveform(speech, sample_rate, title=\"Original\")\nplot_specgram(speech, sample_rate, title=\"Original\")\nAudio(speech, rate=sample_rate)"
      ]
    },
    {
      "cell_type": "markdown",
      "metadata": {},
      "source": [
        "RIR \uc801\uc6a9 \ud6c4:\n~~~~~~~~~~~~\n\n\n"
      ]
    },
    {
      "cell_type": "code",
      "execution_count": null,
      "metadata": {
        "collapsed": false
      },
      "outputs": [],
      "source": [
        "plot_waveform(augmented, sample_rate, title=\"RIR Applied\")\nplot_specgram(augmented, sample_rate, title=\"RIR Applied\")\nAudio(augmented, rate=sample_rate)"
      ]
    },
    {
      "cell_type": "markdown",
      "metadata": {},
      "source": [
        "\ubc30\uacbd \uc18c\uc74c \ucd94\uac00\ud558\uae30\n-----------------------\n\n\uc624\ub514\uc624 \ub370\uc774\ud130\uc5d0 \uc18c\uc74c\uc744 \ucd94\uac00\ud558\uae30 \uc704\ud574\uc11c, \uac04\ub2e8\ud788 \uc18c\uc74c \ud150\uc11c\ub97c \uc624\ub514\uc624 \ub370\uc774\ud130 \ud150\uc11c\uc5d0 \ub354\ud560 \uc218 \uc788\uc2b5\ub2c8\ub2e4.\n\uc18c\uc74c\uc758 \uc815\ub3c4\ub97c \uc870\uc808\ud558\ub294 \ud754\ud55c \ubc29\ubc95\uc740 \uc2e0\ud638 \ub300 \uc7a1\uc74c\ube44 (SNR)\ub97c \ubc14\uafb8\ub294 \uac83\uc785\ub2c8\ub2e4.\n[`wikipedia <https://ko.wikipedia.org/wiki/%EC%8B%A0%ED%98%B8_%EB%8C%80_%EC%9E%A1%EC%9D%8C%EB%B9%84>`__]\n\n$$ \\\\mathrm{SNR} = \\\\frac{P_{signal}}{P_{noise}} $$\n\n$$ \\\\mathrm{SNR_{dB}} = 10 \\\\log _{{10}} \\\\mathrm {SNR} $$\n\n\n"
      ]
    },
    {
      "cell_type": "code",
      "execution_count": null,
      "metadata": {
        "collapsed": false
      },
      "outputs": [],
      "source": [
        "speech, _ = torchaudio.load(SAMPLE_SPEECH)\nnoise, _ = torchaudio.load(SAMPLE_NOISE)\nnoise = noise[:, : speech.shape[1]]\n\nspeech_power = speech.norm(p=2)\nnoise_power = noise.norm(p=2)\n\nsnr_dbs = [20, 10, 3]\nnoisy_speeches = []\nfor snr_db in snr_dbs:\n    snr = 10 ** (snr_db / 20)\n    scale = snr * noise_power / speech_power\n    noisy_speeches.append((scale * speech + noise) / 2)"
      ]
    },
    {
      "cell_type": "markdown",
      "metadata": {},
      "source": [
        "\ubc30\uacbd \uc7a1\uc74c:\n~~~~~~~~~~~~~~~~~\n\n\n"
      ]
    },
    {
      "cell_type": "code",
      "execution_count": null,
      "metadata": {
        "collapsed": false
      },
      "outputs": [],
      "source": [
        "plot_waveform(noise, sample_rate, title=\"Background noise\")\nplot_specgram(noise, sample_rate, title=\"Background noise\")\nAudio(noise, rate=sample_rate)"
      ]
    },
    {
      "cell_type": "markdown",
      "metadata": {},
      "source": [
        "SNR 20 dB:\n~~~~~~~~~~\n\n\n"
      ]
    },
    {
      "cell_type": "code",
      "execution_count": null,
      "metadata": {
        "collapsed": false
      },
      "outputs": [],
      "source": [
        "snr_db, noisy_speech = snr_dbs[0], noisy_speeches[0]\nplot_waveform(noisy_speech, sample_rate, title=f\"SNR: {snr_db} [dB]\")\nplot_specgram(noisy_speech, sample_rate, title=f\"SNR: {snr_db} [dB]\")\nAudio(noisy_speech, rate=sample_rate)"
      ]
    },
    {
      "cell_type": "markdown",
      "metadata": {},
      "source": [
        "SNR 10 dB:\n~~~~~~~~~~\n\n\n"
      ]
    },
    {
      "cell_type": "code",
      "execution_count": null,
      "metadata": {
        "collapsed": false
      },
      "outputs": [],
      "source": [
        "snr_db, noisy_speech = snr_dbs[1], noisy_speeches[1]\nplot_waveform(noisy_speech, sample_rate, title=f\"SNR: {snr_db} [dB]\")\nplot_specgram(noisy_speech, sample_rate, title=f\"SNR: {snr_db} [dB]\")\nAudio(noisy_speech, rate=sample_rate)"
      ]
    },
    {
      "cell_type": "markdown",
      "metadata": {},
      "source": [
        "SNR 3 dB:\n~~~~~~~~~\n\n\n"
      ]
    },
    {
      "cell_type": "code",
      "execution_count": null,
      "metadata": {
        "collapsed": false
      },
      "outputs": [],
      "source": [
        "snr_db, noisy_speech = snr_dbs[2], noisy_speeches[2]\nplot_waveform(noisy_speech, sample_rate, title=f\"SNR: {snr_db} [dB]\")\nplot_specgram(noisy_speech, sample_rate, title=f\"SNR: {snr_db} [dB]\")\nAudio(noisy_speech, rate=sample_rate)"
      ]
    },
    {
      "cell_type": "markdown",
      "metadata": {},
      "source": [
        "\ucf54\ub371\uc744 \ud150\uc11c \uac1d\uccb4\uc5d0 \uc801\uc6a9\ud558\uae30\n-------------------------------\n\n:py:func:`torchaudio.functional.apply_codec` \ub294 \ud150\uc11c \uc624\ube0c\uc81d\ud2b8\uc5d0 \ucf54\ub371\uc744 \uc801\uc6a9\ud569\ub2c8\ub2e4.\n\n**Note** \uc774 \uacfc\uc815\uc740 \ubbf8\ubd84 \ubd88\uac00\ub2a5\ud569\ub2c8\ub2e4.\n\n\n"
      ]
    },
    {
      "cell_type": "code",
      "execution_count": null,
      "metadata": {
        "collapsed": false
      },
      "outputs": [],
      "source": [
        "waveform, sample_rate = torchaudio.load(SAMPLE_SPEECH)\n\nconfigs = [\n    {\"format\": \"wav\", \"encoding\": \"ULAW\", \"bits_per_sample\": 8},\n    {\"format\": \"gsm\"},\n    {\"format\": \"vorbis\", \"compression\": -1},\n]\nwaveforms = []\nfor param in configs:\n    augmented = F.apply_codec(waveform, sample_rate, **param)\n    waveforms.append(augmented)"
      ]
    },
    {
      "cell_type": "markdown",
      "metadata": {},
      "source": [
        "Original:\n~~~~~~~~~\n\n\n"
      ]
    },
    {
      "cell_type": "code",
      "execution_count": null,
      "metadata": {
        "collapsed": false
      },
      "outputs": [],
      "source": [
        "plot_waveform(waveform, sample_rate, title=\"Original\")\nplot_specgram(waveform, sample_rate, title=\"Original\")\nAudio(waveform, rate=sample_rate)"
      ]
    },
    {
      "cell_type": "markdown",
      "metadata": {},
      "source": [
        "8 bit mu-law:\n~~~~~~~~~~~~~\n\n\n"
      ]
    },
    {
      "cell_type": "code",
      "execution_count": null,
      "metadata": {
        "collapsed": false
      },
      "outputs": [],
      "source": [
        "plot_waveform(waveforms[0], sample_rate, title=\"8 bit mu-law\")\nplot_specgram(waveforms[0], sample_rate, title=\"8 bit mu-law\")\nAudio(waveforms[0], rate=sample_rate)"
      ]
    },
    {
      "cell_type": "markdown",
      "metadata": {},
      "source": [
        "GSM-FR:\n~~~~~~~\n\n\n"
      ]
    },
    {
      "cell_type": "code",
      "execution_count": null,
      "metadata": {
        "collapsed": false
      },
      "outputs": [],
      "source": [
        "plot_waveform(waveforms[1], sample_rate, title=\"GSM-FR\")\nplot_specgram(waveforms[1], sample_rate, title=\"GSM-FR\")\nAudio(waveforms[1], rate=sample_rate)"
      ]
    },
    {
      "cell_type": "markdown",
      "metadata": {},
      "source": [
        "Vorbis:\n~~~~~~~\n\n\n"
      ]
    },
    {
      "cell_type": "code",
      "execution_count": null,
      "metadata": {
        "collapsed": false
      },
      "outputs": [],
      "source": [
        "plot_waveform(waveforms[2], sample_rate, title=\"Vorbis\")\nplot_specgram(waveforms[2], sample_rate, title=\"Vorbis\")\nAudio(waveforms[2], rate=sample_rate)"
      ]
    },
    {
      "cell_type": "markdown",
      "metadata": {},
      "source": [
        "\uc804\ud654 \ub179\uc74c \ubaa8\uc758 \uc2e4\ud5d8\ud558\uae30\n---------------------------\n\n\uc774\uc804 \uae30\uc220\ub4e4\uc744 \ud63c\ud569\ud558\uc5ec, \ubc18\ud5a5\uc788\ub294 \ubc29\uc758 \uc0ac\ub78c\ub4e4\uc774 \uc774\uc57c\uae30\ud558\ub294 \ubc30\uacbd\uc5d0\uc11c \uc804\ud654 \ud1b5\ud654\ud558\ub294 \n\uac83 \ucc98\ub7fc \ub4e4\ub9ac\ub294 \uc624\ub514\uc624\ub97c \ubaa8\uc758 \uc2e4\ud5d8\ud560 \uc218 \uc788\uc2b5\ub2c8\ub2e4.\n\n\n"
      ]
    },
    {
      "cell_type": "code",
      "execution_count": null,
      "metadata": {
        "collapsed": false
      },
      "outputs": [],
      "source": [
        "sample_rate = 16000\noriginal_speech, sample_rate = torchaudio.load(SAMPLE_SPEECH)\n\nplot_specgram(original_speech, sample_rate, title=\"Original\")\n\n# RIR \uc801\uc6a9\ud558\uae30\nspeech_ = torch.nn.functional.pad(original_speech, (RIR.shape[1] - 1, 0))\nrir_applied = torch.nn.functional.conv1d(speech_[None, ...], RIR[None, ...])[0]\n\nplot_specgram(rir_applied, sample_rate, title=\"RIR Applied\")\n\n# \ubc30\uacbd \uc7a1\uc74c \ucd94\uac00\ud558\uae30\n# \uc7a1\uc74c\uc774 \uc2e4\uc81c \ud658\uacbd\uc5d0\uc11c \ub179\uc74c\ub418\uc5c8\uae30 \ub54c\ubb38\uc5d0, \uc7a1\uc74c\uc774 \ud658\uacbd\uc758 \uc74c\ud5a5 \ud2b9\uc9d5\uc744 \uac00\uc9c0\uace0 \uc788\ub2e4\uace0 \uace0\ub824\ud588\uc2b5\ub2c8\ub2e4.\n# \ub530\ub77c\uc11c, RIR \uc801\uc6a9 \ud6c4\uc5d0 \uc7a1\uc74c\uc744 \ucd94\uac00\ud588\uc2b5\ub2c8\ub2e4\nnoise, _ = torchaudio.load(SAMPLE_NOISE)\nnoise = noise[:, : rir_applied.shape[1]]\n\nsnr_db = 8\nscale = math.exp(snr_db / 10) * noise.norm(p=2) / rir_applied.norm(p=2)\nbg_added = (scale * rir_applied + noise) / 2\n\nplot_specgram(bg_added, sample_rate, title=\"BG noise added\")\n\n# \ud544\ud130\ub9c1\uc744 \uc801\uc6a9\ud558\uace0 \uc0d8\ud50c \ub808\uc774\ud2b8 \uc218\uc815\ud558\uae30\nfiltered, sample_rate2 = torchaudio.sox_effects.apply_effects_tensor(\n    bg_added,\n    sample_rate,\n    effects=[\n        [\"lowpass\", \"4000\"],\n        [\n            \"compand\",\n            \"0.02,0.05\",\n            \"-60,-60,-30,-10,-20,-8,-5,-8,-2,-8\",\n            \"-8\",\n            \"-7\",\n            \"0.05\",\n        ],\n        [\"rate\", \"8000\"],\n    ],\n)\n\nplot_specgram(filtered, sample_rate2, title=\"Filtered\")\n\n# \uc804\ud654 \ucf54\ub371 \uc801\uc6a9\ud558\uae30\ncodec_applied = F.apply_codec(filtered, sample_rate2, format=\"gsm\")\n\nplot_specgram(codec_applied, sample_rate2, title=\"GSM Codec Applied\")"
      ]
    },
    {
      "cell_type": "markdown",
      "metadata": {},
      "source": [
        "\uae30\uc874 \uc74c\uc131:\n~~~~~~~~~~~~~~~~\n\n\n"
      ]
    },
    {
      "cell_type": "code",
      "execution_count": null,
      "metadata": {
        "collapsed": false
      },
      "outputs": [],
      "source": [
        "Audio(original_speech, rate=sample_rate)"
      ]
    },
    {
      "cell_type": "markdown",
      "metadata": {},
      "source": [
        "RIR \uc801\uc6a9 \ud6c4:\n~~~~~~~~~~~~\n\n\n"
      ]
    },
    {
      "cell_type": "code",
      "execution_count": null,
      "metadata": {
        "collapsed": false
      },
      "outputs": [],
      "source": [
        "Audio(rir_applied, rate=sample_rate)"
      ]
    },
    {
      "cell_type": "markdown",
      "metadata": {},
      "source": [
        "\ubc30\uacbd \uc7a1\uc74c \ucd94\uac00 \ud6c4:\n~~~~~~~~~~~~~~~~~~~~~~~\n\n\n"
      ]
    },
    {
      "cell_type": "code",
      "execution_count": null,
      "metadata": {
        "collapsed": false
      },
      "outputs": [],
      "source": [
        "Audio(bg_added, rate=sample_rate)"
      ]
    },
    {
      "cell_type": "markdown",
      "metadata": {},
      "source": [
        "\ud544\ud130\ub9c1 \uc801\uc6a9 \ud6c4:\n~~~~~~~~~\n\n\n"
      ]
    },
    {
      "cell_type": "code",
      "execution_count": null,
      "metadata": {
        "collapsed": false
      },
      "outputs": [],
      "source": [
        "Audio(filtered, rate=sample_rate2)"
      ]
    },
    {
      "cell_type": "markdown",
      "metadata": {},
      "source": [
        "\ucf54\ub371 \uc801\uc6a9 \ud6c4:\n~~~~~~~~~~~~~\n\n\n"
      ]
    },
    {
      "cell_type": "code",
      "execution_count": null,
      "metadata": {
        "collapsed": false
      },
      "outputs": [],
      "source": [
        "Audio(codec_applied, rate=sample_rate2)"
      ]
    }
  ],
  "metadata": {
    "kernelspec": {
      "display_name": "Python 3",
      "language": "python",
      "name": "python3"
    },
    "language_info": {
      "codemirror_mode": {
        "name": "ipython",
        "version": 3
      },
      "file_extension": ".py",
      "mimetype": "text/x-python",
      "name": "python",
      "nbconvert_exporter": "python",
      "pygments_lexer": "ipython3",
      "version": "3.9.13"
    }
  },
  "nbformat": 4,
  "nbformat_minor": 0
}