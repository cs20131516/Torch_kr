{
  "cells": [
    {
      "cell_type": "code",
      "execution_count": null,
      "metadata": {
        "collapsed": false
      },
      "outputs": [],
      "source": [
        "%matplotlib inline"
      ]
    },
    {
      "cell_type": "markdown",
      "metadata": {},
      "source": [
        "\nPyTorch \uc18c\uac1c\n***********************\n**\ubc88\uc5ed**: `\ubc18\ubcf4\uc601 <https://github.com/2kkeullim>`_\n\nTorch\uc758 tensor \ub77c\uc774\ube0c\ub7ec\ub9ac \uc18c\uac1c\n======================================\n\n\ub525\ub7ec\ub2dd\uc740 \ubaa8\ub450 tensor\uc5d0 \ub300\ud55c \uc5f0\uc0b0\uc73c\ub85c,\n2\ucc28\uc6d0 \uc774\uc0c1\uc5d0\uc11c \uc778\ub371\uc2f1\ud560 \uc218 \uc788\ub294 \ud589\ub82c\uc758 \uc77c\ubc18\ud654\uc785\ub2c8\ub2e4.\n\uc774\uac83\uc774 \uc815\ud655\ud788 \ubb34\uc5c7\uc744 \uc758\ubbf8\ud558\ub294\uc9c0\ub294 \ub098\uc911\uc5d0 \uc790\uc138\ud788 \uc54c\uc544\ubcf4\uaca0\uc2b5\ub2c8\ub2e4.\n\uba3c\uc800 tensor\ub85c \ubb34\uc5c7\uc744 \ud560 \uc218 \uc788\ub294\uc9c0 \uc54c\uc544\ubcf4\uaca0\uc2b5\ub2c8\ub2e4.\n"
      ]
    },
    {
      "cell_type": "code",
      "execution_count": null,
      "metadata": {
        "collapsed": false
      },
      "outputs": [],
      "source": [
        "# Author: Robert Guthrie\n\nimport torch\n\ntorch.manual_seed(1)"
      ]
    },
    {
      "cell_type": "markdown",
      "metadata": {},
      "source": [
        "Tensor \uc0dd\uc131\ud558\uae30\n~~~~~~~~~~~~~~~~\n\ntorch.tensor() \ud568\uc218\ub97c \uc0ac\uc6a9\ud558\uc5ec Python \ub9ac\uc2a4\ud2b8\ub85c\ubd80\ud130\ntensor\ub97c \uc0dd\uc131\ud560 \uc218 \uc788\uc2b5\ub2c8\ub2e4.\n\n\n"
      ]
    },
    {
      "cell_type": "code",
      "execution_count": null,
      "metadata": {
        "collapsed": false
      },
      "outputs": [],
      "source": [
        "# torch.tensor(data)\ub97c \ud1b5\ud574 \uc8fc\uc5b4\uc9c4 \ub370\uc774\ud130\ub85c\ubd80\ud130 torch.Tensor object\ub97c \uc0dd\uc131\ud569\ub2c8\ub2e4.\nV_data = [1., 2., 3.]\nV = torch.tensor(V_data)\nprint(V)\n\n# \ud589\ub82c\uc744 \uc0dd\uc131\ud569\ub2c8\ub2e4\nM_data = [[1., 2., 3.], [4., 5., 6]]\nM = torch.tensor(M_data)\nprint(M)\n\n# 2x2x2 \ud06c\uae30\uc758 3D tensor\ub97c \uc0dd\uc131\ud569\ub2c8\ub2e4.\nT_data = [[[1., 2.], [3., 4.]],\n          [[5., 6.], [7., 8.]]]\nT = torch.tensor(T_data)\nprint(T)"
      ]
    },
    {
      "cell_type": "markdown",
      "metadata": {},
      "source": [
        "\ub3c4\ub300\uccb4 3D tensor\ub294 \ubb34\uc5c7\uc77c\uae4c\uc694? \uc774\ub807\uac8c \uc0dd\uac01\ud574 \ubcf4\uc138\uc694.\n\ubca1\ud130\uc758 \uacbd\uc6b0, \uc778\ub371\uc2f1\ud558\uba74 \uc2a4\uce7c\ub77c\uac00 \ucd9c\ub825\ub429\ub2c8\ub2e4.\n\ud589\ub82c\uc758 \uacbd\uc6b0, \uc778\ub371\uc2f1\ud558\uba74 \ubca1\ud130\uac00 \ucd9c\ub825\ub429\ub2c8\ub2e4.\n3D tensor\uc758 \uacbd\uc6b0, \uc778\ub371\uc2f1\ud558\uba74 \ud589\ub82c\uc774 \ucd9c\ub825\ub429\ub2c8\ub2e4!\n\n\uc6a9\uc5b4 \ub178\ud2b8:\n\uc774 \ud29c\ud1a0\ub9ac\uc5bc\uc5d0\uc11c \"tensor\" \ub77c\ub294 \uc6a9\uc5b4\ub294 torch.Tensor object\ub97c\n\ub098\ud0c0\ub0c5\ub2c8\ub2e4. \ud589\ub82c\uacfc \ubca1\ud130\ub294 torch.Tensor\uc758 \ucc28\uc6d0\uc774 2, 1\uc778\n\ud2b9\ubcc4\ud55c \uacbd\uc6b0\uc785\ub2c8\ub2e4. 3D tensor\uc5d0 \ub300\ud55c\n\uc6a9\uc5b4\ub97c \ud45c\ud604\ud560 \ub54c\ub294 \uba85\ubc31\ud558\uac8c \"3D tensor\" \ub77c\ub294 \uc6a9\uc5b4\ub97c \uc0ac\uc6a9\ud560 \uac83\uc785\ub2c8\ub2e4.\n\n\n"
      ]
    },
    {
      "cell_type": "code",
      "execution_count": null,
      "metadata": {
        "collapsed": false
      },
      "outputs": [],
      "source": [
        "# V\uc5d0\uc11c \uc778\ub371\uc2f1\ud558\uc5ec \uc2a4\uce7c\ub77c \uc5bb\uae30 (0 \ucc28\uc6d0 tensor)\nprint(V[0])\n# \ubca1\ud130\ub85c\ubd80\ud130 Python \uc22b\uc790 \uc5bb\uae30\n\n# M\uc5d0\uc11c \uc778\ub371\uc2f1\ud558\uc5ec \ubca1\ud130 \uc5bb\uae30\nprint(M[0])\n\n# T\uc5d0\uc11c \uc778\ub371\uc2f1\ud558\uc5ec \ud589\ub82c \uc5bb\uae30\nprint(T[0])"
      ]
    },
    {
      "cell_type": "markdown",
      "metadata": {},
      "source": [
        "\ub2e4\ub978 \ub370\uc774\ud130 \ud0c0\uc785\uc758 tensor\ub97c \uc0dd\uc131\ud560 \uc218\ub3c4 \uc788\uc2b5\ub2c8\ub2e4. integer \ud0c0\uc785\uc758 tensor\ub294\ntorch.tensor([[1, 2], [3, 4]])\uc73c\ub85c \ub9cc\ub4e4 \uc218 \uc788\uc2b5\ub2c8\ub2e4. (\uc774 \ub54c, \ub9ac\uc2a4\ud2b8\uc758 \ubaa8\ub4e0 \uc6d0\uc18c\ub294 integer)\n\ub610\ud55c ``dtype=torch.data_type`` \uc744 \uc774\uc6a9\ud574 \ub370\uc774\ud130 \ud0c0\uc785\uc744 \uc9c0\uc815\ud560 \uc218\ub3c4 \uc788\uc2b5\ub2c8\ub2e4.\n\ucd94\uac00\uc801\uc778 \ub370\uc774\ud130 \ud0c0\uc785\uc5d0 \ub300\ud574\uc11c\ub294 \ubb38\uc11c\ub85c \ud655\uc778\ud560 \uc218 \uc788\uc73c\uba70,\nFloat\uc640 Long\uc774 \uac00\uc7a5 \uc77c\ubc18\uc801\uc785\ub2c8\ub2e4.\n\n\n"
      ]
    },
    {
      "cell_type": "markdown",
      "metadata": {},
      "source": [
        "torch.randn() \uc73c\ub85c \uc81c\uacf5\ud55c \ucc28\uc6d0\uc744 \uc0ac\uc6a9\ud574\n\ub79c\ub364 \ub370\uc774\ud130\ub85c tensor\ub97c \ub9cc\ub4e4 \uc218 \uc788\uc2b5\ub2c8\ub2e4.\n\n\n"
      ]
    },
    {
      "cell_type": "code",
      "execution_count": null,
      "metadata": {
        "collapsed": false
      },
      "outputs": [],
      "source": [
        "x = torch.randn((3, 4, 5))\nprint(x)"
      ]
    },
    {
      "cell_type": "markdown",
      "metadata": {},
      "source": [
        "Tensor \ub97c \uc0ac\uc6a9\ud55c \uc5f0\uc0b0\n~~~~~~~~~~~~~~~~~~~~~~~\n\ntensor\ub294 \uc6d0\ud558\ub294 \ubc29\uc2dd\uc73c\ub85c \uc5f0\uc0b0\ud560 \uc218 \uc788\uc2b5\ub2c8\ub2e4.\n\n"
      ]
    },
    {
      "cell_type": "code",
      "execution_count": null,
      "metadata": {
        "collapsed": false
      },
      "outputs": [],
      "source": [
        "x = torch.tensor([1., 2., 3.])\ny = torch.tensor([4., 5., 6.])\nz = x + y\nprint(z)"
      ]
    },
    {
      "cell_type": "markdown",
      "metadata": {},
      "source": [
        "`\ubb38\uc11c <https://pytorch.org/docs/torch.html>`__ \uc5d0\uc11c\n\uc0ac\uc6a9\ud560 \uc218 \uc788\ub294 \uc5c4\uccad\ub09c \uc218\uc758 \uc5f0\uc0b0\ub4e4\uc758 \uc804\uccb4 \ubaa9\ub85d\uc744 \ubcfc \uc218 \uc788\uc2b5\ub2c8\ub2e4.\n\ud574\ub2f9 \uc5f0\uc0b0 \ubaa9\ub85d\uc740 \ub2e8\uc21c\ud55c \uc218\ud559\uc801\uc778 \uc5f0\uc0b0\uc744 \ub6f0\uc5b4\ub118\uc2b5\ub2c8\ub2e4.\n\n\ub098\uc911\uc5d0 \uc0ac\uc6a9\ud560 \uc720\uc6a9\ud55c \uc5f0\uc0b0 \uc911 \ud558\ub098\ub294 \uacb0\ud569(concatenation)\uc785\ub2c8\ub2e4.\n\n\n"
      ]
    },
    {
      "cell_type": "code",
      "execution_count": null,
      "metadata": {
        "collapsed": false
      },
      "outputs": [],
      "source": [
        "# \uae30\ubcf8\uc801\uc73c\ub85c \uccab \ubc88\uc9f8 \ucd95\uc744 \ub530\ub77c \uacb0\ud569\ub429\ub2c8\ub2e4 (\ud589(row) \uacb0\ud569)\nx_1 = torch.randn(2, 5)\ny_1 = torch.randn(3, 5)\nz_1 = torch.cat([x_1, y_1])\nprint(z_1)\n\n# \uc5f4(column) \uacb0\ud569\nx_2 = torch.randn(2, 3)\ny_2 = torch.randn(2, 5)\n# \ub450 \ubc88\uc9f8 \uc778\uc790\ub294 \uc5f0\uacb0\ud560 \ucd95\uc744 \uc9c0\uc815\ud569\ub2c8\ub2e4\nz_2 = torch.cat([x_2, y_2], 1)\nprint(z_2)\n\n# tensor\uac00 \ud638\ud658\ub418\uc9c0 \uc54a\uc73c\uba74 torch\uac00 \ubd88\ud3c9\ud560\uac81\ub2c8\ub2e4. \ubc11\uc758 \uba85\ub839\uc5b4\ub97c \uc8fc\uc11d \ud574\uc81c\ud558\uc5ec \uc5d0\ub7ec\ub97c \ucd9c\ub825\ud574\ubcf4\uc138\uc694\n# torch.cat([x_1, x_2])"
      ]
    },
    {
      "cell_type": "markdown",
      "metadata": {},
      "source": [
        "Tensor \uad6c\uc870 \ubc14\uafb8\uae30\n~~~~~~~~~~~~~~~~~\n\n.view() \uba54\uc18c\ub4dc\ub97c \uc0ac\uc6a9\ud574 tensor\uc758 \uad6c\uc870\ub97c \ubc14\uafd4\ubd05\uc2dc\ub2e4. \ub9ce\uc740 \uc2e0\uacbd\ub9dd \uad6c\uc131 \uc694\uc18c\ub4e4\uc740\n\ud2b9\uc815\ud55c \uad6c\uc870\uc758 \uc785\ub825\uc744 \uc6d0\ud558\uae30\uc5d0, \uc774 \uba54\uc18c\ub4dc\ub294 \uc544\uc8fc \ub9ce\uc774 \uc0ac\uc6a9\ub429\ub2c8\ub2e4.\n\uc885\uc885 \ub370\uc774\ud130\ub97c \uad6c\uc131 \uc694\uc18c\ub85c \uc804\ub2ec\ud558\uae30 \uc804 \uad6c\uc870\ub97c \ubc14\uafd4\uc57c \ud558\ub294 \uacbd\uc6b0\uac00\n\uc788\uc2b5\ub2c8\ub2e4.\n\n\n"
      ]
    },
    {
      "cell_type": "code",
      "execution_count": null,
      "metadata": {
        "collapsed": false
      },
      "outputs": [],
      "source": [
        "x = torch.randn(2, 3, 4)\nprint(x)\nprint(x.view(2, 12))  # 2\uc5f4 12\ud589\uc73c\ub85c \uad6c\uc870 \ubc14\uafb8\uae30\n# \uc704\uc640 \uac19\uc2b5\ub2c8\ub2e4.  \ucc28\uc6d0 \uc911 \ud558\ub098\uac00 -1\uc778 \uacbd\uc6b0 \uadf8 \ud06c\uae30\ub97c \uc720\ucd94\ud560 \uc218 \uc788\uc2b5\ub2c8\ub2e4\nprint(x.view(2, -1))"
      ]
    },
    {
      "cell_type": "markdown",
      "metadata": {},
      "source": [
        "\uacc4\uc0b0 \uadf8\ub798\ud504(Computation Graph) \uc640 \uc790\ub3d9 \ubbf8\ubd84(Automatic Differentiation)\n================================================\n\n\uacc4\uc0b0 \uadf8\ub798\ud504\uc758 \uac1c\ub150\uc740 \uc9c1\uc811 \uc5ed\uc804\ud30c \ubcc0\ud654\ub3c4(gradient)\ub97c \uc4f8 \ud544\uc694\uac00 \uc5c6\uac8c \ud574\uc8fc\uba70\n\ud6a8\uc728\uc801\uc778 \ub525\ub7ec\ub2dd \ud504\ub85c\uadf8\ub798\ubc0d\uc5d0 \ud544\uc218\uc801\uc785\ub2c8\ub2e4.\n\uacc4\uc0b0 \uadf8\ub798\ud504\ub294 \uac04\ub2e8\ud788 \ub9d0\ud558\uc790\uba74 \ucd9c\ub825\uc744 \ub0b4\uae30 \uc704\ud574\n\uc5b4\ub5bb\uac8c \ub370\uc774\ud130\ub97c \uacb0\ud569\ud588\ub294\uc9c0\uc5d0 \ub300\ud55c \uc124\uba85\uc11c\uc785\ub2c8\ub2e4.\n\uadf8\ub798\ud504\ub294 \uc5b4\ub5a4 \ub9e4\uac1c\ubcc0\uc218\uac00 \uc5b4\ub5a4 \uc5f0\uc0b0\uc5d0 \uad00\uc5ec\ud558\ub294\uc9c0\ub97c \ubaa8\ub450 \ub9d0\ud574\uc8fc\ubbc0\ub85c\n\ub3c4\ud568\uc218\ub97c \uacc4\uc0b0\ud558\uae30\uc5d0 \ucda9\ubd84\ud55c \uc815\ubcf4\ub97c \uac00\uc9d1\ub2c8\ub2e4.\n\uc774 \ub9d0\uc774 \ubaa8\ud638\ud560 \uc218 \uc788\uc73c\ub2c8, \ud575\uc2ec \ud50c\ub798\uadf8\uc778\n``requires_grad`` \ub97c \uc0ac\uc6a9\ud558\uc5ec \ubb34\uc2a8 \uc77c\uc774 \uc77c\uc5b4\ub098\ub294\uc9c0 \uc54c\uc544\ubd05\uc2dc\ub2e4.\n\n\uba3c\uc800 \ud504\ub85c\uadf8\ub798\uba38\uc758 \uad00\uc810\uc5d0\uc11c \uc0dd\uac01\ud574\ubd05\uc2dc\ub2e4. \uc704\uc5d0\uc11c \uc6b0\ub9ac\uac00 \ub9cc\ub4e0\ntorch.Tensor \uc624\ube0c\uc81d\ud2b8\uc5d0\ub294 \ubb34\uc5c7\uc774 \uc800\uc7a5\ub418\uc5b4 \uc788\uc744\uae4c\uc694? \ubd84\uba85\ud788 \ub370\uc774\ud130\uc640\n\uad6c\uc870, \uba87 \uac00\uc9c0 \ub2e4\ub978 \uac83\ub4e4\uc774 \uc788\uc744 \uac81\ub2c8\ub2e4. \ud558\uc9c0\ub9cc 2\uac1c\uc758 tensor\ub97c\n\ud568\uaed8 \ucd94\uac00\ud558\uba74 \ud558\ub098\uc758 \uacb0\uacfc tensor\ub97c \uc5bb\uac8c \ub418\ub294\ub370, \uacb0\uacfc tensor\uac00 \uc544\ub294 \uac83\uc740\n\uc790\uc2e0\uc758 \ub370\uc774\ud130\uc640 \uad6c\uc870\ubfd0\uc785\ub2c8\ub2e4. \ub2e4\ub978 \ub450 tensor\uc758 \ud569\uc774\ub77c\ub294 \uac83\uc744 \uc804\ud600 \uc54c\uc9c0 \ubabb\ud569\ub2c8\ub2e4\n(\ud30c\uc77c\uc5d0\uc11c \uc77d\uc5c8\uc744 \uc218\ub3c4 \uc788\uace0,\n\ub2e4\ub978 \uc5f0\uc0b0\uc758 \uacb0\uacfc\uc77c \uc218\ub3c4 \uc788\uc74c)\n\n``requires_grad=True`` \uc778 \uacbd\uc6b0, Tensor \uac1d\uccb4\ub294 \uc790\uc2e0\uc774 \uc5b4\ub5bb\uac8c \uc0dd\uc131\ub418\uc5c8\ub294\uc9c0\n\ucd94\uc801\ud569\ub2c8\ub2e4. \ud55c\ubc88 \ubd05\uc2dc\ub2e4.\n\n\n"
      ]
    },
    {
      "cell_type": "code",
      "execution_count": null,
      "metadata": {
        "collapsed": false
      },
      "outputs": [],
      "source": [
        "# Tensor factory \uba54\uc18c\ub4dc\ub294 ``requires_grad`` \ud50c\ub798\uadf8\ub97c \uac00\uc9c0\uace0 \uc788\uc2b5\ub2c8\ub2e4\nx = torch.tensor([1., 2., 3], requires_grad=True)\n\n# requires_grad=True \ub97c \uc0ac\uc6a9\ud574\ub3c4 \uc774\uc804\uc5d0 \ud560 \uc218 \uc788\uc5c8\ub358 \ubaa8\ub4e0 \uc5f0\uc0b0\uc744\n# \uc5ec\uc804\ud788 \uc218\ud589\ud560 \uc218 \uc788\uc2b5\ub2c8\ub2e4\ny = torch.tensor([4., 5., 6], requires_grad=True)\nz = x + y\nprint(z)\n\n# \ud558\uc9c0\ub9cc, z\ub294 \ubb54\uac00\ub97c \ub354 \uc54c\uace0 \uc788\uc2b5\ub2c8\ub2e4.\nprint(z.grad_fn)"
      ]
    },
    {
      "cell_type": "markdown",
      "metadata": {},
      "source": [
        "\uc989 Tensor\ub294 \ubb34\uc5c7\uc73c\ub85c \uadf8\ub4e4\uc774 \ub9cc\ub4e4\uc5b4\uc84c\ub294\uc9c0 \uc555\ub2c8\ub2e4. z\ub294 Tensor\uac00 \ud30c\uc77c\uc5d0\uc11c\n\uc77d\ud788\uc9c0 \uc54a\uc558\ub2e4\ub294 \uac83\uc744 \uc54c\uace0 \uc788\uc73c\uba70, \uacf1\uc148\uc774\ub098 \uc9c0\uc218 \uac19\uc740 \uac83\uc758 \uacb0\uacfc\ub3c4 \uc544\ub2d9\ub2c8\ub2e4.\n\uadf8\ub9ac\uace0 z.grad_fn \uc744 \uacc4\uc18d \ub530\ub77c\uac00\ub2e4 \ubcf4\uba74,\nx\uc640 y\ub97c \ucc3e\uc744 \uc218 \uc788\uc2b5\ub2c8\ub2e4.\n\n\uadf8\ub7ec\uba74 \uc774 \uc815\ubcf4\uac00 \uc5b4\ub5bb\uac8c \ubcc0\ud654\ub3c4\ub97c \uacc4\uc0b0\ud558\ub294\ub370 \ub3c4\uc6c0\uc744 \uc904\uae4c\uc694?\n\n\n"
      ]
    },
    {
      "cell_type": "code",
      "execution_count": null,
      "metadata": {
        "collapsed": false
      },
      "outputs": [],
      "source": [
        "# z\uc758 \ubaa8\ub4e0 \ud56d\ubaa9\uc744 \ud558\ub098\ub85c \ub354\ud574\ubd05\uc2dc\ub2e4.\ns = z.sum()\nprint(s)\nprint(s.grad_fn)"
      ]
    },
    {
      "cell_type": "markdown",
      "metadata": {},
      "source": [
        "\uadf8\ub807\ub2e4\uba74, x\uc758 \uccab\ubc88\uc9f8 \uad6c\uc131 \uc694\uc18c\uc5d0 \ub300\ud574 \uc774 \ub367\uc148\uc758 \ubbf8\ubd84\uc740\n\ubb34\uc5c7\uc77c\uae4c\uc694? \uc218\ud559\uc801\uc73c\ub85c\ub294, \uc6b0\ub9ac\uac00 \uc6d0\ud558\ub294 \uac83\uc740 \ub2e4\uc74c\uc758 \uc2dd\uc785\ub2c8\ub2e4.\n\n\\begin{align}\\frac{\\partial s}{\\partial x_0}\\end{align}\n\n\n\n\uc790, s\ub294 \uc790\uc2e0\uc774 tensor z\uc758 \ud569\uc73c\ub85c \ub9cc\ub4e4\uc5b4\uc84c\ub2e4\ub294 \uac83\uc744 \uc54c\uace0 \uc788\uc2b5\ub2c8\ub2e4. z\ub294\n\uc790\uc2e0\uc774 x + y\uc758 \ud569\uc774\ub77c\ub294 \uac83\uc744 \uc54c\uace0 \uc788\uc2b5\ub2c8\ub2e4. \uadf8\ub798\uc11c\n\n\\begin{align}s = \\overbrace{x_0 + y_0}^\\text{$z_0$} + \\overbrace{x_1 + y_1}^\\text{$z_1$} + \\overbrace{x_2 + y_2}^\\text{$z_2$}\\end{align}\n\n\ub530\ub77c\uc11c, s\ub294 \ub3c4\ud568\uc218\ub97c \uacb0\uc815\ud558\uae30\uc5d0 \ucda9\ubd84\ud55c \uc815\ubcf4\ub97c \uac00\uc9c0\uace0 \uc788\uc2b5\ub2c8\ub2e4.\n\uc6b0\ub9ac\uac00 \uc6d0\ud558\ub294 \ub3c4\ud568\uc218\uc758 \uac12\uc740 1 \uc785\ub2c8\ub2e4!\n\n\ubb3c\ub860 \uc774\uac83\uc740 \uadf8 \ubbf8\ubd84\uc744 \uc2e4\uc81c\ub85c \uacc4\uc0b0\ud558\ub294 \ubc29\ubc95\uc5d0 \ub300\ud55c \ub3c4\uc804\uc744\n\uc228\uae41\ub2c8\ub2e4. \uc5ec\uae30\uc11c \uc694\uc810\uc740 s\uac00 \ubbf8\ubd84\uc744 \uacc4\uc0b0\ud558\uae30\uc5d0 \ucda9\ubd84\ud55c\n\uc815\ubcf4\ub97c \uac00\uc9c0\uace0 \ub2e4\ub2cc\ub2e4\ub294 \uac81\ub2c8\ub2e4. \uc2e4\uc81c\ub85c \nPytorch \uac1c\ubc1c\uc790\ub294 sum() \uacfc + \uc5f0\uc0b0\uc5d0\uc11c\n\ubcc0\ud654\ub3c4\ub97c \uacc4\uc0b0\ud558\ub294 \ubc95\uc744 \ud504\ub85c\uadf8\ub798\ubc0d\ud558\uace0, \uc5ed\uc804\ud30c \uc54c\uace0\ub9ac\uc998\uc744 \uc2e4\ud589\ud569\ub2c8\ub2e4.\n\uc774 \uc54c\uace0\ub9ac\uc998\uc5d0 \ub300\ud55c \uae4a\uc774\uc788\ub294 \uc124\uba85\uc740 \uc774 \ud29c\ud1a0\ub9ac\uc5bc\uc758 \ubc94\uc704\ub97c\n\ubc97\uc5b4\ub0a9\ub2c8\ub2e4.\n\n\n"
      ]
    },
    {
      "cell_type": "markdown",
      "metadata": {},
      "source": [
        "Pytorch\ub85c \ubcc0\ud654\ub3c4\ub97c \uacc4\uc0b0\ud558\uace0, \ub9de\uc558\ub294\uc9c0 \ud655\uc778\ud574 \ubd05\uc2dc\ub2e4.\n(\uc774 \ube14\ub85d\uc744 \uc5ec\ub7ec\ubc88 \uc2e4\ud589\ud558\uba74 \ubcc0\ud654\ub3c4\uac00 \uc99d\uac00\ud560 \uac83\uc785\ub2c8\ub2e4.\n\uadf8 \uc774\uc720\ub294 Pytorch\uac00 \ubcc0\ud654\ub3c4\ub97c .grad \uc18d\uc131\uc5d0 *\ucd95\uc801* \ud558\uae30 \ub54c\ubb38\uc774\uba70, \n\uc774\ub294 \ub9ce\uc740 \ubaa8\ub378\uc5d0\uc11c \ub9e4\uc6b0 \ud3b8\ub9ac\ud558\uae30 \ub54c\ubb38\uc785\ub2c8\ub2e4.)\n\n\n"
      ]
    },
    {
      "cell_type": "code",
      "execution_count": null,
      "metadata": {
        "collapsed": false
      },
      "outputs": [],
      "source": [
        "# \uc5b4\ub5a4 \ubcc0\uc218\uc5d0\uc11c\ub4e0\uc9c0 .backward()\ub97c \ud638\ucd9c\ud558\uba74 \ud574\ub2f9 \ubcc0\uc218\uc5d0\uc11c \uc2dc\uc791\ud558\ub294 \uc5ed\uc804\ud30c\uac00 \uc2e4\ud589\ub429\ub2c8\ub2e4.\ns.backward()\nprint(x.grad)"
      ]
    },
    {
      "cell_type": "markdown",
      "metadata": {},
      "source": [
        "\ub525\ub7ec\ub2dd\uc5d0\uc11c \uc131\uacf5\ud55c \ud504\ub85c\uadf8\ub798\uba38\uac00 \ub418\uae30 \uc704\ud574\uc11c\ub294\n\uc544\ub798 \ube14\ub85d\uc5d0\uc11c \ubb34\uc2a8 \uc77c\uc774 \uc77c\uc5b4\ub098\uace0 \uc788\ub294\uc9c0 \uc774\ud574\ud558\ub294 \uac83\uc774 \ud544\uc218\uc801\uc785\ub2c8\ub2e4.\n\n\n"
      ]
    },
    {
      "cell_type": "code",
      "execution_count": null,
      "metadata": {
        "collapsed": false
      },
      "outputs": [],
      "source": [
        "x = torch.randn(2, 2)\ny = torch.randn(2, 2)\n# \uc0ac\uc6a9\uc790\uac00 \uc0dd\uc131\ud55c Tensor\ub294 \uae30\ubcf8\uc801\uc73c\ub85c ``requires_grad=False`` \ub97c \uac00\uc9d1\ub2c8\ub2e4\nprint(x.requires_grad, y.requires_grad)\nz = x + y\n# \uadf8\ub798\uc11c z\ub97c \ud1b5\ud574 \uc5ed\uc804\ud30c\ub97c \ud560 \uc218 \uc5c6\uc2b5\ub2c8\ub2e4 \nprint(z.grad_fn)\n\n# ``.requires_grad_( ... )`` \ub294 \uae30\uc874 \ud150\uc11c\uc758 ``requires_grad``\n# \ud50c\ub798\uadf8\ub97c \uc81c\uc790\ub9ac\uc5d0\uc11c(in-place) \ubc14\uafc9\ub2c8\ub2e4. \uc785\ub825 \ud50c\ub798\uadf8\uac00 \uc9c0\uc815\ub418\uc9c0 \uc54a\uc740 \uacbd\uc6b0 \uae30\ubcf8\uac12\uc740 ``True`` \uc785\ub2c8\ub2e4.\nx = x.requires_grad_()\ny = y.requires_grad_()\n# z\ub294 \uc704\uc5d0\uc11c \ubcf8 \uac83\ucc98\ub7fc \ubcc0\ud654\ub3c4\ub97c \uacc4\uc0b0\ud558\uae30\uc5d0 \ucda9\ubd84\ud55c \uc815\ubcf4\uac00 \ud3ec\ud568\ub418\uc5b4 \uc788\uc2b5\ub2c8\ub2e4\nz = x + y\nprint(z.grad_fn)\n# \uc5f0\uc0b0\uc5d0 \ub300\ud55c \uc785\ub825\uc774 ``requires_grad=True`` \uc778 \uacbd\uc6b0 \ucd9c\ub825\ub3c4 \ub9c8\ucc2c\uac00\uc9c0\uc785\ub2c8\ub2e4\nprint(z.requires_grad)\n\n# \uc774\uc81c z\ub294 x\uc640 y\uc5d0 \ub300\ud55c \uacc4\uc0b0 \uae30\ub85d\uc744 \uac00\uc9c0\uace0 \uc788\uc2b5\ub2c8\ub2e4\n# z\uc758 \uac12\ub9cc \uac00\uc838\uac00\uace0, \uae30\ub85d\uc5d0\uc11c **\ubd84\ub9ac** \ud560 \uc218 \uc788\uc744\uae4c\uc694?\nnew_z = z.detach()\n\n# ... new_z \uac00 x\uc640 y\ub85c\uc758 \uc5ed\uc804\ud30c\ub97c \uc704\ud55c \uc815\ubcf4\ub97c \uac16\uace0 \uc788\uc744\uae4c\uc694?\n# \uc544\ub2d9\ub2c8\ub2e4!\nprint(new_z.grad_fn)\n# \uc5b4\ub5bb\uac8c \uadf8\ub7f4 \uc218\uac00 \uc788\uc744\uae4c\uc694? ``z.detach()`` \ub294 ``z`` \uc640 \ub3d9\uc77c\ud55c \uc800\uc7a5\uacf5\uac04\uc744 \uc0ac\uc6a9\ud558\uc9c0\ub9cc\n# \uacc4\uc0b0 \uae30\ub85d\uc740 \uc5c6\ub294 tensor\ub97c \ubc18\ud658\ud569\ub2c8\ub2e4. \uadf8 tensor\ub294 \uc790\uc2e0\uc774 \uc5b4\ub5bb\uac8c \uacc4\uc0b0\ub418\uc5c8\ub294\uc9c0\n# \uc544\ubb34\uac83\ub3c4 \uc54c\uc9c0 \ubabb\ud569\ub2c8\ub2e4.\n# \ubcf8\uc9c8\uc801\uc73c\ub85c\ub294 Tensor\ub97c \uacfc\uac70 \uae30\ub85d\uc73c\ub85c\ubd80\ud130 \ub5bc\uc5b4\ub0b8 \uac81\ub2c8\ub2e4"
      ]
    },
    {
      "cell_type": "markdown",
      "metadata": {},
      "source": [
        "\ub610\ud55c \ucf54\ub4dc \ube14\ub85d\uc744 ``with torch.no_grad():`` \ub85c \uac10\uc2f8\n``.requires_grad=True`` \uc778 \ud150\uc11c\uc758 \uae30\ub85d\uc744 \ucd94\uc801\ud558\uc9c0 \ubabb\ud558\uac8c\ub054\nautograd\ub97c \uba48\ucd9c \uc218 \uc788\uc2b5\ub2c8\ub2e4.\n\n"
      ]
    },
    {
      "cell_type": "code",
      "execution_count": null,
      "metadata": {
        "collapsed": false
      },
      "outputs": [],
      "source": [
        "print(x.requires_grad)\nprint((x ** 2).requires_grad)\n\nwith torch.no_grad():\n\tprint((x ** 2).requires_grad)"
      ]
    }
  ],
  "metadata": {
    "kernelspec": {
      "display_name": "Python 3",
      "language": "python",
      "name": "python3"
    },
    "language_info": {
      "codemirror_mode": {
        "name": "ipython",
        "version": 3
      },
      "file_extension": ".py",
      "mimetype": "text/x-python",
      "name": "python",
      "nbconvert_exporter": "python",
      "pygments_lexer": "ipython3",
      "version": "3.9.13"
    }
  },
  "nbformat": 4,
  "nbformat_minor": 0
}