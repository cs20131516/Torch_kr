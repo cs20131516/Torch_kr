{
  "cells": [
    {
      "cell_type": "code",
      "execution_count": null,
      "metadata": {
        "collapsed": false
      },
      "outputs": [],
      "source": [
        "%matplotlib inline"
      ]
    },
    {
      "cell_type": "markdown",
      "metadata": {},
      "source": [
        "\nnn.Transformer \uc640 TorchText \ub85c \uc2dc\ud000\uc2a4-\ud22c-\uc2dc\ud000\uc2a4(Sequence-to-Sequence) \ubaa8\ub378\ub9c1\ud558\uae30\n=================================================================================\n\n\uc774 \ud29c\ud1a0\ub9ac\uc5bc\uc5d0\uc11c\ub294\n`nn.Transformer <https://pytorch.org/docs/stable/generated/torch.nn.Transformer.html>`__ \ubaa8\ub4c8\uc744\n\uc774\uc6a9\ud558\ub294 \uc2dc\ud000\uc2a4-\ud22c-\uc2dc\ud000\uc2a4(Sequence-to-Sequence) \ubaa8\ub378\uc744 \ud559\uc2b5\ud558\ub294 \ubc29\ubc95\uc744 \ubc30\uc6cc\ubcf4\uaca0\uc2b5\ub2c8\ub2e4.\n\nPyTorch 1.2 \ubc84\uc83c\uc5d0\ub294 `Attention is All You Need <https://arxiv.org/pdf/1706.03762.pdf>`__ \ub17c\ubb38\uc5d0\n\uae30\ubc18\ud55c \ud45c\uc900 \ud2b8\ub79c\uc2a4\ud3ec\uba38(transformer) \ubaa8\ub4c8\uc744 \ud3ec\ud568\ud558\uace0 \uc788\uc2b5\ub2c8\ub2e4.\n\ud2b8\ub79c\uc2a4\ud3ec\uba38 \ubaa8\ub378\uc740 \ub2e4\uc591\ud55c \uc2dc\ud000\uc2a4-\ud22c-\uc2dc\ud000\uc2a4 \ubb38\uc81c\ub4e4\uc5d0\uc11c \ub354 \ubcd1\ub82c\ud654(parallelizable)\uac00 \uac00\ub2a5\ud558\uba74\uc11c\ub3c4\n\uc21c\ud658 \uc2e0\uacbd\ub9dd(RNN; Recurrent Neural Network)\uacfc \ube44\uad50\ud558\uc5ec \ub354 \ub098\uc740 \uc131\ub2a5\uc744 \ubcf4\uc784\uc774 \uc785\uc99d\ub418\uc5c8\uc2b5\ub2c8\ub2e4.\n``nn.Transformer`` \ubaa8\ub4c8\uc740 \uc785\ub825(input) \uacfc \ucd9c\ub825(output) \uc0ac\uc774\uc758 \uc804\uc5ed\uc801\uc778 \uc758\uc874\uc131(global dependencies)\n\uc744 \ub098\ud0c0\ub0b4\uae30 \uc704\ud558\uc5ec (`nn.MultiheadAttention <https://pytorch.org/docs/stable/generated/torch.nn.MultiheadAttention.html>`__ \uc73c\ub85c\n\uad6c\ud604\ub41c) \uc5b4\ud150\uc158(attention) \uba54\ucee4\ub2c8\uc998\uc5d0 \uc804\uc801\uc73c\ub85c \uc758\uc874\ud569\ub2c8\ub2e4.\n\ud604\uc7ac ``nn.Transformer`` \ubaa8\ub4c8\uc740 \ubaa8\ub4c8\ud654\uac00 \uc798 \ub418\uc5b4 \uc788\uc5b4\n\ub2e8\uc77c \ucef4\ud3ec\ub10c\ud2b8 (\uc608. `nn.TransformerEncoder <https://pytorch.org/docs/stable/generated/torch.nn.TransformerEncoder.html>`__ )\n\ub85c \uc27d\uac8c \uc801\uc6a9 \ubc0f \uad6c\uc131\ud560 \uc218 \uc788\uc2b5\ub2c8\ub2e4.\n\n![](../_static/img/transformer_architecture.jpg)\n\n"
      ]
    },
    {
      "cell_type": "markdown",
      "metadata": {},
      "source": [
        "\ubaa8\ub378 \uc815\uc758\ud558\uae30\n----------------\n\n\n"
      ]
    },
    {
      "cell_type": "markdown",
      "metadata": {},
      "source": [
        "\uc774 \ud29c\ud1a0\ub9ac\uc5bc\uc5d0\uc11c, \uc6b0\ub9ac\ub294 ``nn.TransformerEncoder`` \ubaa8\ub378\uc744 \uc5b8\uc5b4 \ubaa8\ub378\ub9c1(language modeling) \uacfc\uc81c\uc5d0 \ub300\ud574\uc11c \ud559\uc2b5\uc2dc\ud0ac \uac83\uc785\ub2c8\ub2e4.\n\uc5b8\uc5b4 \ubaa8\ub378\ub9c1 \uacfc\uc81c\ub294 \uc8fc\uc5b4\uc9c4 \ub2e8\uc5b4 (\ub610\ub294 \ub2e8\uc5b4\uc758 \uc2dc\ud000\uc2a4) \uac00 \ub2e4\uc74c\uc5d0 \uc774\uc5b4\uc9c0\ub294 \ub2e8\uc5b4 \uc2dc\ud000\uc2a4\ub97c \ub530\ub97c \uac00\ub2a5\uc131(likelihood)\uc5d0 \ub300\ud55c \ud655\ub960\uc744 \ud560\ub2f9\ud558\ub294 \uac83\uc785\ub2c8\ub2e4.\n\uba3c\uc800, \ud1a0\ud070(token) \ub4e4\uc758 \uc2dc\ud000\uc2a4\uac00 \uc784\ubca0\ub529(embedding) \ub808\uc774\uc5b4\ub85c \uc804\ub2ec\ub418\uba70, \uc774\uc5b4\uc11c \ud3ec\uc9c0\uc154\ub110 \uc778\ucf54\ub529(positional encoding) \ub808\uc774\uc5b4\uac00 \uac01 \ub2e8\uc5b4\uc758 \uc21c\uc11c\ub97c \uc124\uba85\ud569\ub2c8\ub2e4.\n(\ub354 \uc790\uc138\ud55c \uc124\uba85\uc740 \ub2e4\uc74c \ub2e8\ub77d\uc744 \ucc38\uace0\ud574\uc8fc\uc138\uc694.)\n``nn.TransformerEncoder`` \ub294 \uc5ec\ub7ec \uac1c\uc758\n`nn.TransformerEncoderLayer <https://pytorch.org/docs/stable/generated/torch.nn.TransformerEncoderLayer.html>`__\n\ub808\uc774\uc5b4\ub85c \uad6c\uc131\ub418\uc5b4 \uc788\uc2b5\ub2c8\ub2e4.\n``nn.TransformerEncoder`` \ub0b4\ubd80\uc758 \uc140\ud504-\uc5b4\ud150\uc158(self-attention) \ub808\uc774\uc5b4\ub4e4\uc740 \uc2dc\ud000\uc2a4 \uc548\uc5d0\uc11c\uc758 \uc774\uc804 \ud3ec\uc9c0\uc158\uc5d0\ub9cc \uc9d1\uc911\ud558\ub3c4\ub85d \ud5c8\uc6a9\ub418\uae30 \ub54c\ubb38\uc5d0,\n\uc785\ub825(input) \uc21c\uc11c\uc640 \ud568\uaed8, \uc815\uc0ac\uac01 \ud615\ud0dc\uc758 \uc5b4\ud150\uc158 \ub9c8\uc2a4\ud06c(attention mask) \uac00 \ud544\uc694\ud569\ub2c8\ub2e4.\n\uc5b8\uc5b4 \ubaa8\ub378\ub9c1 \uacfc\uc81c\ub97c \uc704\ud574\uc11c, \ubbf8\ub798\uc758 \ud3ec\uc9c0\uc158\uc5d0 \uc788\ub294 \ubaa8\ub4e0 \ud1a0\ud070\ub4e4\uc740 \ub9c8\uc2a4\ud0b9 \ub418\uc5b4\uc57c(\uac00\ub824\uc838\uc57c) \ud569\ub2c8\ub2e4.\n\uc2e4\uc81c \ub2e8\uc5b4\ub97c \uc5bb\uae30 \uc704\ud574\uc11c, ``nn.TransformerEncoder`` \uc758 \ucd9c\ub825\uc740 \ub85c\uadf8-\uc18c\ud504\ud2b8\ub9e5\uc2a4(log-Softmax) \ub85c \uc774\uc5b4\uc9c0\ub294 \ucd5c\uc885 \uc120\ud615(Linear) \ub808\uc774\uc5b4\ub85c \uc804\ub2ec \ub429\ub2c8\ub2e4.\n\n\n"
      ]
    },
    {
      "cell_type": "code",
      "execution_count": null,
      "metadata": {
        "collapsed": false
      },
      "outputs": [],
      "source": [
        "import math\nfrom typing import Tuple\n\nimport torch\nfrom torch import nn, Tensor\nimport torch.nn.functional as F\nfrom torch.nn import TransformerEncoder, TransformerEncoderLayer\nfrom torch.utils.data import dataset\n\nclass TransformerModel(nn.Module):\n\n    def __init__(self, ntoken: int, d_model: int, nhead: int, d_hid: int,\n                 nlayers: int, dropout: float = 0.5):\n        super().__init__()\n        self.model_type = 'Transformer'\n        self.pos_encoder = PositionalEncoding(d_model, dropout)\n        encoder_layers = TransformerEncoderLayer(d_model, nhead, d_hid, dropout)\n        self.transformer_encoder = TransformerEncoder(encoder_layers, nlayers)\n        self.encoder = nn.Embedding(ntoken, d_model)\n        self.d_model = d_model\n        self.decoder = nn.Linear(d_model, ntoken)\n\n        self.init_weights()\n\n    def init_weights(self) -> None:\n        initrange = 0.1\n        self.encoder.weight.data.uniform_(-initrange, initrange)\n        self.decoder.bias.data.zero_()\n        self.decoder.weight.data.uniform_(-initrange, initrange)\n\n    def forward(self, src: Tensor, src_mask: Tensor) -> Tensor:\n        \"\"\"\n        Args:\n            src: Tensor, shape [seq_len, batch_size]\n            src_mask: Tensor, shape [seq_len, seq_len]\n\n        Returns:\n            output Tensor of shape [seq_len, batch_size, ntoken]\n        \"\"\"\n        src = self.encoder(src) * math.sqrt(self.d_model)\n        src = self.pos_encoder(src)\n        output = self.transformer_encoder(src, src_mask)\n        output = self.decoder(output)\n        return output\n\n\ndef generate_square_subsequent_mask(sz: int) -> Tensor:\n    \"\"\"Generates an upper-triangular matrix of -inf, with zeros on diag.\"\"\"\n    return torch.triu(torch.ones(sz, sz) * float('-inf'), diagonal=1)"
      ]
    },
    {
      "cell_type": "markdown",
      "metadata": {},
      "source": [
        "``PositionalEncoding`` \ubaa8\ub4c8\uc740 \uc2dc\ud000\uc2a4 \uc548\uc5d0\uc11c \ud1a0\ud070\uc758 \uc0c1\ub300\uc801\uc778 \ub610\ub294 \uc808\ub300\uc801\uc778 \ud3ec\uc9c0\uc158\uc5d0 \ub300\ud55c \uc5b4\ub5a4 \uc815\ubcf4\ub97c \uc8fc\uc785\ud569\ub2c8\ub2e4.\n\ud3ec\uc9c0\uc154\ub110 \uc778\ucf54\ub529\uc740 \uc784\ubca0\ub529\uacfc \ud569\uce60 \uc218 \uc788\ub3c4\ub85d \ub611\uac19\uc740 \ucc28\uc6d0\uc744 \uac00\uc9d1\ub2c8\ub2e4.\n\uc5ec\uae30\uc5d0\uc11c, \uc6b0\ub9ac\ub294 \ub2e4\ub978 \uc8fc\ud30c\uc218(frequency) \uc758 ``sine`` \uacfc ``cosine`` \ud568\uc218\ub97c \uc0ac\uc6a9\ud569\ub2c8\ub2e4.\n\n\n"
      ]
    },
    {
      "cell_type": "code",
      "execution_count": null,
      "metadata": {
        "collapsed": false
      },
      "outputs": [],
      "source": [
        "class PositionalEncoding(nn.Module):\n\n    def __init__(self, d_model: int, dropout: float = 0.1, max_len: int = 5000):\n        super().__init__()\n        self.dropout = nn.Dropout(p=dropout)\n\n        position = torch.arange(max_len).unsqueeze(1)\n        div_term = torch.exp(torch.arange(0, d_model, 2) * (-math.log(10000.0) / d_model))\n        pe = torch.zeros(max_len, 1, d_model)\n        pe[:, 0, 0::2] = torch.sin(position * div_term)\n        pe[:, 0, 1::2] = torch.cos(position * div_term)\n        self.register_buffer('pe', pe)\n\n    def forward(self, x: Tensor) -> Tensor:\n        \"\"\"\n        Args:\n            x: Tensor, shape [seq_len, batch_size, embedding_dim]\n        \"\"\"\n        x = x + self.pe[:x.size(0)]\n        return self.dropout(x)"
      ]
    },
    {
      "cell_type": "markdown",
      "metadata": {},
      "source": [
        "\ub370\uc774\ud130 \ub85c\ub4dc\ud558\uace0 \ubc30\uce58 \ub9cc\ub4e4\uae30\n-----------------------------\n\n\n"
      ]
    },
    {
      "cell_type": "markdown",
      "metadata": {},
      "source": [
        "\uc774 \ud29c\ud1a0\ub9ac\uc5bc\uc5d0\uc11c\ub294 ``torchtext`` \ub97c \uc0ac\uc6a9\ud558\uc5ec Wikitext-2 \ub370\uc774\ud130\uc14b\uc744 \uc0dd\uc131\ud569\ub2c8\ub2e4.\ntorchtext \ub370\uc774\ud130\uc14b\uc5d0 \uc811\uadfc\ud558\uae30 \uc804\uc5d0, https://github.com/pytorch/data \uc744 \ucc38\uace0\ud558\uc5ec torchdata\ub97c \uc124\uce58\ud558\uc2dc\uae30 \ubc14\ub78d\ub2c8\ub2e4.\n\ub2e8\uc5b4 \uc624\ube0c\uc81d\ud2b8\ub294 \ud6c8\ub828 \ub370\uc774\ud130\uc14b(train dataset) \uc5d0 \uc758\ud558\uc5ec \ub9cc\ub4e4\uc5b4\uc9c0\uace0, \ud1a0\ud070(token)\uc744 \ud150\uc11c(tensor)\ub85c \uc218\uce58\ud654\ud558\ub294\ub370 \uc0ac\uc6a9\ub429\ub2c8\ub2e4.\nWikitext-2\uc5d0\uc11c \ubcf4\uae30 \ub4dc\ubbc4 \ud1a0\ud070(rare token)\uc740 `<unk>` \ub85c \ud45c\ud604\ub429\ub2c8\ub2e4.\n\n\uc8fc\uc5b4\uc9c4 1D \ubca1\ud130\uc758 \uc2dc\ud000\uc2a4 \ub370\uc774\ud130\uc5d0\uc11c, ``batchify()`` \ud568\uc218\ub294 \ub370\uc774\ud130\ub97c ``batch_size`` \uceec\ub7fc\ub4e4\ub85c \uc815\ub82c\ud569\ub2c8\ub2e4.\n\ub9cc\uc57d \ub370\uc774\ud130\uac00 ``batch_size`` \uceec\ub7fc\uc73c\ub85c \ub098\ub204\uc5b4 \ub5a8\uc5b4\uc9c0\uc9c0 \uc54a\uc73c\uba74, \ub370\uc774\ud130\ub97c \uc798\ub77c\ub0b4\uc11c \ub9de\ucda5\ub2c8\ub2e4.\n\uc608\ub97c \ub4e4\uc5b4 (\ucd1d \uae38\uc774 26\uc758) \uc54c\ud30c\ubcb3\uc744 \ub370\uc774\ud130\ub85c \ubcf4\uace0 ``batch_size=4`` \uc77c \ub54c, \uc54c\ud30c\ubcb3\uc740 \uae38\uc774\uac00 6\uc778 4\uac1c\uc758 \uc2dc\ud000\uc2a4\ub85c \ub098\ub220\uc9d1\ub2c8\ub2e4:\n\n\\begin{align}\\begin{bmatrix}\n  \\text{A} & \\text{B} & \\text{C} & \\ldots & \\text{X} & \\text{Y} & \\text{Z}\n  \\end{bmatrix}\n  \\Rightarrow\n  \\begin{bmatrix}\n  \\begin{bmatrix}\\text{A} \\\\ \\text{B} \\\\ \\text{C} \\\\ \\text{D} \\\\ \\text{E} \\\\ \\text{F}\\end{bmatrix} &\n  \\begin{bmatrix}\\text{G} \\\\ \\text{H} \\\\ \\text{I} \\\\ \\text{J} \\\\ \\text{K} \\\\ \\text{L}\\end{bmatrix} &\n  \\begin{bmatrix}\\text{M} \\\\ \\text{N} \\\\ \\text{O} \\\\ \\text{P} \\\\ \\text{Q} \\\\ \\text{R}\\end{bmatrix} &\n  \\begin{bmatrix}\\text{S} \\\\ \\text{T} \\\\ \\text{U} \\\\ \\text{V} \\\\ \\text{W} \\\\ \\text{X}\\end{bmatrix}\n  \\end{bmatrix}\\end{align}\n\n\ubc30\uce58 \uc791\uc5c5(batching)\uc740 \ub354 \ub9ce\uc740 \ubcd1\ub82c \ucc98\ub9ac\ub97c \uac00\ub2a5\ud558\uac8c \ud558\uc9c0\ub9cc, \ubaa8\ub378\uc774 \ub3c5\ub9bd\uc801\uc73c\ub85c \uac01 \uceec\ub7fc\ub4e4\uc744 \ucde8\uae09\ud574\uc57c \ud568\uc744 \ub73b\ud569\ub2c8\ub2e4;\n\uc608\ub97c \ub4e4\uc5b4, \uc704 \uc608\uc81c\uc5d0\uc11c ``G`` \uc640 ``F`` \uc758 \uc758\uc874\uc131(dependance)\uc740 \ud559\uc2b5\ub418\uc9c0 \uc54a\uc2b5\ub2c8\ub2e4.\n\n\n"
      ]
    },
    {
      "cell_type": "code",
      "execution_count": null,
      "metadata": {
        "collapsed": false
      },
      "outputs": [],
      "source": [
        "from torchtext.datasets import WikiText2\nfrom torchtext.data.utils import get_tokenizer\nfrom torchtext.vocab import build_vocab_from_iterator\n\ntrain_iter = WikiText2(split='train')\ntokenizer = get_tokenizer('basic_english')\nvocab = build_vocab_from_iterator(map(tokenizer, train_iter), specials=['<unk>'])\nvocab.set_default_index(vocab['<unk>'])\n\ndef data_process(raw_text_iter: dataset.IterableDataset) -> Tensor:\n    \"\"\"Converts raw text into a flat Tensor.\"\"\"\n    data = [torch.tensor(vocab(tokenizer(item)), dtype=torch.long) for item in raw_text_iter]\n    return torch.cat(tuple(filter(lambda t: t.numel() > 0, data)))\n\n# train_iter was \"consumed\" by the process of building the vocab,\n# so we have to create it again\ntrain_iter, val_iter, test_iter = WikiText2()\ntrain_data = data_process(train_iter)\nval_data = data_process(val_iter)\ntest_data = data_process(test_iter)\n\ndevice = torch.device('cuda' if torch.cuda.is_available() else 'cpu')\n\ndef batchify(data: Tensor, bsz: int) -> Tensor:\n    \"\"\"Divides the data into bsz separate sequences, removing extra elements\n    that wouldn't cleanly fit.\n\n    Args:\n        data: Tensor, shape [N]\n        bsz: int, batch size\n\n    Returns:\n        Tensor of shape [N // bsz, bsz]\n    \"\"\"\n    seq_len = data.size(0) // bsz\n    data = data[:seq_len * bsz]\n    data = data.view(bsz, seq_len).t().contiguous()\n    return data.to(device)\n\nbatch_size = 20\neval_batch_size = 10\ntrain_data = batchify(train_data, batch_size)  # shape [seq_len, batch_size]\nval_data = batchify(val_data, eval_batch_size)\ntest_data = batchify(test_data, eval_batch_size)"
      ]
    },
    {
      "cell_type": "markdown",
      "metadata": {},
      "source": [
        "\uc785\ub825(input) \uacfc \ud0c0\uac9f(target) \uc2dc\ud000\uc2a4\ub97c \uc0dd\uc131\ud558\uae30 \uc704\ud55c \ud568\uc218\ub4e4\n~~~~~~~~~~~~~~~~~~~~~~~~~~~~~~~~~~~~~~~~~~~~~~~~~~~~~~~~~~~\n\n\n"
      ]
    },
    {
      "cell_type": "markdown",
      "metadata": {},
      "source": [
        "``get_batch()`` \ud568\uc218\ub294 \ud2b8\ub79c\uc2a4\ud3ec\uba38 \ubaa8\ub378\uc744 \uc704\ud55c \uc785\ub825-\ud0c0\uac9f \uc2dc\ud000\uc2a4 \uc30d(pair)\uc744 \uc0dd\uc131\ud569\ub2c8\ub2e4.\n\uc774 \ud568\uc218\ub294 \uc18c\uc2a4 \ub370\uc774\ud130\ub97c ``bptt`` \uae38\uc774\ub97c \uac00\uc9c4 \ub369\uc5b4\ub9ac\ub85c \uc138\ubd84\ud654 \ud569\ub2c8\ub2e4.\n\uc5b8\uc5b4 \ubaa8\ub378\ub9c1 \uacfc\uc81c\ub97c \uc704\ud574\uc11c, \ubaa8\ub378\uc740 \ub2e4\uc74c \ub2e8\uc5b4\uc778 ``Target`` \uc774 \ud544\uc694 \ud569\ub2c8\ub2e4.\n\uc608\ub97c \ub4e4\uc5b4, ``bptt`` \uc758 \uac12\uc774 2 \ub77c\uba74, \uc6b0\ub9ac\ub294 ``i`` = 0 \uc77c \ub54c \ub2e4\uc74c\uc758 2 \uac1c\uc758 \ubcc0\uc218(Variable) \ub97c \uc5bb\uc744 \uc218 \uc788\uc2b5\ub2c8\ub2e4:\n\n![](../_static/img/transformer_input_target.png)\n\n\n\ubcc0\uc218 \ub369\uc5b4\ub9ac\ub294 \ud2b8\ub79c\uc2a4\ud3ec\uba38 \ubaa8\ub378\uc758 ``S`` \ucc28\uc6d0\uacfc \uc77c\uce58\ud558\ub294 0 \ucc28\uc6d0\uc5d0 \ud574\ub2f9\ud569\ub2c8\ub2e4.\n\ubc30\uce58 \ucc28\uc6d0 ``N`` \uc740 1 \ucc28\uc6d0\uc5d0 \ud574\ub2f9\ud569\ub2c8\ub2e4.\n\n\n"
      ]
    },
    {
      "cell_type": "code",
      "execution_count": null,
      "metadata": {
        "collapsed": false
      },
      "outputs": [],
      "source": [
        "bptt = 35\ndef get_batch(source: Tensor, i: int) -> Tuple[Tensor, Tensor]:\n    \"\"\"\n    Args:\n        source: Tensor, shape [full_seq_len, batch_size]\n        i: int\n\n    Returns:\n        tuple (data, target), where data has shape [seq_len, batch_size] and\n        target has shape [seq_len * batch_size]\n    \"\"\"\n    seq_len = min(bptt, len(source) - 1 - i)\n    data = source[i:i+seq_len]\n    target = source[i+1:i+1+seq_len].reshape(-1)\n    return data, target"
      ]
    },
    {
      "cell_type": "markdown",
      "metadata": {},
      "source": [
        "\uc778\uc2a4\ud134\uc2a4(instance) \ucd08\uae30\ud654\ud558\uae30\n--------------------------------\n\n\n"
      ]
    },
    {
      "cell_type": "markdown",
      "metadata": {},
      "source": [
        "\ubaa8\ub378\uc758 \ud558\uc774\ud37c\ud30c\ub77c\ubbf8\ud130(hyperparameter)\ub294 \uc544\ub798\uc640 \uac19\uc774 \uc815\uc758\ub429\ub2c8\ub2e4.\n\ub2e8\uc5b4 \uc0ac\uc774\uc988\ub294 \ub2e8\uc5b4 \uc624\ube0c\uc81d\ud2b8\uc758 \uae38\uc774\uc640 \uc77c\uce58 \ud569\ub2c8\ub2e4.\n\n\n"
      ]
    },
    {
      "cell_type": "code",
      "execution_count": null,
      "metadata": {
        "collapsed": false
      },
      "outputs": [],
      "source": [
        "ntokens = len(vocab) # \ub2e8\uc5b4 \uc0ac\uc804(\uc5b4\ud718\uc9d1)\uc758 \ud06c\uae30\nemsize = 200 # \uc784\ubca0\ub529 \ucc28\uc6d0\nd_hid = 200 # nn.TransformerEncoder \uc5d0\uc11c \ud53c\ub4dc\ud3ec\uc6cc\ub4dc \ub124\ud2b8\uc6cc\ud06c(feedforward network) \ubaa8\ub378\uc758 \ucc28\uc6d0\nnlayers = 2 # nn.TransformerEncoder \ub0b4\ubd80\uc758 nn.TransformerEncoderLayer \uac1c\uc218\nnhead = 2 # nn.MultiheadAttention\uc758 \ud5e4\ub4dc \uac1c\uc218\ndropout = 0.2 # \ub4dc\ub78d\uc544\uc6c3(dropout) \ud655\ub960\nmodel = TransformerModel(ntokens, emsize, nhead, d_hid, nlayers, dropout).to(device)"
      ]
    },
    {
      "cell_type": "markdown",
      "metadata": {},
      "source": [
        "\ubaa8\ub378 \uc2e4\ud589\ud558\uae30\n-------------\n\n\n"
      ]
    },
    {
      "cell_type": "markdown",
      "metadata": {},
      "source": [
        "`CrossEntropyLoss <https://pytorch.org/docs/stable/generated/torch.nn.CrossEntropyLoss.html>`__ \ub97c\n`SGD <https://pytorch.org/docs/stable/generated/torch.optim.SGD.html>`__ (\ud655\ub960\uc801 \uacbd\uc0ac \ud558\uac15\ubc95) \uc635\ud2f0\ub9c8\uc774\uc800(optimizer)\uc640\n\ud568\uaed8 \uc0ac\uc6a9\ud558\uc600\uc2b5\ub2c8\ub2e4. \ud559\uc2b5\ub960(learning rate)\ub294 5.0\uc73c\ub85c \ucd08\uae30\ud654\ud558\uc600\uc73c\uba70 `StepLR <https://pytorch.org/docs/master/optim.html?highlight=steplr#torch.optim.lr_scheduler.StepLR>`__\n\uc2a4\ucf00\uc974\uc744 \ub530\ub985\ub2c8\ub2e4. \ud559\uc2b5\ud558\ub294 \ub3d9\uc548, `nn.utils.clip_grad_norm\\_ <https://pytorch.org/docs/stable/generated/torch.nn.utils.clip_grad_norm_.html>`__\n\uc744 \uc0ac\uc6a9\ud558\uc5ec \uae30\uc6b8\uae30(gradient)\uac00 \ud3ed\ubc1c(exploding)\ud558\uc9c0 \uc54a\ub3c4\ub85d \ud569\ub2c8\ub2e4.\n\n\n"
      ]
    },
    {
      "cell_type": "code",
      "execution_count": null,
      "metadata": {
        "collapsed": false
      },
      "outputs": [],
      "source": [
        "import copy\nimport time\n\ncriterion = nn.CrossEntropyLoss()\nlr = 5.0  # \ud559\uc2b5\ub960(learning rate)\noptimizer = torch.optim.SGD(model.parameters(), lr=lr)\nscheduler = torch.optim.lr_scheduler.StepLR(optimizer, 1.0, gamma=0.95)\n\ndef train(model: nn.Module) -> None:\n    model.train()  # \ud559\uc2b5 \ubaa8\ub4dc \uc2dc\uc791\n    total_loss = 0.\n    log_interval = 200\n    start_time = time.time()\n    src_mask = generate_square_subsequent_mask(bptt).to(device)\n\n    num_batches = len(train_data) // bptt\n    for batch, i in enumerate(range(0, train_data.size(0) - 1, bptt)):\n        data, targets = get_batch(train_data, i)\n        batch_size = data.size(0)\n        if batch_size != bptt:  # \ub9c8\uc9c0\ub9c9 \ubc30\uce58\uc5d0\ub9cc \uc801\uc6a9\n            src_mask = src_mask[:batch_size, :batch_size]\n        output = model(data, src_mask)\n        loss = criterion(output.view(-1, ntokens), targets)\n\n        optimizer.zero_grad()\n        loss.backward()\n        torch.nn.utils.clip_grad_norm_(model.parameters(), 0.5)\n        optimizer.step()\n\n        total_loss += loss.item()\n        if batch % log_interval == 0 and batch > 0:\n            lr = scheduler.get_last_lr()[0]\n            ms_per_batch = (time.time() - start_time) * 1000 / log_interval\n            cur_loss = total_loss / log_interval\n            ppl = math.exp(cur_loss)\n            print(f'| epoch {epoch:3d} | {batch:5d}/{num_batches:5d} batches | '\n                  f'lr {lr:02.2f} | ms/batch {ms_per_batch:5.2f} | '\n                  f'loss {cur_loss:5.2f} | ppl {ppl:8.2f}')\n            total_loss = 0\n            start_time = time.time()\n\ndef evaluate(model: nn.Module, eval_data: Tensor) -> float:\n    model.eval()  # \ud3c9\uac00 \ubaa8\ub4dc \uc2dc\uc791\n    total_loss = 0.\n    src_mask = generate_square_subsequent_mask(bptt).to(device)\n    with torch.no_grad():\n        for i in range(0, eval_data.size(0) - 1, bptt):\n            data, targets = get_batch(eval_data, i)\n            batch_size = data.size(0)\n            if batch_size != bptt:\n                src_mask = src_mask[:batch_size, :batch_size]\n            output = model(data, src_mask)\n            output_flat = output.view(-1, ntokens)\n            total_loss += batch_size * criterion(output_flat, targets).item()\n    return total_loss / (len(eval_data) - 1)"
      ]
    },
    {
      "cell_type": "markdown",
      "metadata": {},
      "source": [
        "\uc5d0\ud3ec\ud06c \ub0b4\uc5d0\uc11c \ubc18\ubcf5\ub429\ub2c8\ub2e4. \ub9cc\uc57d \uac80\uc99d \uc624\ucc28(validation loss) \uac00 \uc6b0\ub9ac\uac00 \uc9c0\uae08\uae4c\uc9c0 \uad00\ucc30\ud55c \uac83 \uc911 \ucd5c\uc801\uc774\ub77c\uba74 \ubaa8\ub378\uc744 \uc800\uc7a5\ud569\ub2c8\ub2e4.\n\ub9e4 \uc5d0\ud3ec\ud06c \uc774\ud6c4\uc5d0 \ud559\uc2b5\ub960\uc744 \uc870\uc808\ud569\ub2c8\ub2e4.\n\n"
      ]
    },
    {
      "cell_type": "code",
      "execution_count": null,
      "metadata": {
        "collapsed": false
      },
      "outputs": [],
      "source": [
        "best_val_loss = float('inf')\nepochs = 3\nbest_model = None\n\nfor epoch in range(1, epochs + 1):\n    epoch_start_time = time.time()\n    train(model)\n    val_loss = evaluate(model, val_data)\n    val_ppl = math.exp(val_loss)\n    elapsed = time.time() - epoch_start_time\n    print('-' * 89)\n    print(f'| end of epoch {epoch:3d} | time: {elapsed:5.2f}s | '\n          f'valid loss {val_loss:5.2f} | valid ppl {val_ppl:8.2f}')\n    print('-' * 89)\n\n    if val_loss < best_val_loss:\n        best_val_loss = val_loss\n        best_model = copy.deepcopy(model)\n\n    scheduler.step()"
      ]
    },
    {
      "cell_type": "markdown",
      "metadata": {},
      "source": [
        "\ud3c9\uac00 \ub370\uc774\ud130\uc14b(test dataset)\uc73c\ub85c \ubaa8\ub378\uc744 \ud3c9\uac00\ud558\uae30\n-------------------------------------------------\n\n\n"
      ]
    },
    {
      "cell_type": "code",
      "execution_count": null,
      "metadata": {
        "collapsed": false
      },
      "outputs": [],
      "source": [
        "test_loss = evaluate(best_model, test_data)\ntest_ppl = math.exp(test_loss)\nprint('=' * 89)\nprint(f'| End of training | test loss {test_loss:5.2f} | '\n      f'test ppl {test_ppl:8.2f}')\nprint('=' * 89)"
      ]
    }
  ],
  "metadata": {
    "kernelspec": {
      "display_name": "Python 3",
      "language": "python",
      "name": "python3"
    },
    "language_info": {
      "codemirror_mode": {
        "name": "ipython",
        "version": 3
      },
      "file_extension": ".py",
      "mimetype": "text/x-python",
      "name": "python",
      "nbconvert_exporter": "python",
      "pygments_lexer": "ipython3",
      "version": "3.9.13"
    }
  },
  "nbformat": 4,
  "nbformat_minor": 0
}